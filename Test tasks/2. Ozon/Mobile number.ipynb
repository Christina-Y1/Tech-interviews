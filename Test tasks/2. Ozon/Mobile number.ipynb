{
 "cells": [
  {
   "cell_type": "markdown",
   "metadata": {},
   "source": [
    "## Python "
   ]
  },
  {
   "attachments": {},
   "cell_type": "markdown",
   "metadata": {},
   "source": [
    "M – номер мобильного телефона ( формат ввода 9999999999).  \n",
    "\n",
    "1.M должен быть в диапазоне от 9000000000 до 9999870000;  \n",
    "\n",
    "2.M не должен содержать пару цифр, которая повторяется (9001234567 – Ложь, так как 00 это пара повторяющихся цифр), но если цифры повторяются не в паре (три и более), то для условия это должна быть Истина (9000234567 – Истина, так как 0 повторяется не в паре 000).\n",
    "\n",
    "Пример для второго условия:  \n",
    "9180234567 – Истина – Все числа в примере уникальные  \n",
    "9900234567 – Ложь – Есть две повторяющиеся пары 99 и 00  \n",
    "9990234567 – Истина – Повторяющиеся значения находятся не в паре  \n",
    "\n",
    "Требования:  \n",
    "1 – Код должен быть с комментариями   \n",
    "2 – Пример Вывода:  \n",
    "«9001234567 – False – One alternating digit pairs »  \n",
    "«9009934567 – False – Two alternating digit pairs »  \n",
    "«9134934567 – True»  "
   ]
  },
  {
   "cell_type": "code",
   "execution_count": 2,
   "metadata": {},
   "outputs": [
    {
     "name": "stdout",
     "output_type": "stream",
     "text": [
      "9999870000\n",
      "True!\n"
     ]
    }
   ],
   "source": [
    "m = int(input())\n",
    "if 9000000000 <= m <= 9999870000:  # Проверяем диапазон\n",
    "    total = 0\n",
    "    flag = False\n",
    "\n",
    "    # Проверяем находятся ли повторяющиеся значения не в паре\n",
    "    a = str(m)\n",
    "    for i in range(len(a)):\n",
    "        if i + 2 < len(a) and a[i] == a[i + 1] == a[i + 2]:\n",
    "            flag = True\n",
    "            break\n",
    "        if i + 1 < len(a) and a[i] == a[i + 1]:\n",
    "            total += 1\n",
    "\n",
    "    # Переводим значение переменной из цифры в слово\n",
    "    total_new = str(total)\n",
    "    numbers = {'1': 'one', '2': 'two', '3': 'three', '4': 'four', '5': 'five', '6': 'six', '7': 'seven', \n",
    "               '8': 'eight','9': 'nine'}\n",
    "\n",
    "    for i in numbers:\n",
    "        if total_new in i:\n",
    "            total_new = numbers.get(i)\n",
    "\n",
    "    if total == 0 or flag:\n",
    "        print(\"True!\")\n",
    "    else:\n",
    "        print(f'{m} - False – {total_new} alternating digit pairs')\n",
    "\n",
    "else:\n",
    "    print('Try another mobile number')"
   ]
  },
  {
   "cell_type": "code",
   "execution_count": null,
   "metadata": {},
   "outputs": [],
   "source": []
  }
 ],
 "metadata": {
  "kernelspec": {
   "display_name": "Python 3",
   "language": "python",
   "name": "python3"
  }
 },
 "nbformat": 4,
 "nbformat_minor": 4
}

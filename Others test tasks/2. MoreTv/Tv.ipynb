{
 "cells": [
  {
   "cell_type": "markdown",
   "metadata": {},
   "source": [
    "## 1.  \n",
    "Есть три сундука с драгоценными камнями.  \n",
    "В первом сундуке лежат 5 рубинов и 3 изумруда, во втором – только рубины, а в третьем – только изумруды.  \n",
    "Случайно выбирается один сундук и из него случайно вытягивается один камень. Какова вероятность того, что это рубин? Поясните свой ответ."
   ]
  },
  {
   "cell_type": "markdown",
   "metadata": {},
   "source": [
    "**Формула полной вероятности**"
   ]
  },
  {
   "cell_type": "markdown",
   "metadata": {},
   "source": [
    "$$P(A) = P(B_1) \\cdot P(A\\:|\\:B_1) + P(B_2) \\cdot P(A\\:|\\:B_2) \\; + ... + \\; P(B_n) \\cdot P(A\\:|\\:B_n)$$\n"
   ]
  },
  {
   "cell_type": "markdown",
   "metadata": {},
   "source": [
    "Решим эту задачу с помощью формулы полной вероятности. Событием $A$ будем считать то, что достанут рубин, а событием $B$ — что выберут определенный сундук. Причем вероятность выбора одной из трех сундуков будет равна 1/3.\n",
    "\n",
    "Вероятность достать рубин при условии, что выбран первый сундук, равен 5/(3 + 5), то есть 5/8. При выборе второго сундука вероятность вынуть рубин равна 1, так как там лежат все рубины. В случае с третьим сундуком вероятность равна 0, так как там все камни - изумруды."
   ]
  },
  {
   "cell_type": "markdown",
   "metadata": {},
   "source": [
    "$$P(A) = \\frac{1}{3} \\cdot \\frac{5}{8} + \\frac{1}{3} \\cdot 1 + \\frac{1}{3} \\cdot 0 = \\frac{5}{24} + 0 + \\frac{1}{3} = \\frac{13}{24}$$"
   ]
  },
  {
   "cell_type": "code",
   "execution_count": 1,
   "metadata": {},
   "outputs": [
    {
     "data": {
      "text/plain": [
       "0.5416666666666666"
      ]
     },
     "execution_count": 1,
     "metadata": {},
     "output_type": "execute_result"
    }
   ],
   "source": [
    "P = 1/3 * 5/8 + 1/3 * 1 + 1/3 * 0\n",
    "P"
   ]
  },
  {
   "cell_type": "markdown",
   "metadata": {},
   "source": [
    "## 2. \n",
    "Есть таблица с данными по балансу на счете пользователя за каждый день. Записи уникальны по ключу user_id + date.  \n",
    "Дано: параметры date_min и date_max.  \n",
    "Задача: для каждого пользователя найти все диапазоны между date_min и date_max включительно, где баланс был непрерывно больше нуля;   вывести длину диапазона и средний баланс для каждого диапазона.  \n",
    "Пример: date_min = 01.05.2019; date_max = 05.05.2019"
   ]
  },
  {
   "cell_type": "code",
   "execution_count": 2,
   "metadata": {},
   "outputs": [],
   "source": [
    "import pandas as pd\n",
    "import numpy as np"
   ]
  },
  {
   "cell_type": "markdown",
   "metadata": {},
   "source": [
    "### Обзор данных"
   ]
  },
  {
   "cell_type": "markdown",
   "metadata": {},
   "source": [
    "* **user_id** - ID пользователя (varchar)\n",
    "* **date** - Дата (date)\n",
    "* **balance** - Баланс в рублях (int)"
   ]
  },
  {
   "cell_type": "code",
   "execution_count": 3,
   "metadata": {},
   "outputs": [
    {
     "data": {
      "text/html": [
       "<div>\n",
       "<style scoped>\n",
       "    .dataframe tbody tr th:only-of-type {\n",
       "        vertical-align: middle;\n",
       "    }\n",
       "\n",
       "    .dataframe tbody tr th {\n",
       "        vertical-align: top;\n",
       "    }\n",
       "\n",
       "    .dataframe thead th {\n",
       "        text-align: right;\n",
       "    }\n",
       "</style>\n",
       "<table border=\"1\" class=\"dataframe\">\n",
       "  <thead>\n",
       "    <tr style=\"text-align: right;\">\n",
       "      <th></th>\n",
       "      <th>user_id</th>\n",
       "      <th>date</th>\n",
       "      <th>balance</th>\n",
       "    </tr>\n",
       "  </thead>\n",
       "  <tbody>\n",
       "    <tr>\n",
       "      <th>0</th>\n",
       "      <td>abc001</td>\n",
       "      <td>01.05.2019</td>\n",
       "      <td>0</td>\n",
       "    </tr>\n",
       "    <tr>\n",
       "      <th>1</th>\n",
       "      <td>abc001</td>\n",
       "      <td>02.05.2019</td>\n",
       "      <td>100</td>\n",
       "    </tr>\n",
       "    <tr>\n",
       "      <th>2</th>\n",
       "      <td>abc001</td>\n",
       "      <td>03.05.2019</td>\n",
       "      <td>50</td>\n",
       "    </tr>\n",
       "    <tr>\n",
       "      <th>3</th>\n",
       "      <td>abc001</td>\n",
       "      <td>04.05.2019</td>\n",
       "      <td>30</td>\n",
       "    </tr>\n",
       "    <tr>\n",
       "      <th>4</th>\n",
       "      <td>abc001</td>\n",
       "      <td>05.05.2019</td>\n",
       "      <td>0</td>\n",
       "    </tr>\n",
       "    <tr>\n",
       "      <th>5</th>\n",
       "      <td>abc002</td>\n",
       "      <td>01.05.2019</td>\n",
       "      <td>100</td>\n",
       "    </tr>\n",
       "    <tr>\n",
       "      <th>6</th>\n",
       "      <td>abc002</td>\n",
       "      <td>02.05.2019</td>\n",
       "      <td>50</td>\n",
       "    </tr>\n",
       "    <tr>\n",
       "      <th>7</th>\n",
       "      <td>abc002</td>\n",
       "      <td>03.05.2019</td>\n",
       "      <td>0</td>\n",
       "    </tr>\n",
       "    <tr>\n",
       "      <th>8</th>\n",
       "      <td>abc002</td>\n",
       "      <td>04.05.2019</td>\n",
       "      <td>0</td>\n",
       "    </tr>\n",
       "    <tr>\n",
       "      <th>9</th>\n",
       "      <td>abc002</td>\n",
       "      <td>05.05.2019</td>\n",
       "      <td>200</td>\n",
       "    </tr>\n",
       "  </tbody>\n",
       "</table>\n",
       "</div>"
      ],
      "text/plain": [
       "  user_id        date  balance\n",
       "0  abc001  01.05.2019        0\n",
       "1  abc001  02.05.2019      100\n",
       "2  abc001  03.05.2019       50\n",
       "3  abc001  04.05.2019       30\n",
       "4  abc001  05.05.2019        0\n",
       "5  abc002  01.05.2019      100\n",
       "6  abc002  02.05.2019       50\n",
       "7  abc002  03.05.2019        0\n",
       "8  abc002  04.05.2019        0\n",
       "9  abc002  05.05.2019      200"
      ]
     },
     "execution_count": 3,
     "metadata": {},
     "output_type": "execute_result"
    }
   ],
   "source": [
    "data = {\n",
    "    \n",
    "    'user_id': ['abc001', 'abc001', 'abc001', 'abc001', 'abc001', 'abc002', 'abc002', 'abc002', 'abc002', 'abc002'],\n",
    "    'date': ['01.05.2019', '02.05.2019', '03.05.2019', '04.05.2019', '05.05.2019', '01.05.2019', '02.05.2019', '03.05.2019', '04.05.2019', '05.05.2019'],\n",
    "    'balance': [0, 100, 50, 30, 0, 100, 50, 0, 0, 200]  \n",
    "}\n",
    "\n",
    "df = pd.DataFrame(data)\n",
    "df"
   ]
  },
  {
   "cell_type": "code",
   "execution_count": 4,
   "metadata": {},
   "outputs": [],
   "source": [
    "df['date'] = pd.to_datetime(df['date'], format = '%d.%m.%Y') "
   ]
  },
  {
   "cell_type": "code",
   "execution_count": 5,
   "metadata": {},
   "outputs": [],
   "source": [
    "def build_report(df, date_min=None, date_max=None):\n",
    "    date_min = pd.to_datetime(date_min, format='%d.%m.%Y') if date_min else df['date'].min()\n",
    "    date_max = pd.to_datetime(date_max, format='%d.%m.%Y') if date_max else df['date'].max()\n",
    "    \n",
    "    dfc = df.copy()\n",
    "    dfc = dfc.loc[(dfc['date'] >= date_min) & (dfc['date'] <= date_max)] \n",
    "    \n",
    "    dfc.sort_values(by=['user_id', 'date'], inplace=True, ignore_index=True)\n",
    "    dfc['zero_cnt'] = (dfc['balance'] == 0).cumsum()\n",
    "    \n",
    "    report_df = dfc[dfc['balance'] != 0].groupby(['user_id', 'zero_cnt']).agg(\n",
    "    date_start = ('date', 'min'),\n",
    "    date_end = ('date', 'max'),\n",
    "    length = ('balance', 'count'),\n",
    "    balance_avg = ('balance', 'mean')).reset_index()\n",
    "        \n",
    "    return report_df"
   ]
  },
  {
   "cell_type": "code",
   "execution_count": 6,
   "metadata": {},
   "outputs": [
    {
     "data": {
      "text/html": [
       "<div>\n",
       "<style scoped>\n",
       "    .dataframe tbody tr th:only-of-type {\n",
       "        vertical-align: middle;\n",
       "    }\n",
       "\n",
       "    .dataframe tbody tr th {\n",
       "        vertical-align: top;\n",
       "    }\n",
       "\n",
       "    .dataframe thead th {\n",
       "        text-align: right;\n",
       "    }\n",
       "</style>\n",
       "<table border=\"1\" class=\"dataframe\">\n",
       "  <thead>\n",
       "    <tr style=\"text-align: right;\">\n",
       "      <th></th>\n",
       "      <th>user_id</th>\n",
       "      <th>zero_cnt</th>\n",
       "      <th>date_start</th>\n",
       "      <th>date_end</th>\n",
       "      <th>length</th>\n",
       "      <th>balance_avg</th>\n",
       "    </tr>\n",
       "  </thead>\n",
       "  <tbody>\n",
       "    <tr>\n",
       "      <th>0</th>\n",
       "      <td>abc001</td>\n",
       "      <td>1</td>\n",
       "      <td>2019-05-02</td>\n",
       "      <td>2019-05-04</td>\n",
       "      <td>3</td>\n",
       "      <td>60</td>\n",
       "    </tr>\n",
       "    <tr>\n",
       "      <th>1</th>\n",
       "      <td>abc002</td>\n",
       "      <td>2</td>\n",
       "      <td>2019-05-01</td>\n",
       "      <td>2019-05-02</td>\n",
       "      <td>2</td>\n",
       "      <td>75</td>\n",
       "    </tr>\n",
       "    <tr>\n",
       "      <th>2</th>\n",
       "      <td>abc002</td>\n",
       "      <td>4</td>\n",
       "      <td>2019-05-05</td>\n",
       "      <td>2019-05-05</td>\n",
       "      <td>1</td>\n",
       "      <td>200</td>\n",
       "    </tr>\n",
       "  </tbody>\n",
       "</table>\n",
       "</div>"
      ],
      "text/plain": [
       "  user_id  zero_cnt date_start   date_end  length  balance_avg\n",
       "0  abc001         1 2019-05-02 2019-05-04       3           60\n",
       "1  abc002         2 2019-05-01 2019-05-02       2           75\n",
       "2  abc002         4 2019-05-05 2019-05-05       1          200"
      ]
     },
     "execution_count": 6,
     "metadata": {},
     "output_type": "execute_result"
    }
   ],
   "source": [
    "build_report(df)"
   ]
  },
  {
   "cell_type": "code",
   "execution_count": 7,
   "metadata": {},
   "outputs": [
    {
     "data": {
      "text/html": [
       "<div>\n",
       "<style scoped>\n",
       "    .dataframe tbody tr th:only-of-type {\n",
       "        vertical-align: middle;\n",
       "    }\n",
       "\n",
       "    .dataframe tbody tr th {\n",
       "        vertical-align: top;\n",
       "    }\n",
       "\n",
       "    .dataframe thead th {\n",
       "        text-align: right;\n",
       "    }\n",
       "</style>\n",
       "<table border=\"1\" class=\"dataframe\">\n",
       "  <thead>\n",
       "    <tr style=\"text-align: right;\">\n",
       "      <th></th>\n",
       "      <th>user_id</th>\n",
       "      <th>zero_cnt</th>\n",
       "      <th>date_start</th>\n",
       "      <th>date_end</th>\n",
       "      <th>length</th>\n",
       "      <th>balance_avg</th>\n",
       "    </tr>\n",
       "  </thead>\n",
       "  <tbody>\n",
       "    <tr>\n",
       "      <th>0</th>\n",
       "      <td>abc001</td>\n",
       "      <td>0</td>\n",
       "      <td>2019-05-04</td>\n",
       "      <td>2019-05-04</td>\n",
       "      <td>1</td>\n",
       "      <td>30</td>\n",
       "    </tr>\n",
       "    <tr>\n",
       "      <th>1</th>\n",
       "      <td>abc002</td>\n",
       "      <td>2</td>\n",
       "      <td>2019-05-05</td>\n",
       "      <td>2019-05-05</td>\n",
       "      <td>1</td>\n",
       "      <td>200</td>\n",
       "    </tr>\n",
       "  </tbody>\n",
       "</table>\n",
       "</div>"
      ],
      "text/plain": [
       "  user_id  zero_cnt date_start   date_end  length  balance_avg\n",
       "0  abc001         0 2019-05-04 2019-05-04       1           30\n",
       "1  abc002         2 2019-05-05 2019-05-05       1          200"
      ]
     },
     "execution_count": 7,
     "metadata": {},
     "output_type": "execute_result"
    }
   ],
   "source": [
    "build_report(df, date_min='04.05.2019', date_max='05.05.2019')"
   ]
  }
 ],
 "metadata": {
  "kernelspec": {
   "display_name": "Python 3",
   "language": "python",
   "name": "python3"
  },
  "language_info": {
   "codemirror_mode": {
    "name": "ipython",
    "version": 3
   },
   "file_extension": ".py",
   "mimetype": "text/x-python",
   "name": "python",
   "nbconvert_exporter": "python",
   "pygments_lexer": "ipython3",
   "version": "3.7.9"
  }
 },
 "nbformat": 4,
 "nbformat_minor": 4
}

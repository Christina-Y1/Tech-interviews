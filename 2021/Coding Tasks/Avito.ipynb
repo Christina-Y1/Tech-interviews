{
 "cells": [
  {
   "cell_type": "code",
   "execution_count": 2,
   "metadata": {},
   "outputs": [],
   "source": [
    "import numpy as np\n",
    "import scipy.stats as stats\n",
    "from math import sqrt\n",
    "from math import factorial"
   ]
  },
  {
   "cell_type": "markdown",
   "metadata": {},
   "source": [
    "## 1. \n",
    "В клиентской базе менеджера 12 разных компаний одного сегмента. Сколькими способами можно выбрать 5 любых компаний для обзвона?"
   ]
  },
  {
   "cell_type": "code",
   "execution_count": 35,
   "metadata": {},
   "outputs": [
    {
     "data": {
      "text/plain": [
       "792.0"
      ]
     },
     "execution_count": 35,
     "metadata": {},
     "output_type": "execute_result"
    }
   ],
   "source": [
    "# сочетание\n",
    "factorial(12) / (factorial(12-5) * factorial(5))"
   ]
  },
  {
   "cell_type": "markdown",
   "metadata": {},
   "source": [
    "## 2. \n",
    "В корзине лежит 5 шаров - 4 белых и 1 синий. Найдите мат ожидание попыток извлечения без возвращения, которое понадобится, чтобы вынуть синий шар"
   ]
  },
  {
   "cell_type": "code",
   "execution_count": null,
   "metadata": {},
   "outputs": [],
   "source": []
  },
  {
   "cell_type": "markdown",
   "metadata": {},
   "source": [
    "## 3. \n",
    "Перед вами набор чисел. Напишите код, который находит медиану. Значение округлить до круглого числа"
   ]
  },
  {
   "cell_type": "code",
   "execution_count": 2,
   "metadata": {},
   "outputs": [],
   "source": [
    "l = [20, 13, 10, 19, 8, 3, 6, 8, 0, 1, 15, 4]"
   ]
  },
  {
   "cell_type": "code",
   "execution_count": 3,
   "metadata": {},
   "outputs": [],
   "source": [
    "def median(a):\n",
    "    a.sort()\n",
    "    if len(a) % 2 == 0:\n",
    "        return int((a[len(a) // 2] + a[(len(a) - 1) // 2]) / 2)\n",
    "    else:\n",
    "        return int(a[len(a) // 2])"
   ]
  },
  {
   "cell_type": "code",
   "execution_count": 4,
   "metadata": {},
   "outputs": [
    {
     "data": {
      "text/plain": [
       "8"
      ]
     },
     "execution_count": 4,
     "metadata": {},
     "output_type": "execute_result"
    }
   ],
   "source": [
    "median(l)"
   ]
  },
  {
   "cell_type": "markdown",
   "metadata": {},
   "source": [
    "## 4. \n",
    "Мы провели промо-акцию 2 раза. Первый раз из 38 писем 26 пользователей перешли по ссылке. Во второй раз 98 писем - 42 перехода.  Есть ли разница CTR между акциями на уровне значимости 0.05?\n",
    "\n",
    "В ответе укажите p-value с точностью 3 знаков после запятой"
   ]
  },
  {
   "cell_type": "code",
   "execution_count": 4,
   "metadata": {},
   "outputs": [
    {
     "data": {
      "text/plain": [
       "0.007"
      ]
     },
     "execution_count": 4,
     "metadata": {},
     "output_type": "execute_result"
    }
   ],
   "source": [
    "0.007"
   ]
  },
  {
   "cell_type": "markdown",
   "metadata": {},
   "source": [
    "## 5.\n",
    "Перед вами 2 набора чисел. Найдите их пересечение без дубликатов. Ответ вывести в виде отсортированного по возрастанию списка\n",
    "\n",
    "8, 11, 5, 10, 3\n",
    "\n",
    "19, 3, 21, 3, 5, 2, 11"
   ]
  },
  {
   "cell_type": "code",
   "execution_count": 28,
   "metadata": {},
   "outputs": [],
   "source": [
    "a = [8, 11, 5, 10, 3]\n",
    "b = [19, 3, 21, 3, 5, 2, 11]"
   ]
  },
  {
   "cell_type": "code",
   "execution_count": 29,
   "metadata": {},
   "outputs": [
    {
     "data": {
      "text/plain": [
       "[3, 5, 11]"
      ]
     },
     "execution_count": 29,
     "metadata": {},
     "output_type": "execute_result"
    }
   ],
   "source": [
    "c = list(set(a) & set(b))\n",
    "c.sort()\n",
    "c"
   ]
  },
  {
   "cell_type": "markdown",
   "metadata": {},
   "source": [
    "## 6. \n",
    "В клиентской базе менеджера 12 разных компаний одного сегмента. Две из них нужно обзвонить срочно. Сколькими способами можно выделить 5 компаний для обзвона, чтобы обязательно включить хотя бы одну из двух."
   ]
  },
  {
   "cell_type": "code",
   "execution_count": 11,
   "metadata": {},
   "outputs": [
    {
     "data": {
      "text/plain": [
       "792.0"
      ]
     },
     "execution_count": 11,
     "metadata": {},
     "output_type": "execute_result"
    }
   ],
   "source": [
    "factorial(12) / (factorial(12-5) * factorial(5))"
   ]
  },
  {
   "cell_type": "code",
   "execution_count": 12,
   "metadata": {},
   "outputs": [
    {
     "data": {
      "text/plain": [
       "252.0"
      ]
     },
     "execution_count": 12,
     "metadata": {},
     "output_type": "execute_result"
    }
   ],
   "source": [
    "factorial(10) / (factorial(10-5) * factorial(5))"
   ]
  },
  {
   "cell_type": "code",
   "execution_count": 13,
   "metadata": {},
   "outputs": [
    {
     "data": {
      "text/plain": [
       "540"
      ]
     },
     "execution_count": 13,
     "metadata": {},
     "output_type": "execute_result"
    }
   ],
   "source": [
    "792-252"
   ]
  },
  {
   "cell_type": "markdown",
   "metadata": {},
   "source": [
    "## 7.\n",
    "Некая компания решила внедрить новый платный продукт. Случайным образом выбрала пользователей для теста. В итоге продуктом воспользовались 1000 человек, это их средние чеки. Менеджер попросил оценить медианный средний чек, как если бы продукт был бы доступен всем пользователям - для этого постройте **95% доверительный интервал.**"
   ]
  },
  {
   "cell_type": "code",
   "execution_count": 3,
   "metadata": {},
   "outputs": [],
   "source": [
    "def conf_int(mean, std, n, alpha, ppf):\n",
    "    return (mean - std/sqrt(n)*ppf(1-alpha/2), mean + std/sqrt(n)*ppf(1-alpha/2))"
   ]
  },
  {
   "cell_type": "code",
   "execution_count": 4,
   "metadata": {},
   "outputs": [],
   "source": [
    "bills =[466,481,744,709,1922,57,329,42,314,257,274,83,44,813,217,538,17,83,458,52,71,216,424,30,249,571,163,192,179,1819,77,121,679,135,67,467,93,119,152,722,612,308,39,110,445,235,78,292,303,571,745,238,517,116,22,183,149,629,881,857,103,443,143,251,3851,391,571,78,68,110,327,167,83,39,108,161,359,424,95,67,288,3163,83,344,629,733,124,119,481,554,17,599,405,371,30,454,245,539,119,142,554,159,454,219,62,452,467,560,250,75,42,107,428,554,263,359,54,71,53,90,803,143,1166,18,415,83,305,730,439,122,3348,427,109,319,182,593,552,465,83,368,571,353,379,74,83,268,2464,83,158,530,527,159,191,253,419,52,80,314,283,981,1122,17,106,938,369,419,583,949,52,263,502,524,108,128,749,198,359,501,17,140,554,3032,1129,224,483,571,68,96,290,55,83,59,345,119,808,329,233,143,144,141,176,170,799,19,174,39,808,795,71,558,315,453,163,37,52,94,180,71,173,242,125,186,62,506,250,141,389,591,89,100,467,35,114,187,439,83,233,36,358,439,158,52,291,42,23,148,19,72,272,1250,136,145,406,315,149,57,656,23,398,599,504,337,219,333,448,651,83,67,28,215,134,167,4587,68,52,527,233,374,43,38,308,349,776,44,324,454,653,656,51,39,183,463,723,99,288,17,39,333,300,410,29,99,438,83,83,106,818,102,67,192,97,786,571,503,349,171,866,484,67,108,133,571,110,116,404,171,67,231,100,571,271,359,3416,510,588,454,211,571,285,305,17,183,53,156,810,90,117,218,159,27,39,172,373,302,467,185,162,226,52,78,2099,23,844,430,163,701,59,115,61,472,243,245,752,42,571,620,141,18,33,27,47,114,171,439,504,35,793,570,117,136,631,75,660,19,536,439,308,1848,219,78,405,331,500,285,108,585,274,112,539,454,717,659,677,29,47,415,119,339,107,198,42,150,316,607,301,136,52,1267,79,592,483,144,538,17,203,709,158,83,414,42,561,309,79,237,450,140,163,52,17,378,39,205,102,375,63,37,82,172,82,252,199,508,17,449,219,291,141,119,881,77,67,13,180,286,5008,1696,571,359,717,349,454,302,454,635,255,599,804,239,52,329,63,142,107,454,100,484,39,130,147,81,826,185,3158,239,219,42,345,68,113,506,755,448,358,881,17,876,215,308,33,241,439,358,42,191,146,17,153,439,174,439,1428,833,212,50,110,389,191,61,274,91,77,97,344,612,46,395,41,677,71,415,74,52,1116,83,78,29,52,1064,81,64,387,135,66,234,71,271,219,52,79,1420,228,35,6071,149,120,191,333,233,153,119,201,67,583,349,483,17,778,243,67,164,58,204,273,236,876,208,17,143,58,158,969,238,119,1018,629,17,176,774,183,343,245,75,461,39,66,645,208,207,83,319,409,52,808,833,417,507,439,122,143,329,348,203,184,113,1414,200,927,503,329,349,74,45,389,260,439,669,272,187,377,499,57,4675,139,746,77,17,367,125,41,451,137,227,266,18,516,522,557,163,350,439,439,112,329,136,163,57,19,40,179,284,193,108,219,19,389,137,58,56,422,274,135,571,534,136,709,183,83,44,337,117,27,153,68,167,132,96,775,234,123,55,99,52,102,188,527,389,70,52,1340,454,186,55,388,149,227,263,66,29,133,624,6187,153,108,263,119,219,94,191,83,127,52,54,52,582,242,152,201,359,308,8658,75,67,349,422,89,52,59,577,188,68,59,136,4,298,268,179,52,46,493,645,67,439,68,103,459,371,361,562,283,206,92,373,266,57,42,79,74,112,266,107,104,128,19,349,349,2475,550,14,78,57,273,48,483,313,709,43,390,460,18,463,114,571,353,19,19,276,265,102,255,324,113,14,43,2252,571,490,1404,527,454,1428,99,39,140,5237,52,128,561,68,391,389,133,1343,320,329,213,253,167,249,249,496,220,173,439,337,274,492,571,28,149,145,68,1130,405,47,360,1126,9454,110,253,289,289,349,404,240,107,573,18,776,219,158,512,728,122,492,59,1995,109,452,60,404,329,237,799,190,396,1358,75,33,674,281,39,43,42,174,188,439,313,83,301,18,67,244,634,68,233,52,57,136,433,103,258,227,818,83,68,78,19,35,63,413,224,1043,71,301,31,464,292,191,50,379,1096,213,660,143,172,466,369,263,17,101,6266,50,102,449,128,236,220,79,379,387,163,421,52,506,67,435,439,583,17,559,321,325,1567,527,133,440,420,1288,144,314,285,764,231,379,14,66,349,163,465,39,448,701,248,199,77,7339,18,182,578,39]"
   ]
  },
  {
   "cell_type": "code",
   "execution_count": 5,
   "metadata": {},
   "outputs": [
    {
     "data": {
      "text/plain": [
       "0.95"
      ]
     },
     "execution_count": 5,
     "metadata": {},
     "output_type": "execute_result"
    }
   ],
   "source": [
    "p = 0.95\n",
    "p"
   ]
  },
  {
   "cell_type": "code",
   "execution_count": 6,
   "metadata": {},
   "outputs": [],
   "source": [
    "n = 1000"
   ]
  },
  {
   "cell_type": "code",
   "execution_count": 7,
   "metadata": {},
   "outputs": [
    {
     "data": {
      "text/plain": [
       "385.218"
      ]
     },
     "execution_count": 7,
     "metadata": {},
     "output_type": "execute_result"
    }
   ],
   "source": [
    "mean = np.mean(bills)\n",
    "mean"
   ]
  },
  {
   "cell_type": "code",
   "execution_count": 8,
   "metadata": {},
   "outputs": [
    {
     "data": {
      "text/plain": [
       "731.1222717523056"
      ]
     },
     "execution_count": 8,
     "metadata": {},
     "output_type": "execute_result"
    }
   ],
   "source": [
    "sigma = np.std(bills, ddof=1) # несмещенная оценка\n",
    "sigma"
   ]
  },
  {
   "cell_type": "code",
   "execution_count": 9,
   "metadata": {},
   "outputs": [
    {
     "data": {
      "text/plain": [
       "0.050000000000000044"
      ]
     },
     "execution_count": 9,
     "metadata": {},
     "output_type": "execute_result"
    }
   ],
   "source": [
    "alpha = 1 - p\n",
    "alpha"
   ]
  },
  {
   "cell_type": "code",
   "execution_count": 10,
   "metadata": {},
   "outputs": [
    {
     "data": {
      "text/plain": [
       "1.9623414611334487"
      ]
     },
     "execution_count": 10,
     "metadata": {},
     "output_type": "execute_result"
    }
   ],
   "source": [
    "stats.t.ppf(1 - alpha / 2, 999)"
   ]
  },
  {
   "cell_type": "code",
   "execution_count": 11,
   "metadata": {},
   "outputs": [],
   "source": [
    "def t(q):\n",
    "    return stats.t.ppf(q, n - 1)"
   ]
  },
  {
   "cell_type": "code",
   "execution_count": 12,
   "metadata": {},
   "outputs": [
    {
     "data": {
      "text/plain": [
       "1.9623414611334487"
      ]
     },
     "execution_count": 12,
     "metadata": {},
     "output_type": "execute_result"
    }
   ],
   "source": [
    "t(1 - alpha / 2)"
   ]
  },
  {
   "cell_type": "code",
   "execution_count": 13,
   "metadata": {},
   "outputs": [
    {
     "data": {
      "text/plain": [
       "(339.8484372608055, 430.58756273919454)"
      ]
     },
     "execution_count": 13,
     "metadata": {},
     "output_type": "execute_result"
    }
   ],
   "source": [
    "conf_int(mean, sigma, n, alpha, t)"
   ]
  }
 ],
 "metadata": {
  "kernelspec": {
   "display_name": "Python 3 (ipykernel)",
   "language": "python",
   "name": "python3"
  },
  "language_info": {
   "codemirror_mode": {
    "name": "ipython",
    "version": 3
   },
   "file_extension": ".py",
   "mimetype": "text/x-python",
   "name": "python",
   "nbconvert_exporter": "python",
   "pygments_lexer": "ipython3",
   "version": "3.10.9"
  },
  "varInspector": {
   "cols": {
    "lenName": 16,
    "lenType": 16,
    "lenVar": 40
   },
   "kernels_config": {
    "python": {
     "delete_cmd_postfix": "",
     "delete_cmd_prefix": "del ",
     "library": "var_list.py",
     "varRefreshCmd": "print(var_dic_list())"
    },
    "r": {
     "delete_cmd_postfix": ") ",
     "delete_cmd_prefix": "rm(",
     "library": "var_list.r",
     "varRefreshCmd": "cat(var_dic_list()) "
    }
   },
   "types_to_exclude": [
    "module",
    "function",
    "builtin_function_or_method",
    "instance",
    "_Feature"
   ],
   "window_display": false
  }
 },
 "nbformat": 4,
 "nbformat_minor": 4
}

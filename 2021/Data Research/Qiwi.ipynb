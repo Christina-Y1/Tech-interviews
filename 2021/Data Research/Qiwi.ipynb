{
 "cells": [
  {
   "cell_type": "markdown",
   "metadata": {},
   "source": [
    "## Задание\n",
    "На сайте QIWI-кошелька, на форме сотовой связи был проведен АБ-тест, группы были сформированы случайным образом. Задача - ответить на вопрос команды - \"Какой вариант лучше?\""
   ]
  },
  {
   "cell_type": "markdown",
   "metadata": {},
   "source": [
    "## Подключение библиотек и скриптов"
   ]
  },
  {
   "cell_type": "code",
   "execution_count": 1,
   "metadata": {},
   "outputs": [],
   "source": [
    "import pandas as pd\n",
    "import numpy as np\n",
    "\n",
    "import matplotlib\n",
    "import matplotlib.image as img\n",
    "import matplotlib.pyplot as plt\n",
    "import seaborn as sns\n",
    "import scipy.stats as stats\n",
    "\n",
    "\n",
    "%matplotlib inline\n",
    "%config InlineBackend.figure_format = 'png'"
   ]
  },
  {
   "cell_type": "code",
   "execution_count": 2,
   "metadata": {},
   "outputs": [],
   "source": [
    "plt.style.use('seaborn-bright')\n",
    "plt.rcParams['figure.figsize'] = (6, 4)\n",
    "matplotlib.rcParams.update({'font.size': 14})"
   ]
  },
  {
   "cell_type": "code",
   "execution_count": 3,
   "metadata": {},
   "outputs": [],
   "source": [
    "pd.set_option('display.float_format', lambda x: '%.2f' % x)\n",
    "pd.set_option('display.max_rows', 50)"
   ]
  },
  {
   "cell_type": "code",
   "execution_count": 4,
   "metadata": {},
   "outputs": [],
   "source": [
    "import warnings\n",
    "warnings.filterwarnings('ignore')\n",
    "warnings.simplefilter('ignore')"
   ]
  },
  {
   "cell_type": "markdown",
   "metadata": {},
   "source": [
    "#### Путь к директориям и файлам"
   ]
  },
  {
   "cell_type": "code",
   "execution_count": 5,
   "metadata": {},
   "outputs": [],
   "source": [
    "DATASET_PATH = r'/Users/Kristina/Desktop/EDA/test/test_qiwi.csv'"
   ]
  },
  {
   "cell_type": "markdown",
   "metadata": {},
   "source": [
    "## Загрузка данных"
   ]
  },
  {
   "cell_type": "markdown",
   "metadata": {},
   "source": [
    "- **datetime_of_event** - дата и время совершения события\n",
    "- **user_id** - уникальный идентификатор пользователя\n",
    "- **event** - события, фиксируются на клиенте (OpenPage, PaymentSuccess)\n",
    "- **success_flag** - флаг успешной транзакции (1 - успешная, 0 - неуспешная)\n",
    "- **test_group** - группа теста. А - контрольная группа(старая форма оплаты), B - тестовая группа(новая форма оплаты)\n",
    "- **provider** - Оператор сотовой связи на который была произведена оплата (фиксируется только для успешных транзакций на сервере)\n",
    "- **amount** - Сумма оплаты (фиксируется только для успешных транзакций на сервере)"
   ]
  },
  {
   "cell_type": "code",
   "execution_count": 6,
   "metadata": {},
   "outputs": [
    {
     "data": {
      "text/html": [
       "<div>\n",
       "<style scoped>\n",
       "    .dataframe tbody tr th:only-of-type {\n",
       "        vertical-align: middle;\n",
       "    }\n",
       "\n",
       "    .dataframe tbody tr th {\n",
       "        vertical-align: top;\n",
       "    }\n",
       "\n",
       "    .dataframe thead th {\n",
       "        text-align: right;\n",
       "    }\n",
       "</style>\n",
       "<table border=\"1\" class=\"dataframe\">\n",
       "  <thead>\n",
       "    <tr style=\"text-align: right;\">\n",
       "      <th></th>\n",
       "      <th>datetime_of_event</th>\n",
       "      <th>user_id</th>\n",
       "      <th>event</th>\n",
       "      <th>success_flag</th>\n",
       "      <th>test_group</th>\n",
       "      <th>provider</th>\n",
       "      <th>amount</th>\n",
       "    </tr>\n",
       "  </thead>\n",
       "  <tbody>\n",
       "    <tr>\n",
       "      <th>0</th>\n",
       "      <td>2016-06-13 23:31:57.800</td>\n",
       "      <td>548e37dfa2690defe92201412ff9b02f</td>\n",
       "      <td>OpenPage</td>\n",
       "      <td>0</td>\n",
       "      <td>A</td>\n",
       "      <td>NaN</td>\n",
       "      <td>nan</td>\n",
       "    </tr>\n",
       "    <tr>\n",
       "      <th>1</th>\n",
       "      <td>2016-06-07 04:14:20.700</td>\n",
       "      <td>2c2205ffc0501665f64bf0703185b6d8</td>\n",
       "      <td>OpenPage</td>\n",
       "      <td>0</td>\n",
       "      <td>A</td>\n",
       "      <td>NaN</td>\n",
       "      <td>nan</td>\n",
       "    </tr>\n",
       "    <tr>\n",
       "      <th>2</th>\n",
       "      <td>2016-06-09 23:40:11.700</td>\n",
       "      <td>0b89952e0a145ffc36ea063e401e475c</td>\n",
       "      <td>OpenPage</td>\n",
       "      <td>0</td>\n",
       "      <td>B</td>\n",
       "      <td>NaN</td>\n",
       "      <td>nan</td>\n",
       "    </tr>\n",
       "    <tr>\n",
       "      <th>3</th>\n",
       "      <td>2016-06-16 12:35:21.800</td>\n",
       "      <td>6b6cc68c9a10b163c147b08be78f1cb2</td>\n",
       "      <td>OpenPage</td>\n",
       "      <td>0</td>\n",
       "      <td>B</td>\n",
       "      <td>NaN</td>\n",
       "      <td>nan</td>\n",
       "    </tr>\n",
       "    <tr>\n",
       "      <th>4</th>\n",
       "      <td>2016-06-14 09:42:25.000</td>\n",
       "      <td>8a154919eefdcf48814a69da0b841e87</td>\n",
       "      <td>OpenPage</td>\n",
       "      <td>0</td>\n",
       "      <td>A</td>\n",
       "      <td>NaN</td>\n",
       "      <td>nan</td>\n",
       "    </tr>\n",
       "  </tbody>\n",
       "</table>\n",
       "</div>"
      ],
      "text/plain": [
       "         datetime_of_event                           user_id     event  \\\n",
       "0  2016-06-13 23:31:57.800  548e37dfa2690defe92201412ff9b02f  OpenPage   \n",
       "1  2016-06-07 04:14:20.700  2c2205ffc0501665f64bf0703185b6d8  OpenPage   \n",
       "2  2016-06-09 23:40:11.700  0b89952e0a145ffc36ea063e401e475c  OpenPage   \n",
       "3  2016-06-16 12:35:21.800  6b6cc68c9a10b163c147b08be78f1cb2  OpenPage   \n",
       "4  2016-06-14 09:42:25.000  8a154919eefdcf48814a69da0b841e87  OpenPage   \n",
       "\n",
       "   success_flag test_group provider  amount  \n",
       "0             0          A      NaN     nan  \n",
       "1             0          A      NaN     nan  \n",
       "2             0          B      NaN     nan  \n",
       "3             0          B      NaN     nan  \n",
       "4             0          A      NaN     nan  "
      ]
     },
     "execution_count": 6,
     "metadata": {},
     "output_type": "execute_result"
    }
   ],
   "source": [
    "df = pd.read_csv(DATASET_PATH)\n",
    "df.head()"
   ]
  },
  {
   "cell_type": "code",
   "execution_count": 7,
   "metadata": {},
   "outputs": [
    {
     "data": {
      "text/plain": [
       "(97230, 7)"
      ]
     },
     "execution_count": 7,
     "metadata": {},
     "output_type": "execute_result"
    }
   ],
   "source": [
    "df.shape"
   ]
  },
  {
   "cell_type": "code",
   "execution_count": 8,
   "metadata": {},
   "outputs": [
    {
     "name": "stdout",
     "output_type": "stream",
     "text": [
      "<class 'pandas.core.frame.DataFrame'>\n",
      "RangeIndex: 97230 entries, 0 to 97229\n",
      "Data columns (total 7 columns):\n",
      " #   Column             Non-Null Count  Dtype  \n",
      "---  ------             --------------  -----  \n",
      " 0   datetime_of_event  97230 non-null  object \n",
      " 1   user_id            97230 non-null  object \n",
      " 2   event              97230 non-null  object \n",
      " 3   success_flag       97230 non-null  int64  \n",
      " 4   test_group         97229 non-null  object \n",
      " 5   provider           29930 non-null  object \n",
      " 6   amount             29930 non-null  float64\n",
      "dtypes: float64(1), int64(1), object(5)\n",
      "memory usage: 5.2+ MB\n"
     ]
    }
   ],
   "source": [
    "df.info()"
   ]
  },
  {
   "cell_type": "code",
   "execution_count": 9,
   "metadata": {},
   "outputs": [
    {
     "data": {
      "text/plain": [
       "datetime_of_event    96106\n",
       "user_id              68648\n",
       "event                    2\n",
       "success_flag             2\n",
       "test_group               2\n",
       "provider                 4\n",
       "amount                3630\n",
       "dtype: int64"
      ]
     },
     "execution_count": 9,
     "metadata": {},
     "output_type": "execute_result"
    }
   ],
   "source": [
    "df.nunique()"
   ]
  },
  {
   "cell_type": "code",
   "execution_count": 10,
   "metadata": {},
   "outputs": [
    {
     "data": {
      "text/plain": [
       "datetime_of_event        0\n",
       "user_id                  0\n",
       "event                    0\n",
       "success_flag             0\n",
       "test_group               1\n",
       "provider             67300\n",
       "amount               67300\n",
       "dtype: int64"
      ]
     },
     "execution_count": 10,
     "metadata": {},
     "output_type": "execute_result"
    }
   ],
   "source": [
    "df.isna().sum()"
   ]
  },
  {
   "cell_type": "markdown",
   "metadata": {},
   "source": [
    "## Обзор данных"
   ]
  },
  {
   "cell_type": "markdown",
   "metadata": {},
   "source": [
    "#### Категориальные переменные"
   ]
  },
  {
   "cell_type": "code",
   "execution_count": 11,
   "metadata": {},
   "outputs": [
    {
     "name": "stdout",
     "output_type": "stream",
     "text": [
      "datetime_of_event\n",
      "\n",
      "2016-06-15 11:10:54.900    3\n",
      "2016-06-15 13:55:01.100    3\n",
      "2016-06-11 19:51:49.900    3\n",
      "2016-06-16 13:19:19.700    3\n",
      "2016-06-16 18:55:42.700    3\n",
      "                          ..\n",
      "2016-06-11 10:39:46.300    1\n",
      "2016-06-11 20:09:21.300    1\n",
      "2016-06-07 20:25:23.500    1\n",
      "2016-06-11 03:21:15.200    1\n",
      "2016-06-11 19:13:52.600    1\n",
      "Name: datetime_of_event, Length: 96106, dtype: int64\n",
      "----------------------------------------------------------------------------------------------------\n",
      "\n",
      "user_id\n",
      "\n",
      "4118a432b767d136b1adb4d2a82ce32c    35\n",
      "fa77b42f47b4b5ac8ec0803c04cd8298    22\n",
      "88aa45358e24f366cc6b64d81680b70c    21\n",
      "cd1a50c1af1b4089855e22dac3fd23f7    21\n",
      "817a4b6e475770881fcf98bb1adf39df    19\n",
      "                                    ..\n",
      "9a9da365003a8ab1c75ed1d61a0a663c     1\n",
      "57b760864a4485db9e44ce67a360242c     1\n",
      "1b9fc80ded10f51cbf14fa9f14f91237     1\n",
      "44147206799ad50cc427a9a6916c063e     1\n",
      "3fe3cc9fa5f3a652ce0b1cfefa17e1fd     1\n",
      "Name: user_id, Length: 68648, dtype: int64\n",
      "----------------------------------------------------------------------------------------------------\n",
      "\n",
      "event\n",
      "\n",
      "OpenPage          60489\n",
      "PaymentSuccess    36741\n",
      "Name: event, dtype: int64\n",
      "----------------------------------------------------------------------------------------------------\n",
      "\n",
      "test_group\n",
      "\n",
      "A    50782\n",
      "B    46447\n",
      "Name: test_group, dtype: int64\n",
      "----------------------------------------------------------------------------------------------------\n",
      "\n",
      "provider\n",
      "\n",
      "QIWI Онлайн     10141\n",
      "QIWI Телеком     8941\n",
      "QIWI Привет      6363\n",
      "QIWI Мобайл      4485\n",
      "Name: provider, dtype: int64\n",
      "----------------------------------------------------------------------------------------------------\n",
      "\n"
     ]
    }
   ],
   "source": [
    "for obj in df.select_dtypes(include='object').columns:\n",
    "    print(str(obj) + '\\n\\n' + str(df[obj].value_counts()) + '\\n' + '-' * 100 + '\\n')"
   ]
  },
  {
   "cell_type": "markdown",
   "metadata": {},
   "source": [
    "#### Количественные переменные"
   ]
  },
  {
   "cell_type": "code",
   "execution_count": 12,
   "metadata": {},
   "outputs": [
    {
     "data": {
      "text/html": [
       "<div>\n",
       "<style scoped>\n",
       "    .dataframe tbody tr th:only-of-type {\n",
       "        vertical-align: middle;\n",
       "    }\n",
       "\n",
       "    .dataframe tbody tr th {\n",
       "        vertical-align: top;\n",
       "    }\n",
       "\n",
       "    .dataframe thead th {\n",
       "        text-align: right;\n",
       "    }\n",
       "</style>\n",
       "<table border=\"1\" class=\"dataframe\">\n",
       "  <thead>\n",
       "    <tr style=\"text-align: right;\">\n",
       "      <th></th>\n",
       "      <th>success_flag</th>\n",
       "      <th>amount</th>\n",
       "    </tr>\n",
       "  </thead>\n",
       "  <tbody>\n",
       "    <tr>\n",
       "      <th>count</th>\n",
       "      <td>97230.00</td>\n",
       "      <td>29930.00</td>\n",
       "    </tr>\n",
       "    <tr>\n",
       "      <th>mean</th>\n",
       "      <td>0.31</td>\n",
       "      <td>435.78</td>\n",
       "    </tr>\n",
       "    <tr>\n",
       "      <th>std</th>\n",
       "      <td>0.46</td>\n",
       "      <td>906.70</td>\n",
       "    </tr>\n",
       "    <tr>\n",
       "      <th>min</th>\n",
       "      <td>0.00</td>\n",
       "      <td>1.00</td>\n",
       "    </tr>\n",
       "    <tr>\n",
       "      <th>25%</th>\n",
       "      <td>0.00</td>\n",
       "      <td>30.00</td>\n",
       "    </tr>\n",
       "    <tr>\n",
       "      <th>50%</th>\n",
       "      <td>0.00</td>\n",
       "      <td>100.00</td>\n",
       "    </tr>\n",
       "    <tr>\n",
       "      <th>75%</th>\n",
       "      <td>1.00</td>\n",
       "      <td>320.00</td>\n",
       "    </tr>\n",
       "    <tr>\n",
       "      <th>max</th>\n",
       "      <td>1.00</td>\n",
       "      <td>14998.00</td>\n",
       "    </tr>\n",
       "  </tbody>\n",
       "</table>\n",
       "</div>"
      ],
      "text/plain": [
       "       success_flag   amount\n",
       "count      97230.00 29930.00\n",
       "mean           0.31   435.78\n",
       "std            0.46   906.70\n",
       "min            0.00     1.00\n",
       "25%            0.00    30.00\n",
       "50%            0.00   100.00\n",
       "75%            1.00   320.00\n",
       "max            1.00 14998.00"
      ]
     },
     "execution_count": 12,
     "metadata": {},
     "output_type": "execute_result"
    }
   ],
   "source": [
    "df.describe()"
   ]
  },
  {
   "cell_type": "code",
   "execution_count": 13,
   "metadata": {},
   "outputs": [
    {
     "data": {
      "text/html": [
       "<div>\n",
       "<style scoped>\n",
       "    .dataframe tbody tr th:only-of-type {\n",
       "        vertical-align: middle;\n",
       "    }\n",
       "\n",
       "    .dataframe tbody tr th {\n",
       "        vertical-align: top;\n",
       "    }\n",
       "\n",
       "    .dataframe thead th {\n",
       "        text-align: right;\n",
       "    }\n",
       "</style>\n",
       "<table border=\"1\" class=\"dataframe\">\n",
       "  <thead>\n",
       "    <tr style=\"text-align: right;\">\n",
       "      <th></th>\n",
       "      <th>datetime_of_event</th>\n",
       "      <th>user_id</th>\n",
       "      <th>event</th>\n",
       "      <th>success_flag</th>\n",
       "      <th>test_group</th>\n",
       "      <th>provider</th>\n",
       "      <th>amount</th>\n",
       "    </tr>\n",
       "  </thead>\n",
       "  <tbody>\n",
       "    <tr>\n",
       "      <th>0</th>\n",
       "      <td>2016-06-13 23:31:57.800</td>\n",
       "      <td>548e37dfa2690defe92201412ff9b02f</td>\n",
       "      <td>OpenPage</td>\n",
       "      <td>0</td>\n",
       "      <td>A</td>\n",
       "      <td>NaN</td>\n",
       "      <td>nan</td>\n",
       "    </tr>\n",
       "    <tr>\n",
       "      <th>1</th>\n",
       "      <td>2016-06-07 04:14:20.700</td>\n",
       "      <td>2c2205ffc0501665f64bf0703185b6d8</td>\n",
       "      <td>OpenPage</td>\n",
       "      <td>0</td>\n",
       "      <td>A</td>\n",
       "      <td>NaN</td>\n",
       "      <td>nan</td>\n",
       "    </tr>\n",
       "    <tr>\n",
       "      <th>2</th>\n",
       "      <td>2016-06-09 23:40:11.700</td>\n",
       "      <td>0b89952e0a145ffc36ea063e401e475c</td>\n",
       "      <td>OpenPage</td>\n",
       "      <td>0</td>\n",
       "      <td>B</td>\n",
       "      <td>NaN</td>\n",
       "      <td>nan</td>\n",
       "    </tr>\n",
       "    <tr>\n",
       "      <th>3</th>\n",
       "      <td>2016-06-16 12:35:21.800</td>\n",
       "      <td>6b6cc68c9a10b163c147b08be78f1cb2</td>\n",
       "      <td>OpenPage</td>\n",
       "      <td>0</td>\n",
       "      <td>B</td>\n",
       "      <td>NaN</td>\n",
       "      <td>nan</td>\n",
       "    </tr>\n",
       "    <tr>\n",
       "      <th>4</th>\n",
       "      <td>2016-06-14 09:42:25.000</td>\n",
       "      <td>8a154919eefdcf48814a69da0b841e87</td>\n",
       "      <td>OpenPage</td>\n",
       "      <td>0</td>\n",
       "      <td>A</td>\n",
       "      <td>NaN</td>\n",
       "      <td>nan</td>\n",
       "    </tr>\n",
       "    <tr>\n",
       "      <th>...</th>\n",
       "      <td>...</td>\n",
       "      <td>...</td>\n",
       "      <td>...</td>\n",
       "      <td>...</td>\n",
       "      <td>...</td>\n",
       "      <td>...</td>\n",
       "      <td>...</td>\n",
       "    </tr>\n",
       "    <tr>\n",
       "      <th>97225</th>\n",
       "      <td>2016-06-12 17:12:47.700</td>\n",
       "      <td>eed3ed6c01e59c37c6464e41bc066076</td>\n",
       "      <td>OpenPage</td>\n",
       "      <td>0</td>\n",
       "      <td>B</td>\n",
       "      <td>NaN</td>\n",
       "      <td>nan</td>\n",
       "    </tr>\n",
       "    <tr>\n",
       "      <th>97226</th>\n",
       "      <td>2016-06-15 05:40:57.200</td>\n",
       "      <td>33c9bb81b998ca0f1e8d24dd18273a54</td>\n",
       "      <td>OpenPage</td>\n",
       "      <td>0</td>\n",
       "      <td>B</td>\n",
       "      <td>NaN</td>\n",
       "      <td>nan</td>\n",
       "    </tr>\n",
       "    <tr>\n",
       "      <th>97227</th>\n",
       "      <td>2016-06-08 11:15:57.400</td>\n",
       "      <td>857fa51168a167166d244e760b6c0141</td>\n",
       "      <td>OpenPage</td>\n",
       "      <td>0</td>\n",
       "      <td>B</td>\n",
       "      <td>NaN</td>\n",
       "      <td>nan</td>\n",
       "    </tr>\n",
       "    <tr>\n",
       "      <th>97228</th>\n",
       "      <td>2016-06-11 18:24:07.600</td>\n",
       "      <td>3209ddc552fb40b183fade449f19ef85</td>\n",
       "      <td>OpenPage</td>\n",
       "      <td>0</td>\n",
       "      <td>A</td>\n",
       "      <td>NaN</td>\n",
       "      <td>nan</td>\n",
       "    </tr>\n",
       "    <tr>\n",
       "      <th>97229</th>\n",
       "      <td>2016-06-06 12:47:49.200</td>\n",
       "      <td>0abfd05710531852ad0bcc9c932c3993</td>\n",
       "      <td>PaymentSuccess</td>\n",
       "      <td>1</td>\n",
       "      <td>A</td>\n",
       "      <td>QIWI Мобайл</td>\n",
       "      <td>88.00</td>\n",
       "    </tr>\n",
       "  </tbody>\n",
       "</table>\n",
       "<p>97230 rows × 7 columns</p>\n",
       "</div>"
      ],
      "text/plain": [
       "             datetime_of_event                           user_id  \\\n",
       "0      2016-06-13 23:31:57.800  548e37dfa2690defe92201412ff9b02f   \n",
       "1      2016-06-07 04:14:20.700  2c2205ffc0501665f64bf0703185b6d8   \n",
       "2      2016-06-09 23:40:11.700  0b89952e0a145ffc36ea063e401e475c   \n",
       "3      2016-06-16 12:35:21.800  6b6cc68c9a10b163c147b08be78f1cb2   \n",
       "4      2016-06-14 09:42:25.000  8a154919eefdcf48814a69da0b841e87   \n",
       "...                        ...                               ...   \n",
       "97225  2016-06-12 17:12:47.700  eed3ed6c01e59c37c6464e41bc066076   \n",
       "97226  2016-06-15 05:40:57.200  33c9bb81b998ca0f1e8d24dd18273a54   \n",
       "97227  2016-06-08 11:15:57.400  857fa51168a167166d244e760b6c0141   \n",
       "97228  2016-06-11 18:24:07.600  3209ddc552fb40b183fade449f19ef85   \n",
       "97229  2016-06-06 12:47:49.200  0abfd05710531852ad0bcc9c932c3993   \n",
       "\n",
       "                event  success_flag test_group     provider  amount  \n",
       "0            OpenPage             0          A          NaN     nan  \n",
       "1            OpenPage             0          A          NaN     nan  \n",
       "2            OpenPage             0          B          NaN     nan  \n",
       "3            OpenPage             0          B          NaN     nan  \n",
       "4            OpenPage             0          A          NaN     nan  \n",
       "...               ...           ...        ...          ...     ...  \n",
       "97225        OpenPage             0          B          NaN     nan  \n",
       "97226        OpenPage             0          B          NaN     nan  \n",
       "97227        OpenPage             0          B          NaN     nan  \n",
       "97228        OpenPage             0          A          NaN     nan  \n",
       "97229  PaymentSuccess             1          A  QIWI Мобайл   88.00  \n",
       "\n",
       "[97230 rows x 7 columns]"
      ]
     },
     "execution_count": 13,
     "metadata": {},
     "output_type": "execute_result"
    }
   ],
   "source": [
    "df"
   ]
  },
  {
   "cell_type": "markdown",
   "metadata": {},
   "source": [
    "## Решение"
   ]
  },
  {
   "cell_type": "markdown",
   "metadata": {},
   "source": [
    "### Обработка пропусков & выбросов"
   ]
  },
  {
   "cell_type": "markdown",
   "metadata": {},
   "source": [
    "Выше видим, что есть одно незаполненное значение в %test_group% - убираем его из датасета"
   ]
  },
  {
   "cell_type": "code",
   "execution_count": 14,
   "metadata": {},
   "outputs": [],
   "source": [
    "df = df[pd.notnull(df['test_group'])]"
   ]
  },
  {
   "cell_type": "code",
   "execution_count": 15,
   "metadata": {},
   "outputs": [
    {
     "data": {
      "text/plain": [
       "0"
      ]
     },
     "execution_count": 15,
     "metadata": {},
     "output_type": "execute_result"
    }
   ],
   "source": [
    "df['test_group'].isna().sum()"
   ]
  },
  {
   "cell_type": "code",
   "execution_count": 16,
   "metadata": {},
   "outputs": [
    {
     "data": {
      "text/plain": [
       "68647"
      ]
     },
     "execution_count": 16,
     "metadata": {},
     "output_type": "execute_result"
    }
   ],
   "source": [
    "df['user_id'].unique().shape[0]"
   ]
  },
  {
   "cell_type": "code",
   "execution_count": 17,
   "metadata": {},
   "outputs": [
    {
     "data": {
      "text/html": [
       "<div>\n",
       "<style scoped>\n",
       "    .dataframe tbody tr th:only-of-type {\n",
       "        vertical-align: middle;\n",
       "    }\n",
       "\n",
       "    .dataframe tbody tr th {\n",
       "        vertical-align: top;\n",
       "    }\n",
       "\n",
       "    .dataframe thead th {\n",
       "        text-align: right;\n",
       "    }\n",
       "</style>\n",
       "<table border=\"1\" class=\"dataframe\">\n",
       "  <thead>\n",
       "    <tr style=\"text-align: right;\">\n",
       "      <th></th>\n",
       "      <th>test_group</th>\n",
       "      <th>user_id</th>\n",
       "      <th>count</th>\n",
       "    </tr>\n",
       "  </thead>\n",
       "  <tbody>\n",
       "    <tr>\n",
       "      <th>0</th>\n",
       "      <td>A</td>\n",
       "      <td>4118a432b767d136b1adb4d2a82ce32c</td>\n",
       "      <td>35</td>\n",
       "    </tr>\n",
       "    <tr>\n",
       "      <th>1</th>\n",
       "      <td>A</td>\n",
       "      <td>fa77b42f47b4b5ac8ec0803c04cd8298</td>\n",
       "      <td>22</td>\n",
       "    </tr>\n",
       "    <tr>\n",
       "      <th>2</th>\n",
       "      <td>A</td>\n",
       "      <td>cd1a50c1af1b4089855e22dac3fd23f7</td>\n",
       "      <td>21</td>\n",
       "    </tr>\n",
       "    <tr>\n",
       "      <th>3</th>\n",
       "      <td>A</td>\n",
       "      <td>88aa45358e24f366cc6b64d81680b70c</td>\n",
       "      <td>21</td>\n",
       "    </tr>\n",
       "    <tr>\n",
       "      <th>4</th>\n",
       "      <td>A</td>\n",
       "      <td>817a4b6e475770881fcf98bb1adf39df</td>\n",
       "      <td>19</td>\n",
       "    </tr>\n",
       "    <tr>\n",
       "      <th>...</th>\n",
       "      <td>...</td>\n",
       "      <td>...</td>\n",
       "      <td>...</td>\n",
       "    </tr>\n",
       "    <tr>\n",
       "      <th>69497</th>\n",
       "      <td>A</td>\n",
       "      <td>bedc4a16130c08928c6277e535b19d28</td>\n",
       "      <td>1</td>\n",
       "    </tr>\n",
       "    <tr>\n",
       "      <th>69498</th>\n",
       "      <td>A</td>\n",
       "      <td>bedfe80d16a3c76b358285535e7a7b2d</td>\n",
       "      <td>1</td>\n",
       "    </tr>\n",
       "    <tr>\n",
       "      <th>69499</th>\n",
       "      <td>A</td>\n",
       "      <td>bee3b9ca480c8c14cebf1e05298aece2</td>\n",
       "      <td>1</td>\n",
       "    </tr>\n",
       "    <tr>\n",
       "      <th>69500</th>\n",
       "      <td>A</td>\n",
       "      <td>bee47d2b2747da68218d60adce3971ce</td>\n",
       "      <td>1</td>\n",
       "    </tr>\n",
       "    <tr>\n",
       "      <th>69501</th>\n",
       "      <td>A</td>\n",
       "      <td>f9601200c476c8af2477b461b1a1b5da</td>\n",
       "      <td>1</td>\n",
       "    </tr>\n",
       "  </tbody>\n",
       "</table>\n",
       "<p>69502 rows × 3 columns</p>\n",
       "</div>"
      ],
      "text/plain": [
       "      test_group                           user_id  count\n",
       "0              A  4118a432b767d136b1adb4d2a82ce32c     35\n",
       "1              A  fa77b42f47b4b5ac8ec0803c04cd8298     22\n",
       "2              A  cd1a50c1af1b4089855e22dac3fd23f7     21\n",
       "3              A  88aa45358e24f366cc6b64d81680b70c     21\n",
       "4              A  817a4b6e475770881fcf98bb1adf39df     19\n",
       "...          ...                               ...    ...\n",
       "69497          A  bedc4a16130c08928c6277e535b19d28      1\n",
       "69498          A  bedfe80d16a3c76b358285535e7a7b2d      1\n",
       "69499          A  bee3b9ca480c8c14cebf1e05298aece2      1\n",
       "69500          A  bee47d2b2747da68218d60adce3971ce      1\n",
       "69501          A  f9601200c476c8af2477b461b1a1b5da      1\n",
       "\n",
       "[69502 rows x 3 columns]"
      ]
     },
     "execution_count": 17,
     "metadata": {},
     "output_type": "execute_result"
    }
   ],
   "source": [
    "df.groupby(['test_group', 'user_id']).size().reset_index(name='count') \\\n",
    "      .sort_values(['count'], ascending=[False])                                         \\\n",
    "      .reset_index(drop = True)"
   ]
  },
  {
   "cell_type": "markdown",
   "metadata": {},
   "source": [
    "Из таблиц выше видим, что часть пользователей попала в 2 группы, так как мы знаем, что уникальных пользователей %n_users% у нас 68647.\n",
    "\n",
    "\n",
    "Это может создать шум в данных, так как для AB тестов пользователи должны находится в одной определенной группе, не пересекаясь с другой.  \n",
    "Поэтому я удалю юзеров %user_id%, которые попали в две группы одновременно. "
   ]
  },
  {
   "cell_type": "code",
   "execution_count": 18,
   "metadata": {},
   "outputs": [
    {
     "data": {
      "text/html": [
       "<div>\n",
       "<style scoped>\n",
       "    .dataframe tbody tr th:only-of-type {\n",
       "        vertical-align: middle;\n",
       "    }\n",
       "\n",
       "    .dataframe tbody tr th {\n",
       "        vertical-align: top;\n",
       "    }\n",
       "\n",
       "    .dataframe thead th {\n",
       "        text-align: right;\n",
       "    }\n",
       "</style>\n",
       "<table border=\"1\" class=\"dataframe\">\n",
       "  <thead>\n",
       "    <tr style=\"text-align: right;\">\n",
       "      <th></th>\n",
       "      <th>user_id</th>\n",
       "      <th>test_group</th>\n",
       "    </tr>\n",
       "  </thead>\n",
       "  <tbody>\n",
       "    <tr>\n",
       "      <th>0</th>\n",
       "      <td>548e37dfa2690defe92201412ff9b02f</td>\n",
       "      <td>A</td>\n",
       "    </tr>\n",
       "    <tr>\n",
       "      <th>1</th>\n",
       "      <td>2c2205ffc0501665f64bf0703185b6d8</td>\n",
       "      <td>A</td>\n",
       "    </tr>\n",
       "    <tr>\n",
       "      <th>4</th>\n",
       "      <td>8a154919eefdcf48814a69da0b841e87</td>\n",
       "      <td>A</td>\n",
       "    </tr>\n",
       "    <tr>\n",
       "      <th>6</th>\n",
       "      <td>85e878f911af797a61126c49ef317509</td>\n",
       "      <td>A</td>\n",
       "    </tr>\n",
       "    <tr>\n",
       "      <th>7</th>\n",
       "      <td>269fec11aba1ba9189f637f26e20d98d</td>\n",
       "      <td>A</td>\n",
       "    </tr>\n",
       "    <tr>\n",
       "      <th>...</th>\n",
       "      <td>...</td>\n",
       "      <td>...</td>\n",
       "    </tr>\n",
       "    <tr>\n",
       "      <th>97212</th>\n",
       "      <td>011ed2ac9e21123f52e9f3088f163d23</td>\n",
       "      <td>A</td>\n",
       "    </tr>\n",
       "    <tr>\n",
       "      <th>97215</th>\n",
       "      <td>977807ddbb0300326446e863809e2ce9</td>\n",
       "      <td>A</td>\n",
       "    </tr>\n",
       "    <tr>\n",
       "      <th>97223</th>\n",
       "      <td>ded1303e92783ec4ee06ee1d47de4302</td>\n",
       "      <td>A</td>\n",
       "    </tr>\n",
       "    <tr>\n",
       "      <th>97228</th>\n",
       "      <td>3209ddc552fb40b183fade449f19ef85</td>\n",
       "      <td>A</td>\n",
       "    </tr>\n",
       "    <tr>\n",
       "      <th>97229</th>\n",
       "      <td>0abfd05710531852ad0bcc9c932c3993</td>\n",
       "      <td>A</td>\n",
       "    </tr>\n",
       "  </tbody>\n",
       "</table>\n",
       "<p>50782 rows × 2 columns</p>\n",
       "</div>"
      ],
      "text/plain": [
       "                                user_id test_group\n",
       "0      548e37dfa2690defe92201412ff9b02f          A\n",
       "1      2c2205ffc0501665f64bf0703185b6d8          A\n",
       "4      8a154919eefdcf48814a69da0b841e87          A\n",
       "6      85e878f911af797a61126c49ef317509          A\n",
       "7      269fec11aba1ba9189f637f26e20d98d          A\n",
       "...                                 ...        ...\n",
       "97212  011ed2ac9e21123f52e9f3088f163d23          A\n",
       "97215  977807ddbb0300326446e863809e2ce9          A\n",
       "97223  ded1303e92783ec4ee06ee1d47de4302          A\n",
       "97228  3209ddc552fb40b183fade449f19ef85          A\n",
       "97229  0abfd05710531852ad0bcc9c932c3993          A\n",
       "\n",
       "[50782 rows x 2 columns]"
      ]
     },
     "execution_count": 18,
     "metadata": {},
     "output_type": "execute_result"
    }
   ],
   "source": [
    "df_group_a = df[df['test_group'] == 'A']\n",
    "df_group_a[['user_id', 'test_group']] "
   ]
  },
  {
   "cell_type": "code",
   "execution_count": 19,
   "metadata": {},
   "outputs": [
    {
     "data": {
      "text/html": [
       "<div>\n",
       "<style scoped>\n",
       "    .dataframe tbody tr th:only-of-type {\n",
       "        vertical-align: middle;\n",
       "    }\n",
       "\n",
       "    .dataframe tbody tr th {\n",
       "        vertical-align: top;\n",
       "    }\n",
       "\n",
       "    .dataframe thead th {\n",
       "        text-align: right;\n",
       "    }\n",
       "</style>\n",
       "<table border=\"1\" class=\"dataframe\">\n",
       "  <thead>\n",
       "    <tr style=\"text-align: right;\">\n",
       "      <th></th>\n",
       "      <th>user_id</th>\n",
       "      <th>test_group</th>\n",
       "    </tr>\n",
       "  </thead>\n",
       "  <tbody>\n",
       "    <tr>\n",
       "      <th>2</th>\n",
       "      <td>0b89952e0a145ffc36ea063e401e475c</td>\n",
       "      <td>B</td>\n",
       "    </tr>\n",
       "    <tr>\n",
       "      <th>3</th>\n",
       "      <td>6b6cc68c9a10b163c147b08be78f1cb2</td>\n",
       "      <td>B</td>\n",
       "    </tr>\n",
       "    <tr>\n",
       "      <th>5</th>\n",
       "      <td>8157d52e8757d4058408a793ea72841b</td>\n",
       "      <td>B</td>\n",
       "    </tr>\n",
       "    <tr>\n",
       "      <th>9</th>\n",
       "      <td>827212df88e9079d835d39955edf1ef5</td>\n",
       "      <td>B</td>\n",
       "    </tr>\n",
       "    <tr>\n",
       "      <th>11</th>\n",
       "      <td>ea01fd6087f469711185aa1fa8d67108</td>\n",
       "      <td>B</td>\n",
       "    </tr>\n",
       "    <tr>\n",
       "      <th>...</th>\n",
       "      <td>...</td>\n",
       "      <td>...</td>\n",
       "    </tr>\n",
       "    <tr>\n",
       "      <th>97222</th>\n",
       "      <td>6cf8151ea9ddafd3b9fae9eac5283dcf</td>\n",
       "      <td>B</td>\n",
       "    </tr>\n",
       "    <tr>\n",
       "      <th>97224</th>\n",
       "      <td>5745352852802c3ad3f6e67afbc9d6ce</td>\n",
       "      <td>B</td>\n",
       "    </tr>\n",
       "    <tr>\n",
       "      <th>97225</th>\n",
       "      <td>eed3ed6c01e59c37c6464e41bc066076</td>\n",
       "      <td>B</td>\n",
       "    </tr>\n",
       "    <tr>\n",
       "      <th>97226</th>\n",
       "      <td>33c9bb81b998ca0f1e8d24dd18273a54</td>\n",
       "      <td>B</td>\n",
       "    </tr>\n",
       "    <tr>\n",
       "      <th>97227</th>\n",
       "      <td>857fa51168a167166d244e760b6c0141</td>\n",
       "      <td>B</td>\n",
       "    </tr>\n",
       "  </tbody>\n",
       "</table>\n",
       "<p>46447 rows × 2 columns</p>\n",
       "</div>"
      ],
      "text/plain": [
       "                                user_id test_group\n",
       "2      0b89952e0a145ffc36ea063e401e475c          B\n",
       "3      6b6cc68c9a10b163c147b08be78f1cb2          B\n",
       "5      8157d52e8757d4058408a793ea72841b          B\n",
       "9      827212df88e9079d835d39955edf1ef5          B\n",
       "11     ea01fd6087f469711185aa1fa8d67108          B\n",
       "...                                 ...        ...\n",
       "97222  6cf8151ea9ddafd3b9fae9eac5283dcf          B\n",
       "97224  5745352852802c3ad3f6e67afbc9d6ce          B\n",
       "97225  eed3ed6c01e59c37c6464e41bc066076          B\n",
       "97226  33c9bb81b998ca0f1e8d24dd18273a54          B\n",
       "97227  857fa51168a167166d244e760b6c0141          B\n",
       "\n",
       "[46447 rows x 2 columns]"
      ]
     },
     "execution_count": 19,
     "metadata": {},
     "output_type": "execute_result"
    }
   ],
   "source": [
    "df_group_b = df[df['test_group'] == 'B']\n",
    "df_group_b[['user_id', 'test_group']]"
   ]
  },
  {
   "cell_type": "markdown",
   "metadata": {},
   "source": [
    "Таблицы выше показывают пользовательские действия в каждой группе. Найдем пользователей, которые совершили действия в обоих группах"
   ]
  },
  {
   "cell_type": "code",
   "execution_count": 20,
   "metadata": {},
   "outputs": [
    {
     "data": {
      "text/html": [
       "<div>\n",
       "<style scoped>\n",
       "    .dataframe tbody tr th:only-of-type {\n",
       "        vertical-align: middle;\n",
       "    }\n",
       "\n",
       "    .dataframe tbody tr th {\n",
       "        vertical-align: top;\n",
       "    }\n",
       "\n",
       "    .dataframe thead th {\n",
       "        text-align: right;\n",
       "    }\n",
       "</style>\n",
       "<table border=\"1\" class=\"dataframe\">\n",
       "  <thead>\n",
       "    <tr style=\"text-align: right;\">\n",
       "      <th></th>\n",
       "      <th>datetime_of_event_x</th>\n",
       "      <th>user_id</th>\n",
       "      <th>event_x</th>\n",
       "      <th>success_flag_x</th>\n",
       "      <th>test_group_x</th>\n",
       "      <th>provider_x</th>\n",
       "      <th>amount_x</th>\n",
       "      <th>datetime_of_event_y</th>\n",
       "      <th>event_y</th>\n",
       "      <th>success_flag_y</th>\n",
       "      <th>test_group_y</th>\n",
       "      <th>provider_y</th>\n",
       "      <th>amount_y</th>\n",
       "    </tr>\n",
       "  </thead>\n",
       "  <tbody>\n",
       "    <tr>\n",
       "      <th>0</th>\n",
       "      <td>2016-06-14 17:06:05.800</td>\n",
       "      <td>0aafa81ac7c2ad4676a90a8d62ab7b97</td>\n",
       "      <td>PaymentSuccess</td>\n",
       "      <td>1</td>\n",
       "      <td>A</td>\n",
       "      <td>QIWI Телеком</td>\n",
       "      <td>4.00</td>\n",
       "      <td>2016-06-11 18:07:12.800</td>\n",
       "      <td>PaymentSuccess</td>\n",
       "      <td>1</td>\n",
       "      <td>B</td>\n",
       "      <td>QIWI Онлайн</td>\n",
       "      <td>3509.00</td>\n",
       "    </tr>\n",
       "    <tr>\n",
       "      <th>1</th>\n",
       "      <td>2016-06-03 23:06:25.000</td>\n",
       "      <td>40422bb30b712d8990146596a877b7c7</td>\n",
       "      <td>PaymentSuccess</td>\n",
       "      <td>1</td>\n",
       "      <td>A</td>\n",
       "      <td>QIWI Мобайл</td>\n",
       "      <td>106.00</td>\n",
       "      <td>2016-06-12 22:21:11.600</td>\n",
       "      <td>PaymentSuccess</td>\n",
       "      <td>1</td>\n",
       "      <td>B</td>\n",
       "      <td>QIWI Мобайл</td>\n",
       "      <td>456.60</td>\n",
       "    </tr>\n",
       "    <tr>\n",
       "      <th>2</th>\n",
       "      <td>2016-06-03 23:06:25.000</td>\n",
       "      <td>40422bb30b712d8990146596a877b7c7</td>\n",
       "      <td>PaymentSuccess</td>\n",
       "      <td>1</td>\n",
       "      <td>A</td>\n",
       "      <td>QIWI Мобайл</td>\n",
       "      <td>106.00</td>\n",
       "      <td>2016-06-12 22:20:51.900</td>\n",
       "      <td>OpenPage</td>\n",
       "      <td>0</td>\n",
       "      <td>B</td>\n",
       "      <td>NaN</td>\n",
       "      <td>nan</td>\n",
       "    </tr>\n",
       "    <tr>\n",
       "      <th>3</th>\n",
       "      <td>2016-06-03 23:06:04.800</td>\n",
       "      <td>40422bb30b712d8990146596a877b7c7</td>\n",
       "      <td>OpenPage</td>\n",
       "      <td>0</td>\n",
       "      <td>A</td>\n",
       "      <td>NaN</td>\n",
       "      <td>nan</td>\n",
       "      <td>2016-06-12 22:21:11.600</td>\n",
       "      <td>PaymentSuccess</td>\n",
       "      <td>1</td>\n",
       "      <td>B</td>\n",
       "      <td>QIWI Мобайл</td>\n",
       "      <td>456.60</td>\n",
       "    </tr>\n",
       "    <tr>\n",
       "      <th>4</th>\n",
       "      <td>2016-06-03 23:06:04.800</td>\n",
       "      <td>40422bb30b712d8990146596a877b7c7</td>\n",
       "      <td>OpenPage</td>\n",
       "      <td>0</td>\n",
       "      <td>A</td>\n",
       "      <td>NaN</td>\n",
       "      <td>nan</td>\n",
       "      <td>2016-06-12 22:20:51.900</td>\n",
       "      <td>OpenPage</td>\n",
       "      <td>0</td>\n",
       "      <td>B</td>\n",
       "      <td>NaN</td>\n",
       "      <td>nan</td>\n",
       "    </tr>\n",
       "    <tr>\n",
       "      <th>...</th>\n",
       "      <td>...</td>\n",
       "      <td>...</td>\n",
       "      <td>...</td>\n",
       "      <td>...</td>\n",
       "      <td>...</td>\n",
       "      <td>...</td>\n",
       "      <td>...</td>\n",
       "      <td>...</td>\n",
       "      <td>...</td>\n",
       "      <td>...</td>\n",
       "      <td>...</td>\n",
       "      <td>...</td>\n",
       "      <td>...</td>\n",
       "    </tr>\n",
       "    <tr>\n",
       "      <th>2907</th>\n",
       "      <td>2016-06-14 20:27:32.300</td>\n",
       "      <td>febe34ccd8dc35d3d0577fcd45bff31c</td>\n",
       "      <td>OpenPage</td>\n",
       "      <td>0</td>\n",
       "      <td>A</td>\n",
       "      <td>NaN</td>\n",
       "      <td>nan</td>\n",
       "      <td>2016-06-15 06:33:46.100</td>\n",
       "      <td>OpenPage</td>\n",
       "      <td>0</td>\n",
       "      <td>B</td>\n",
       "      <td>NaN</td>\n",
       "      <td>nan</td>\n",
       "    </tr>\n",
       "    <tr>\n",
       "      <th>2908</th>\n",
       "      <td>2016-06-14 18:01:15.500</td>\n",
       "      <td>efb5af71c0517b78749f7fe6b2cbf89b</td>\n",
       "      <td>OpenPage</td>\n",
       "      <td>0</td>\n",
       "      <td>A</td>\n",
       "      <td>NaN</td>\n",
       "      <td>nan</td>\n",
       "      <td>2016-06-15 08:39:58.200</td>\n",
       "      <td>PaymentSuccess</td>\n",
       "      <td>1</td>\n",
       "      <td>B</td>\n",
       "      <td>QIWI Онлайн</td>\n",
       "      <td>1937.00</td>\n",
       "    </tr>\n",
       "    <tr>\n",
       "      <th>2909</th>\n",
       "      <td>2016-06-13 06:19:37.300</td>\n",
       "      <td>a761f92624ab2b6388753cd4e8499041</td>\n",
       "      <td>OpenPage</td>\n",
       "      <td>0</td>\n",
       "      <td>A</td>\n",
       "      <td>NaN</td>\n",
       "      <td>nan</td>\n",
       "      <td>2016-06-11 12:29:00.500</td>\n",
       "      <td>OpenPage</td>\n",
       "      <td>0</td>\n",
       "      <td>B</td>\n",
       "      <td>NaN</td>\n",
       "      <td>nan</td>\n",
       "    </tr>\n",
       "    <tr>\n",
       "      <th>2910</th>\n",
       "      <td>2016-06-13 06:19:37.300</td>\n",
       "      <td>a761f92624ab2b6388753cd4e8499041</td>\n",
       "      <td>OpenPage</td>\n",
       "      <td>0</td>\n",
       "      <td>A</td>\n",
       "      <td>NaN</td>\n",
       "      <td>nan</td>\n",
       "      <td>2016-06-10 07:40:37.500</td>\n",
       "      <td>OpenPage</td>\n",
       "      <td>0</td>\n",
       "      <td>B</td>\n",
       "      <td>NaN</td>\n",
       "      <td>nan</td>\n",
       "    </tr>\n",
       "    <tr>\n",
       "      <th>2911</th>\n",
       "      <td>2016-06-13 17:34:39.100</td>\n",
       "      <td>2b2252287b0f57b795ce17d2858a2ff7</td>\n",
       "      <td>OpenPage</td>\n",
       "      <td>0</td>\n",
       "      <td>A</td>\n",
       "      <td>NaN</td>\n",
       "      <td>nan</td>\n",
       "      <td>2016-06-12 07:42:06.900</td>\n",
       "      <td>OpenPage</td>\n",
       "      <td>0</td>\n",
       "      <td>B</td>\n",
       "      <td>NaN</td>\n",
       "      <td>nan</td>\n",
       "    </tr>\n",
       "  </tbody>\n",
       "</table>\n",
       "<p>2912 rows × 13 columns</p>\n",
       "</div>"
      ],
      "text/plain": [
       "          datetime_of_event_x                           user_id  \\\n",
       "0     2016-06-14 17:06:05.800  0aafa81ac7c2ad4676a90a8d62ab7b97   \n",
       "1     2016-06-03 23:06:25.000  40422bb30b712d8990146596a877b7c7   \n",
       "2     2016-06-03 23:06:25.000  40422bb30b712d8990146596a877b7c7   \n",
       "3     2016-06-03 23:06:04.800  40422bb30b712d8990146596a877b7c7   \n",
       "4     2016-06-03 23:06:04.800  40422bb30b712d8990146596a877b7c7   \n",
       "...                       ...                               ...   \n",
       "2907  2016-06-14 20:27:32.300  febe34ccd8dc35d3d0577fcd45bff31c   \n",
       "2908  2016-06-14 18:01:15.500  efb5af71c0517b78749f7fe6b2cbf89b   \n",
       "2909  2016-06-13 06:19:37.300  a761f92624ab2b6388753cd4e8499041   \n",
       "2910  2016-06-13 06:19:37.300  a761f92624ab2b6388753cd4e8499041   \n",
       "2911  2016-06-13 17:34:39.100  2b2252287b0f57b795ce17d2858a2ff7   \n",
       "\n",
       "             event_x  success_flag_x test_group_x    provider_x  amount_x  \\\n",
       "0     PaymentSuccess               1            A  QIWI Телеком      4.00   \n",
       "1     PaymentSuccess               1            A   QIWI Мобайл    106.00   \n",
       "2     PaymentSuccess               1            A   QIWI Мобайл    106.00   \n",
       "3           OpenPage               0            A           NaN       nan   \n",
       "4           OpenPage               0            A           NaN       nan   \n",
       "...              ...             ...          ...           ...       ...   \n",
       "2907        OpenPage               0            A           NaN       nan   \n",
       "2908        OpenPage               0            A           NaN       nan   \n",
       "2909        OpenPage               0            A           NaN       nan   \n",
       "2910        OpenPage               0            A           NaN       nan   \n",
       "2911        OpenPage               0            A           NaN       nan   \n",
       "\n",
       "          datetime_of_event_y         event_y  success_flag_y test_group_y  \\\n",
       "0     2016-06-11 18:07:12.800  PaymentSuccess               1            B   \n",
       "1     2016-06-12 22:21:11.600  PaymentSuccess               1            B   \n",
       "2     2016-06-12 22:20:51.900        OpenPage               0            B   \n",
       "3     2016-06-12 22:21:11.600  PaymentSuccess               1            B   \n",
       "4     2016-06-12 22:20:51.900        OpenPage               0            B   \n",
       "...                       ...             ...             ...          ...   \n",
       "2907  2016-06-15 06:33:46.100        OpenPage               0            B   \n",
       "2908  2016-06-15 08:39:58.200  PaymentSuccess               1            B   \n",
       "2909  2016-06-11 12:29:00.500        OpenPage               0            B   \n",
       "2910  2016-06-10 07:40:37.500        OpenPage               0            B   \n",
       "2911  2016-06-12 07:42:06.900        OpenPage               0            B   \n",
       "\n",
       "       provider_y  amount_y  \n",
       "0     QIWI Онлайн   3509.00  \n",
       "1     QIWI Мобайл    456.60  \n",
       "2             NaN       nan  \n",
       "3     QIWI Мобайл    456.60  \n",
       "4             NaN       nan  \n",
       "...           ...       ...  \n",
       "2907          NaN       nan  \n",
       "2908  QIWI Онлайн   1937.00  \n",
       "2909          NaN       nan  \n",
       "2910          NaN       nan  \n",
       "2911          NaN       nan  \n",
       "\n",
       "[2912 rows x 13 columns]"
      ]
     },
     "execution_count": 20,
     "metadata": {},
     "output_type": "execute_result"
    }
   ],
   "source": [
    "df_users_crossing = df_group_a.merge(df_group_b, left_on='user_id', right_on='user_id')\n",
    "df_users_crossing"
   ]
  },
  {
   "cell_type": "markdown",
   "metadata": {},
   "source": [
    "**2912 действий пользователей попали в группу A и B**"
   ]
  },
  {
   "cell_type": "code",
   "execution_count": 21,
   "metadata": {},
   "outputs": [
    {
     "data": {
      "text/html": [
       "<div>\n",
       "<style scoped>\n",
       "    .dataframe tbody tr th:only-of-type {\n",
       "        vertical-align: middle;\n",
       "    }\n",
       "\n",
       "    .dataframe tbody tr th {\n",
       "        vertical-align: top;\n",
       "    }\n",
       "\n",
       "    .dataframe thead th {\n",
       "        text-align: right;\n",
       "    }\n",
       "</style>\n",
       "<table border=\"1\" class=\"dataframe\">\n",
       "  <thead>\n",
       "    <tr style=\"text-align: right;\">\n",
       "      <th></th>\n",
       "      <th>datetime_of_event</th>\n",
       "      <th>user_id</th>\n",
       "      <th>event</th>\n",
       "      <th>success_flag</th>\n",
       "      <th>test_group</th>\n",
       "      <th>provider</th>\n",
       "      <th>amount</th>\n",
       "    </tr>\n",
       "  </thead>\n",
       "  <tbody>\n",
       "    <tr>\n",
       "      <th>0</th>\n",
       "      <td>2016-06-13 23:31:57.800</td>\n",
       "      <td>548e37dfa2690defe92201412ff9b02f</td>\n",
       "      <td>OpenPage</td>\n",
       "      <td>0</td>\n",
       "      <td>A</td>\n",
       "      <td>NaN</td>\n",
       "      <td>nan</td>\n",
       "    </tr>\n",
       "    <tr>\n",
       "      <th>1</th>\n",
       "      <td>2016-06-07 04:14:20.700</td>\n",
       "      <td>2c2205ffc0501665f64bf0703185b6d8</td>\n",
       "      <td>OpenPage</td>\n",
       "      <td>0</td>\n",
       "      <td>A</td>\n",
       "      <td>NaN</td>\n",
       "      <td>nan</td>\n",
       "    </tr>\n",
       "    <tr>\n",
       "      <th>3</th>\n",
       "      <td>2016-06-16 12:35:21.800</td>\n",
       "      <td>6b6cc68c9a10b163c147b08be78f1cb2</td>\n",
       "      <td>OpenPage</td>\n",
       "      <td>0</td>\n",
       "      <td>B</td>\n",
       "      <td>NaN</td>\n",
       "      <td>nan</td>\n",
       "    </tr>\n",
       "    <tr>\n",
       "      <th>4</th>\n",
       "      <td>2016-06-14 09:42:25.000</td>\n",
       "      <td>8a154919eefdcf48814a69da0b841e87</td>\n",
       "      <td>OpenPage</td>\n",
       "      <td>0</td>\n",
       "      <td>A</td>\n",
       "      <td>NaN</td>\n",
       "      <td>nan</td>\n",
       "    </tr>\n",
       "    <tr>\n",
       "      <th>5</th>\n",
       "      <td>2016-06-10 10:40:06.800</td>\n",
       "      <td>8157d52e8757d4058408a793ea72841b</td>\n",
       "      <td>PaymentSuccess</td>\n",
       "      <td>0</td>\n",
       "      <td>B</td>\n",
       "      <td>NaN</td>\n",
       "      <td>nan</td>\n",
       "    </tr>\n",
       "    <tr>\n",
       "      <th>...</th>\n",
       "      <td>...</td>\n",
       "      <td>...</td>\n",
       "      <td>...</td>\n",
       "      <td>...</td>\n",
       "      <td>...</td>\n",
       "      <td>...</td>\n",
       "      <td>...</td>\n",
       "    </tr>\n",
       "    <tr>\n",
       "      <th>97224</th>\n",
       "      <td>2016-06-07 19:00:45.100</td>\n",
       "      <td>5745352852802c3ad3f6e67afbc9d6ce</td>\n",
       "      <td>PaymentSuccess</td>\n",
       "      <td>1</td>\n",
       "      <td>B</td>\n",
       "      <td>QIWI Онлайн</td>\n",
       "      <td>617.00</td>\n",
       "    </tr>\n",
       "    <tr>\n",
       "      <th>97225</th>\n",
       "      <td>2016-06-12 17:12:47.700</td>\n",
       "      <td>eed3ed6c01e59c37c6464e41bc066076</td>\n",
       "      <td>OpenPage</td>\n",
       "      <td>0</td>\n",
       "      <td>B</td>\n",
       "      <td>NaN</td>\n",
       "      <td>nan</td>\n",
       "    </tr>\n",
       "    <tr>\n",
       "      <th>97226</th>\n",
       "      <td>2016-06-15 05:40:57.200</td>\n",
       "      <td>33c9bb81b998ca0f1e8d24dd18273a54</td>\n",
       "      <td>OpenPage</td>\n",
       "      <td>0</td>\n",
       "      <td>B</td>\n",
       "      <td>NaN</td>\n",
       "      <td>nan</td>\n",
       "    </tr>\n",
       "    <tr>\n",
       "      <th>97227</th>\n",
       "      <td>2016-06-08 11:15:57.400</td>\n",
       "      <td>857fa51168a167166d244e760b6c0141</td>\n",
       "      <td>OpenPage</td>\n",
       "      <td>0</td>\n",
       "      <td>B</td>\n",
       "      <td>NaN</td>\n",
       "      <td>nan</td>\n",
       "    </tr>\n",
       "    <tr>\n",
       "      <th>97229</th>\n",
       "      <td>2016-06-06 12:47:49.200</td>\n",
       "      <td>0abfd05710531852ad0bcc9c932c3993</td>\n",
       "      <td>PaymentSuccess</td>\n",
       "      <td>1</td>\n",
       "      <td>A</td>\n",
       "      <td>QIWI Мобайл</td>\n",
       "      <td>88.00</td>\n",
       "    </tr>\n",
       "  </tbody>\n",
       "</table>\n",
       "<p>94217 rows × 7 columns</p>\n",
       "</div>"
      ],
      "text/plain": [
       "             datetime_of_event                           user_id  \\\n",
       "0      2016-06-13 23:31:57.800  548e37dfa2690defe92201412ff9b02f   \n",
       "1      2016-06-07 04:14:20.700  2c2205ffc0501665f64bf0703185b6d8   \n",
       "3      2016-06-16 12:35:21.800  6b6cc68c9a10b163c147b08be78f1cb2   \n",
       "4      2016-06-14 09:42:25.000  8a154919eefdcf48814a69da0b841e87   \n",
       "5      2016-06-10 10:40:06.800  8157d52e8757d4058408a793ea72841b   \n",
       "...                        ...                               ...   \n",
       "97224  2016-06-07 19:00:45.100  5745352852802c3ad3f6e67afbc9d6ce   \n",
       "97225  2016-06-12 17:12:47.700  eed3ed6c01e59c37c6464e41bc066076   \n",
       "97226  2016-06-15 05:40:57.200  33c9bb81b998ca0f1e8d24dd18273a54   \n",
       "97227  2016-06-08 11:15:57.400  857fa51168a167166d244e760b6c0141   \n",
       "97229  2016-06-06 12:47:49.200  0abfd05710531852ad0bcc9c932c3993   \n",
       "\n",
       "                event  success_flag test_group     provider  amount  \n",
       "0            OpenPage             0          A          NaN     nan  \n",
       "1            OpenPage             0          A          NaN     nan  \n",
       "3            OpenPage             0          B          NaN     nan  \n",
       "4            OpenPage             0          A          NaN     nan  \n",
       "5      PaymentSuccess             0          B          NaN     nan  \n",
       "...               ...           ...        ...          ...     ...  \n",
       "97224  PaymentSuccess             1          B  QIWI Онлайн  617.00  \n",
       "97225        OpenPage             0          B          NaN     nan  \n",
       "97226        OpenPage             0          B          NaN     nan  \n",
       "97227        OpenPage             0          B          NaN     nan  \n",
       "97229  PaymentSuccess             1          A  QIWI Мобайл   88.00  \n",
       "\n",
       "[94217 rows x 7 columns]"
      ]
     },
     "execution_count": 21,
     "metadata": {},
     "output_type": "execute_result"
    }
   ],
   "source": [
    "df = df[~df.user_id.isin(df_users_crossing.user_id)]\n",
    "df"
   ]
  },
  {
   "cell_type": "markdown",
   "metadata": {},
   "source": [
    "Проверим уникальных пользователей"
   ]
  },
  {
   "cell_type": "code",
   "execution_count": 22,
   "metadata": {},
   "outputs": [
    {
     "data": {
      "text/html": [
       "<div>\n",
       "<style scoped>\n",
       "    .dataframe tbody tr th:only-of-type {\n",
       "        vertical-align: middle;\n",
       "    }\n",
       "\n",
       "    .dataframe tbody tr th {\n",
       "        vertical-align: top;\n",
       "    }\n",
       "\n",
       "    .dataframe thead th {\n",
       "        text-align: right;\n",
       "    }\n",
       "</style>\n",
       "<table border=\"1\" class=\"dataframe\">\n",
       "  <thead>\n",
       "    <tr style=\"text-align: right;\">\n",
       "      <th></th>\n",
       "      <th>test_group</th>\n",
       "      <th>user_id</th>\n",
       "      <th>count</th>\n",
       "    </tr>\n",
       "  </thead>\n",
       "  <tbody>\n",
       "    <tr>\n",
       "      <th>0</th>\n",
       "      <td>A</td>\n",
       "      <td>4118a432b767d136b1adb4d2a82ce32c</td>\n",
       "      <td>35</td>\n",
       "    </tr>\n",
       "    <tr>\n",
       "      <th>1</th>\n",
       "      <td>A</td>\n",
       "      <td>fa77b42f47b4b5ac8ec0803c04cd8298</td>\n",
       "      <td>22</td>\n",
       "    </tr>\n",
       "    <tr>\n",
       "      <th>2</th>\n",
       "      <td>A</td>\n",
       "      <td>88aa45358e24f366cc6b64d81680b70c</td>\n",
       "      <td>21</td>\n",
       "    </tr>\n",
       "    <tr>\n",
       "      <th>3</th>\n",
       "      <td>A</td>\n",
       "      <td>cd1a50c1af1b4089855e22dac3fd23f7</td>\n",
       "      <td>21</td>\n",
       "    </tr>\n",
       "    <tr>\n",
       "      <th>4</th>\n",
       "      <td>A</td>\n",
       "      <td>817a4b6e475770881fcf98bb1adf39df</td>\n",
       "      <td>19</td>\n",
       "    </tr>\n",
       "    <tr>\n",
       "      <th>...</th>\n",
       "      <td>...</td>\n",
       "      <td>...</td>\n",
       "      <td>...</td>\n",
       "    </tr>\n",
       "    <tr>\n",
       "      <th>67787</th>\n",
       "      <td>A</td>\n",
       "      <td>be2d5da66debfde02ad1e392d9358b4c</td>\n",
       "      <td>1</td>\n",
       "    </tr>\n",
       "    <tr>\n",
       "      <th>67788</th>\n",
       "      <td>A</td>\n",
       "      <td>be302badca2fbd08aa1a2783a1958374</td>\n",
       "      <td>1</td>\n",
       "    </tr>\n",
       "    <tr>\n",
       "      <th>67789</th>\n",
       "      <td>A</td>\n",
       "      <td>be36b6c96988fbf604311f0ebcaecec8</td>\n",
       "      <td>1</td>\n",
       "    </tr>\n",
       "    <tr>\n",
       "      <th>67790</th>\n",
       "      <td>A</td>\n",
       "      <td>be39158a0f001a9240b73f55109f6a3b</td>\n",
       "      <td>1</td>\n",
       "    </tr>\n",
       "    <tr>\n",
       "      <th>67791</th>\n",
       "      <td>A</td>\n",
       "      <td>f944c334afbccfbf6448f6f9abe7a2d7</td>\n",
       "      <td>1</td>\n",
       "    </tr>\n",
       "  </tbody>\n",
       "</table>\n",
       "<p>67792 rows × 3 columns</p>\n",
       "</div>"
      ],
      "text/plain": [
       "      test_group                           user_id  count\n",
       "0              A  4118a432b767d136b1adb4d2a82ce32c     35\n",
       "1              A  fa77b42f47b4b5ac8ec0803c04cd8298     22\n",
       "2              A  88aa45358e24f366cc6b64d81680b70c     21\n",
       "3              A  cd1a50c1af1b4089855e22dac3fd23f7     21\n",
       "4              A  817a4b6e475770881fcf98bb1adf39df     19\n",
       "...          ...                               ...    ...\n",
       "67787          A  be2d5da66debfde02ad1e392d9358b4c      1\n",
       "67788          A  be302badca2fbd08aa1a2783a1958374      1\n",
       "67789          A  be36b6c96988fbf604311f0ebcaecec8      1\n",
       "67790          A  be39158a0f001a9240b73f55109f6a3b      1\n",
       "67791          A  f944c334afbccfbf6448f6f9abe7a2d7      1\n",
       "\n",
       "[67792 rows x 3 columns]"
      ]
     },
     "execution_count": 22,
     "metadata": {},
     "output_type": "execute_result"
    }
   ],
   "source": [
    "df.groupby(['test_group', 'user_id']).size().reset_index(name='count') \\\n",
    "      .sort_values(['count'], ascending=[False])                                         \\\n",
    "      .reset_index(drop = True)"
   ]
  },
  {
   "cell_type": "code",
   "execution_count": 23,
   "metadata": {},
   "outputs": [
    {
     "data": {
      "text/plain": [
       "67792"
      ]
     },
     "execution_count": 23,
     "metadata": {},
     "output_type": "execute_result"
    }
   ],
   "source": [
    "df['user_id'].unique().shape[0]"
   ]
  },
  {
   "cell_type": "markdown",
   "metadata": {},
   "source": [
    "Теперь датасет подготовлен к анализу"
   ]
  },
  {
   "cell_type": "markdown",
   "metadata": {},
   "source": [
    "### Исследование данных "
   ]
  },
  {
   "cell_type": "markdown",
   "metadata": {},
   "source": [
    "Мы можем заметить, что **%event == PaymentSuccess% не всегда получает статус %success_flag ==1%**, возможно, существует проблема с транзакциями.  \n",
    "\n",
    "Проблема может быть связана с каким-то определенным провайдером, но этих данных у нас нет, потому что данные о провайдере появляются только при статусе success_flag == 1), поэтому данная мысль остается предположением. "
   ]
  },
  {
   "cell_type": "code",
   "execution_count": 24,
   "metadata": {},
   "outputs": [
    {
     "data": {
      "text/html": [
       "<div>\n",
       "<style scoped>\n",
       "    .dataframe tbody tr th:only-of-type {\n",
       "        vertical-align: middle;\n",
       "    }\n",
       "\n",
       "    .dataframe tbody tr th {\n",
       "        vertical-align: top;\n",
       "    }\n",
       "\n",
       "    .dataframe thead th {\n",
       "        text-align: right;\n",
       "    }\n",
       "</style>\n",
       "<table border=\"1\" class=\"dataframe\">\n",
       "  <thead>\n",
       "    <tr style=\"text-align: right;\">\n",
       "      <th></th>\n",
       "      <th>datetime_of_event</th>\n",
       "      <th>user_id</th>\n",
       "      <th>event</th>\n",
       "      <th>success_flag</th>\n",
       "      <th>test_group</th>\n",
       "      <th>provider</th>\n",
       "      <th>amount</th>\n",
       "    </tr>\n",
       "  </thead>\n",
       "  <tbody>\n",
       "    <tr>\n",
       "      <th>5</th>\n",
       "      <td>2016-06-10 10:40:06.800</td>\n",
       "      <td>8157d52e8757d4058408a793ea72841b</td>\n",
       "      <td>PaymentSuccess</td>\n",
       "      <td>0</td>\n",
       "      <td>B</td>\n",
       "      <td>NaN</td>\n",
       "      <td>nan</td>\n",
       "    </tr>\n",
       "    <tr>\n",
       "      <th>7</th>\n",
       "      <td>2016-06-14 08:59:56.300</td>\n",
       "      <td>269fec11aba1ba9189f637f26e20d98d</td>\n",
       "      <td>PaymentSuccess</td>\n",
       "      <td>0</td>\n",
       "      <td>A</td>\n",
       "      <td>NaN</td>\n",
       "      <td>nan</td>\n",
       "    </tr>\n",
       "    <tr>\n",
       "      <th>49</th>\n",
       "      <td>2016-06-06 19:23:37.900</td>\n",
       "      <td>88b3ff417c896ca5700dc2ffec743364</td>\n",
       "      <td>PaymentSuccess</td>\n",
       "      <td>0</td>\n",
       "      <td>B</td>\n",
       "      <td>NaN</td>\n",
       "      <td>nan</td>\n",
       "    </tr>\n",
       "    <tr>\n",
       "      <th>61</th>\n",
       "      <td>2016-06-10 11:47:11.600</td>\n",
       "      <td>110425c2d8f934aba347b3c3e65ce0ef</td>\n",
       "      <td>PaymentSuccess</td>\n",
       "      <td>0</td>\n",
       "      <td>B</td>\n",
       "      <td>NaN</td>\n",
       "      <td>nan</td>\n",
       "    </tr>\n",
       "    <tr>\n",
       "      <th>68</th>\n",
       "      <td>2016-06-13 19:09:11.500</td>\n",
       "      <td>986a9339b00c2a30095c0f3ca060578b</td>\n",
       "      <td>PaymentSuccess</td>\n",
       "      <td>0</td>\n",
       "      <td>B</td>\n",
       "      <td>NaN</td>\n",
       "      <td>nan</td>\n",
       "    </tr>\n",
       "  </tbody>\n",
       "</table>\n",
       "</div>"
      ],
      "text/plain": [
       "          datetime_of_event                           user_id           event  \\\n",
       "5   2016-06-10 10:40:06.800  8157d52e8757d4058408a793ea72841b  PaymentSuccess   \n",
       "7   2016-06-14 08:59:56.300  269fec11aba1ba9189f637f26e20d98d  PaymentSuccess   \n",
       "49  2016-06-06 19:23:37.900  88b3ff417c896ca5700dc2ffec743364  PaymentSuccess   \n",
       "61  2016-06-10 11:47:11.600  110425c2d8f934aba347b3c3e65ce0ef  PaymentSuccess   \n",
       "68  2016-06-13 19:09:11.500  986a9339b00c2a30095c0f3ca060578b  PaymentSuccess   \n",
       "\n",
       "    success_flag test_group provider  amount  \n",
       "5              0          B      NaN     nan  \n",
       "7              0          A      NaN     nan  \n",
       "49             0          B      NaN     nan  \n",
       "61             0          B      NaN     nan  \n",
       "68             0          B      NaN     nan  "
      ]
     },
     "execution_count": 24,
     "metadata": {},
     "output_type": "execute_result"
    }
   ],
   "source": [
    "df[(df['success_flag'] == 0) & (df['event'] == 'PaymentSuccess')][:5]"
   ]
  },
  {
   "cell_type": "code",
   "execution_count": 25,
   "metadata": {},
   "outputs": [
    {
     "data": {
      "text/plain": [
       "6660"
      ]
     },
     "execution_count": 25,
     "metadata": {},
     "output_type": "execute_result"
    }
   ],
   "source": [
    "df[(df['success_flag'] == 0) & (df['event'] == 'PaymentSuccess')]['user_id'].shape[0]"
   ]
  },
  {
   "cell_type": "markdown",
   "metadata": {},
   "source": [
    "Мы тестируем варианты оплаты, которые появляются у провайдеров мобильной связи на последнем этапе оплаты. Думаю, что нет большой разницы у какого именно провайдера была произведена оплата.  "
   ]
  },
  {
   "cell_type": "code",
   "execution_count": 26,
   "metadata": {},
   "outputs": [
    {
     "data": {
      "text/html": [
       "<div>\n",
       "<style scoped>\n",
       "    .dataframe tbody tr th:only-of-type {\n",
       "        vertical-align: middle;\n",
       "    }\n",
       "\n",
       "    .dataframe tbody tr th {\n",
       "        vertical-align: top;\n",
       "    }\n",
       "\n",
       "    .dataframe thead th {\n",
       "        text-align: right;\n",
       "    }\n",
       "</style>\n",
       "<table border=\"1\" class=\"dataframe\">\n",
       "  <thead>\n",
       "    <tr style=\"text-align: right;\">\n",
       "      <th></th>\n",
       "      <th>test_group</th>\n",
       "      <th>provider</th>\n",
       "      <th>users_count</th>\n",
       "    </tr>\n",
       "  </thead>\n",
       "  <tbody>\n",
       "    <tr>\n",
       "      <th>0</th>\n",
       "      <td>A</td>\n",
       "      <td>QIWI Мобайл</td>\n",
       "      <td>2253</td>\n",
       "    </tr>\n",
       "    <tr>\n",
       "      <th>1</th>\n",
       "      <td>A</td>\n",
       "      <td>QIWI Онлайн</td>\n",
       "      <td>4855</td>\n",
       "    </tr>\n",
       "    <tr>\n",
       "      <th>2</th>\n",
       "      <td>A</td>\n",
       "      <td>QIWI Привет</td>\n",
       "      <td>3212</td>\n",
       "    </tr>\n",
       "    <tr>\n",
       "      <th>3</th>\n",
       "      <td>A</td>\n",
       "      <td>QIWI Телеком</td>\n",
       "      <td>4574</td>\n",
       "    </tr>\n",
       "    <tr>\n",
       "      <th>4</th>\n",
       "      <td>B</td>\n",
       "      <td>QIWI Мобайл</td>\n",
       "      <td>2130</td>\n",
       "    </tr>\n",
       "    <tr>\n",
       "      <th>5</th>\n",
       "      <td>B</td>\n",
       "      <td>QIWI Онлайн</td>\n",
       "      <td>4711</td>\n",
       "    </tr>\n",
       "    <tr>\n",
       "      <th>6</th>\n",
       "      <td>B</td>\n",
       "      <td>QIWI Привет</td>\n",
       "      <td>2992</td>\n",
       "    </tr>\n",
       "    <tr>\n",
       "      <th>7</th>\n",
       "      <td>B</td>\n",
       "      <td>QIWI Телеком</td>\n",
       "      <td>4149</td>\n",
       "    </tr>\n",
       "  </tbody>\n",
       "</table>\n",
       "</div>"
      ],
      "text/plain": [
       "  test_group      provider  users_count\n",
       "0          A   QIWI Мобайл         2253\n",
       "1          A   QIWI Онлайн         4855\n",
       "2          A   QIWI Привет         3212\n",
       "3          A  QIWI Телеком         4574\n",
       "4          B   QIWI Мобайл         2130\n",
       "5          B   QIWI Онлайн         4711\n",
       "6          B   QIWI Привет         2992\n",
       "7          B  QIWI Телеком         4149"
      ]
     },
     "execution_count": 26,
     "metadata": {},
     "output_type": "execute_result"
    }
   ],
   "source": [
    "df[df['event'] == 'PaymentSuccess'] \\\n",
    "    .groupby(['test_group', 'provider']).size().reset_index(name='users_count')"
   ]
  },
  {
   "cell_type": "markdown",
   "metadata": {},
   "source": [
    "#### Количество действий в группе по событиям %event%"
   ]
  },
  {
   "cell_type": "code",
   "execution_count": 27,
   "metadata": {},
   "outputs": [
    {
     "data": {
      "text/html": [
       "<div>\n",
       "<style scoped>\n",
       "    .dataframe tbody tr th:only-of-type {\n",
       "        vertical-align: middle;\n",
       "    }\n",
       "\n",
       "    .dataframe tbody tr th {\n",
       "        vertical-align: top;\n",
       "    }\n",
       "\n",
       "    .dataframe thead th {\n",
       "        text-align: right;\n",
       "    }\n",
       "</style>\n",
       "<table border=\"1\" class=\"dataframe\">\n",
       "  <thead>\n",
       "    <tr style=\"text-align: right;\">\n",
       "      <th></th>\n",
       "      <th>event</th>\n",
       "      <th>test_group</th>\n",
       "      <th>count</th>\n",
       "    </tr>\n",
       "  </thead>\n",
       "  <tbody>\n",
       "    <tr>\n",
       "      <th>0</th>\n",
       "      <td>OpenPage</td>\n",
       "      <td>A</td>\n",
       "      <td>30931</td>\n",
       "    </tr>\n",
       "    <tr>\n",
       "      <th>1</th>\n",
       "      <td>OpenPage</td>\n",
       "      <td>B</td>\n",
       "      <td>27750</td>\n",
       "    </tr>\n",
       "    <tr>\n",
       "      <th>2</th>\n",
       "      <td>PaymentSuccess</td>\n",
       "      <td>A</td>\n",
       "      <td>18233</td>\n",
       "    </tr>\n",
       "    <tr>\n",
       "      <th>3</th>\n",
       "      <td>PaymentSuccess</td>\n",
       "      <td>B</td>\n",
       "      <td>17303</td>\n",
       "    </tr>\n",
       "  </tbody>\n",
       "</table>\n",
       "</div>"
      ],
      "text/plain": [
       "            event test_group  count\n",
       "0        OpenPage          A  30931\n",
       "1        OpenPage          B  27750\n",
       "2  PaymentSuccess          A  18233\n",
       "3  PaymentSuccess          B  17303"
      ]
     },
     "execution_count": 27,
     "metadata": {},
     "output_type": "execute_result"
    }
   ],
   "source": [
    "df_user_events = df.groupby(['event', 'test_group']).size().reset_index(name='count')\n",
    "df_user_events"
   ]
  },
  {
   "cell_type": "markdown",
   "metadata": {},
   "source": [
    "#### Количество действий в группе со статусом %success_flag%"
   ]
  },
  {
   "cell_type": "code",
   "execution_count": 28,
   "metadata": {},
   "outputs": [
    {
     "data": {
      "text/html": [
       "<div>\n",
       "<style scoped>\n",
       "    .dataframe tbody tr th:only-of-type {\n",
       "        vertical-align: middle;\n",
       "    }\n",
       "\n",
       "    .dataframe tbody tr th {\n",
       "        vertical-align: top;\n",
       "    }\n",
       "\n",
       "    .dataframe thead th {\n",
       "        text-align: right;\n",
       "    }\n",
       "</style>\n",
       "<table border=\"1\" class=\"dataframe\">\n",
       "  <thead>\n",
       "    <tr style=\"text-align: right;\">\n",
       "      <th></th>\n",
       "      <th>success_flag</th>\n",
       "      <th>test_group</th>\n",
       "      <th>count</th>\n",
       "    </tr>\n",
       "  </thead>\n",
       "  <tbody>\n",
       "    <tr>\n",
       "      <th>0</th>\n",
       "      <td>0</td>\n",
       "      <td>A</td>\n",
       "      <td>34270</td>\n",
       "    </tr>\n",
       "    <tr>\n",
       "      <th>1</th>\n",
       "      <td>0</td>\n",
       "      <td>B</td>\n",
       "      <td>31071</td>\n",
       "    </tr>\n",
       "    <tr>\n",
       "      <th>2</th>\n",
       "      <td>1</td>\n",
       "      <td>A</td>\n",
       "      <td>14894</td>\n",
       "    </tr>\n",
       "    <tr>\n",
       "      <th>3</th>\n",
       "      <td>1</td>\n",
       "      <td>B</td>\n",
       "      <td>13982</td>\n",
       "    </tr>\n",
       "  </tbody>\n",
       "</table>\n",
       "</div>"
      ],
      "text/plain": [
       "   success_flag test_group  count\n",
       "0             0          A  34270\n",
       "1             0          B  31071\n",
       "2             1          A  14894\n",
       "3             1          B  13982"
      ]
     },
     "execution_count": 28,
     "metadata": {},
     "output_type": "execute_result"
    }
   ],
   "source": [
    "df_users_actions = df.groupby(['success_flag', 'test_group']).size().reset_index(name='count')\n",
    "df_users_actions"
   ]
  },
  {
   "cell_type": "markdown",
   "metadata": {},
   "source": [
    "#### Общее количество действий %event% от пользователей A и B"
   ]
  },
  {
   "cell_type": "code",
   "execution_count": 29,
   "metadata": {},
   "outputs": [
    {
     "data": {
      "text/plain": [
       "49164"
      ]
     },
     "execution_count": 29,
     "metadata": {},
     "output_type": "execute_result"
    }
   ],
   "source": [
    "group_a_events = df[df['test_group'] == 'A']['user_id'].shape[0]\n",
    "group_a_events"
   ]
  },
  {
   "cell_type": "code",
   "execution_count": 30,
   "metadata": {},
   "outputs": [
    {
     "data": {
      "text/plain": [
       "45053"
      ]
     },
     "execution_count": 30,
     "metadata": {},
     "output_type": "execute_result"
    }
   ],
   "source": [
    "group_b_events = df[df['test_group'] == 'B']['user_id'].shape[0]\n",
    "group_b_events"
   ]
  },
  {
   "cell_type": "markdown",
   "metadata": {},
   "source": [
    "### AB - тест"
   ]
  },
  {
   "cell_type": "markdown",
   "metadata": {},
   "source": [
    "**Нулевая гипотеза**. Конверсия останется прежней после изменения формы оплаты  (задача — опровергнуть гипотезу).  \n",
    "**Альтернативная гипотеза**. Изменения формы оплаты приведут к повышению конверсии.\n",
    "\n",
    "**P-value**. Цель нахождения p-value как раз и состоит в том, чтобы определить, отличаются ли наблюдаемые результаты от ожидаемых настолько, чтобы можно было не отвергать «нулевую гипотезу» — гипотезу о том, что между экспериментальными переменными и наблюдаемыми результатами нет никакой связи.\n",
    "\n",
    "**Уровень значимости a** - уровень значимости показывает, насколько мы уверены в наших результатах. Низкое значение для значимости соответствует низкой вероятности того, что экспериментальные результаты вышли случайными и наоборот.  \n",
    "a = 0.05 или 5%\n",
    "\n",
    "\n",
    "**Итого**: если **p − value** меньше нашего фиксированного **уровня значимости**, на котором мы проверяем гипотезу, то нулевую гипотезу следует отвергнуть, если более – то отвергать нулевую гипотезу оснований нет. "
   ]
  },
  {
   "cell_type": "markdown",
   "metadata": {},
   "source": [
    "**Примечание 1:** Как я заметила выше, остается вопросом, что считать за успешное действие: event == PaymentSuccess либо success_flag == 1.  \n",
    "Я просчитаю оба показателя для AB теста.\n",
    "\n",
    "**Примечание 2:** Я просчитываю конверсию по действиям в каждой группе, так как в этой задаче нас интересует сколько транзакций было в каждой группе, а не количество новых привлеченных пользователей."
   ]
  },
  {
   "cell_type": "code",
   "execution_count": 31,
   "metadata": {},
   "outputs": [],
   "source": [
    "pd.set_option('display.float_format', lambda x: '%.3f' % x)"
   ]
  },
  {
   "cell_type": "markdown",
   "metadata": {},
   "source": [
    "#### Вариант по полю %success_flag%"
   ]
  },
  {
   "cell_type": "code",
   "execution_count": 32,
   "metadata": {},
   "outputs": [
    {
     "data": {
      "text/html": [
       "<div>\n",
       "<style scoped>\n",
       "    .dataframe tbody tr th:only-of-type {\n",
       "        vertical-align: middle;\n",
       "    }\n",
       "\n",
       "    .dataframe tbody tr th {\n",
       "        vertical-align: top;\n",
       "    }\n",
       "\n",
       "    .dataframe thead th {\n",
       "        text-align: right;\n",
       "    }\n",
       "</style>\n",
       "<table border=\"1\" class=\"dataframe\">\n",
       "  <thead>\n",
       "    <tr style=\"text-align: right;\">\n",
       "      <th></th>\n",
       "      <th>conversion_rate</th>\n",
       "      <th>std_deviation</th>\n",
       "      <th>std_error</th>\n",
       "    </tr>\n",
       "    <tr>\n",
       "      <th>test_group</th>\n",
       "      <th></th>\n",
       "      <th></th>\n",
       "      <th></th>\n",
       "    </tr>\n",
       "  </thead>\n",
       "  <tbody>\n",
       "    <tr>\n",
       "      <th>A</th>\n",
       "      <td>0.303</td>\n",
       "      <td>0.460</td>\n",
       "      <td>0.002</td>\n",
       "    </tr>\n",
       "    <tr>\n",
       "      <th>B</th>\n",
       "      <td>0.310</td>\n",
       "      <td>0.463</td>\n",
       "      <td>0.002</td>\n",
       "    </tr>\n",
       "  </tbody>\n",
       "</table>\n",
       "</div>"
      ],
      "text/plain": [
       "            conversion_rate  std_deviation  std_error\n",
       "test_group                                           \n",
       "A                     0.303          0.460      0.002\n",
       "B                     0.310          0.463      0.002"
      ]
     },
     "execution_count": 32,
     "metadata": {},
     "output_type": "execute_result"
    }
   ],
   "source": [
    "conversion_rates = df.groupby('test_group')['success_flag']\n",
    "\n",
    "std_p = lambda x: np.std(x, ddof=0)              \n",
    "se_p = lambda x: stats.sem(x, ddof=0)        \n",
    "\n",
    "conversion_rates = conversion_rates.agg([np.mean, std_p, se_p])\n",
    "conversion_rates.columns = ['conversion_rate', 'std_deviation', 'std_error']\n",
    "\n",
    "conversion_rates"
   ]
  },
  {
   "cell_type": "markdown",
   "metadata": {},
   "source": [
    "### Вывод"
   ]
  },
  {
   "cell_type": "markdown",
   "metadata": {},
   "source": [
    "https://www.evanmiller.org/ab-testing/chi-squared.html  \n",
    "Новый экран оплаты конвертирует лучше и нулевая гипотеза отвергается при уровне значимости a == 0.05 (p_value = 0.0138)"
   ]
  },
  {
   "cell_type": "markdown",
   "metadata": {},
   "source": [
    "#### Вариант по полю %event%"
   ]
  },
  {
   "cell_type": "code",
   "execution_count": 33,
   "metadata": {},
   "outputs": [
    {
     "data": {
      "text/html": [
       "<div>\n",
       "<style scoped>\n",
       "    .dataframe tbody tr th:only-of-type {\n",
       "        vertical-align: middle;\n",
       "    }\n",
       "\n",
       "    .dataframe tbody tr th {\n",
       "        vertical-align: top;\n",
       "    }\n",
       "\n",
       "    .dataframe thead th {\n",
       "        text-align: right;\n",
       "    }\n",
       "</style>\n",
       "<table border=\"1\" class=\"dataframe\">\n",
       "  <thead>\n",
       "    <tr style=\"text-align: right;\">\n",
       "      <th></th>\n",
       "      <th>event</th>\n",
       "      <th>test_group</th>\n",
       "      <th>conversion_rate</th>\n",
       "    </tr>\n",
       "  </thead>\n",
       "  <tbody>\n",
       "    <tr>\n",
       "      <th>0</th>\n",
       "      <td>PaymentSuccess</td>\n",
       "      <td>A</td>\n",
       "      <td>0.371</td>\n",
       "    </tr>\n",
       "    <tr>\n",
       "      <th>1</th>\n",
       "      <td>PaymentSuccess</td>\n",
       "      <td>B</td>\n",
       "      <td>0.384</td>\n",
       "    </tr>\n",
       "  </tbody>\n",
       "</table>\n",
       "</div>"
      ],
      "text/plain": [
       "            event test_group  conversion_rate\n",
       "0  PaymentSuccess          A            0.371\n",
       "1  PaymentSuccess          B            0.384"
      ]
     },
     "execution_count": 33,
     "metadata": {},
     "output_type": "execute_result"
    }
   ],
   "source": [
    "df_user_events = df_user_events[df_user_events['event'] == 'PaymentSuccess'].reset_index(drop = True)\n",
    "\n",
    "df_user_events['total_events'] = [group_a_events, group_b_events]\n",
    "\n",
    "df_user_events['conversion_rate'] = (df_user_events['count'] / df_user_events['total_events'])\n",
    "df_user_events[['event', 'test_group', 'conversion_rate']]"
   ]
  },
  {
   "cell_type": "markdown",
   "metadata": {},
   "source": [
    "### Вывод"
   ]
  },
  {
   "cell_type": "markdown",
   "metadata": {},
   "source": [
    "Новый экран оплаты конвертирует лучше и нулевая гипотеза отвергается при уровне значимости a == 0.05 (p_value < 0.001)"
   ]
  },
  {
   "cell_type": "code",
   "execution_count": null,
   "metadata": {},
   "outputs": [],
   "source": []
  }
 ],
 "metadata": {
  "kernelspec": {
   "display_name": "Python 3 (ipykernel)",
   "language": "python",
   "name": "python3"
  },
  "language_info": {
   "codemirror_mode": {
    "name": "ipython",
    "version": 3
   },
   "file_extension": ".py",
   "mimetype": "text/x-python",
   "name": "python",
   "nbconvert_exporter": "python",
   "pygments_lexer": "ipython3",
   "version": "3.10.9"
  },
  "varInspector": {
   "cols": {
    "lenName": 16,
    "lenType": 16,
    "lenVar": 40
   },
   "kernels_config": {
    "python": {
     "delete_cmd_postfix": "",
     "delete_cmd_prefix": "del ",
     "library": "var_list.py",
     "varRefreshCmd": "print(var_dic_list())"
    },
    "r": {
     "delete_cmd_postfix": ") ",
     "delete_cmd_prefix": "rm(",
     "library": "var_list.r",
     "varRefreshCmd": "cat(var_dic_list()) "
    }
   },
   "types_to_exclude": [
    "module",
    "function",
    "builtin_function_or_method",
    "instance",
    "_Feature"
   ],
   "window_display": false
  }
 },
 "nbformat": 4,
 "nbformat_minor": 4
}

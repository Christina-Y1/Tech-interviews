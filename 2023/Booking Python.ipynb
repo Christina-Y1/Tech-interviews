{
 "cells": [
  {
   "cell_type": "code",
   "execution_count": 1,
   "id": "57a0e240",
   "metadata": {},
   "outputs": [],
   "source": [
    "import pandas as pd\n",
    "import numpy as np\n",
    "\n",
    "import itertools\n",
    "import calendar\n",
    "import matplotlib\n",
    "import matplotlib.image as img\n",
    "import matplotlib.pyplot as plt\n",
    "\n",
    "from datetime import date\n",
    "from pandasql import sqldf\n",
    "\n",
    "%matplotlib inline\n",
    "%config InlineBackend.figure_format = 'png'"
   ]
  },
  {
   "cell_type": "code",
   "execution_count": 2,
   "id": "f5647828",
   "metadata": {},
   "outputs": [],
   "source": [
    "pd.set_option('display.float_format', lambda x: '%.2f' % x)\n",
    "pd.set_option('display.max_rows', 50)"
   ]
  },
  {
   "cell_type": "code",
   "execution_count": 3,
   "id": "098b557a",
   "metadata": {},
   "outputs": [],
   "source": [
    "import warnings\n",
    "warnings.filterwarnings('ignore')\n",
    "warnings.simplefilter('ignore')"
   ]
  },
  {
   "cell_type": "code",
   "execution_count": 4,
   "id": "60d9c69b",
   "metadata": {},
   "outputs": [],
   "source": [
    "#pip install pandoc"
   ]
  },
  {
   "cell_type": "markdown",
   "id": "58238d19",
   "metadata": {},
   "source": [
    "## Assignment for Applicants to the BI Reporting Analyst Position\n",
    "\n",
    "### Your role\n",
    "You are a Reporting Analyst in the Partner Services Business Insights team (central team) at Booking.com. One of your tasks is to assist account managers working in local offices around the world by providing them with actionable insights about the markets they oversee and the work they do. In addition, you will often work with other analysts and data scientists to solve more general questions that help improve the way Booking.com works, and that allow your stakeholders and peers to better understand the business.\n",
    "\n",
    "In this assignment we ask you to answer three questions. You may use data from the datasets that we have provided you. Note that we expect your answers to be based on this dataset - **there is no need to use external data sources**. Take into account the job role of the stakeholder as you draft your answer. There is no need to include everything that you can think of, but please include all information and/or insights that you find relevant and, of course, feel free to explain why you chose to use a certain approach in a separate file.\n",
    "\n",
    "### Output\n",
    "Use any methodology and set of tools that you consider to be suitable for the task. We suggest using the tool or programming language you feel most comfortable with, and strongly prefer that your answers be submitted in a .doc(x) or .pdf file.\n",
    "\n",
    "Note that you will not present your findings to us in person. Hence, your answer must be readable, concise and contain all the information we need to understand your points (this includes the specific names of variables you use). Please also use your time wisely."
   ]
  },
  {
   "cell_type": "markdown",
   "id": "553140f9",
   "metadata": {},
   "source": [
    "## Tables\n",
    "- Contacts and Product data (Data for RA Assessment - Operational Data.csv)\n",
    "- Portfolio of ‘Account Manager 5’ (Data for RA Assessment - Portfolio.csv) \n",
    "\n",
    "## Description of Dataset\n",
    "#### 1. Contacts and Product data\n",
    "- **Property_id** - Unique id assigned to each property/hotel associated with Booking.com\n",
    "\n",
    "- **Contact_id** - Unique id created for each contact made by the account manager with a property\n",
    "\n",
    "- **contact_date** - Date of contact with the property\n",
    "\n",
    "- **product** -  Name of the product\n",
    "\n",
    "- **product_status** - Status of the product based on the contact with the property\n",
    "\n",
    "- **contact_channel** - Mode of contact with the partner\n",
    "\n",
    "- **office** - Office location of the account manager (geographical dimension)\n",
    "\n",
    "- **region** - Regional director region of the account manager (geographical dimension)\n",
    "\n",
    "- **account_manager** - Name of the account manager\n",
    "\n",
    "#### 2. Portfolio of ‘Account Manager 5’\n",
    "- **Property_id** - Unique id assigned to each property/hotel associated with Booking.com\n",
    "\n",
    "- **account_manager** - Name of the account manager"
   ]
  },
  {
   "cell_type": "markdown",
   "id": "69f8f332",
   "metadata": {},
   "source": [
    "## Downloading the Data"
   ]
  },
  {
   "cell_type": "code",
   "execution_count": 5,
   "id": "5dc73b84",
   "metadata": {},
   "outputs": [],
   "source": [
    "operational_data = 'Data for RA Assessment - Operational Data.csv'\n",
    "portfolio = 'Data for RA Assessment - Portfolio.csv' "
   ]
  },
  {
   "cell_type": "code",
   "execution_count": 6,
   "id": "513aca8d",
   "metadata": {},
   "outputs": [],
   "source": [
    "df_operational_data = pd.read_csv(operational_data)\n",
    "df_portfolio = pd.read_csv(portfolio)"
   ]
  },
  {
   "cell_type": "markdown",
   "id": "97d8a963",
   "metadata": {},
   "source": [
    "## Data Processing"
   ]
  },
  {
   "cell_type": "code",
   "execution_count": 7,
   "id": "d035cc3e",
   "metadata": {},
   "outputs": [
    {
     "data": {
      "text/html": [
       "<div>\n",
       "<style scoped>\n",
       "    .dataframe tbody tr th:only-of-type {\n",
       "        vertical-align: middle;\n",
       "    }\n",
       "\n",
       "    .dataframe tbody tr th {\n",
       "        vertical-align: top;\n",
       "    }\n",
       "\n",
       "    .dataframe thead th {\n",
       "        text-align: right;\n",
       "    }\n",
       "</style>\n",
       "<table border=\"1\" class=\"dataframe\">\n",
       "  <thead>\n",
       "    <tr style=\"text-align: right;\">\n",
       "      <th></th>\n",
       "      <th>property_id</th>\n",
       "      <th>contact_id</th>\n",
       "      <th>contact_date</th>\n",
       "      <th>product</th>\n",
       "      <th>product_status</th>\n",
       "      <th>contact_channel</th>\n",
       "      <th>office</th>\n",
       "      <th>region</th>\n",
       "      <th>account_manager</th>\n",
       "      <th>Unnamed: 9</th>\n",
       "      <th>Unnamed: 10</th>\n",
       "      <th>Unnamed: 11</th>\n",
       "      <th>Unnamed: 12</th>\n",
       "      <th>Unnamed: 13</th>\n",
       "      <th>Unnamed: 14</th>\n",
       "      <th>Unnamed: 15</th>\n",
       "      <th>Unnamed: 16</th>\n",
       "    </tr>\n",
       "  </thead>\n",
       "  <tbody>\n",
       "    <tr>\n",
       "      <th>0</th>\n",
       "      <td>36722</td>\n",
       "      <td>12709503</td>\n",
       "      <td>2021-07-02</td>\n",
       "      <td>NaN</td>\n",
       "      <td>NaN</td>\n",
       "      <td>Messaging</td>\n",
       "      <td>Paris</td>\n",
       "      <td>EMEA</td>\n",
       "      <td>Account Manager 63</td>\n",
       "      <td>NaN</td>\n",
       "      <td>NaN</td>\n",
       "      <td>NaN</td>\n",
       "      <td>NaN</td>\n",
       "      <td>NaN</td>\n",
       "      <td>NaN</td>\n",
       "      <td>NaN</td>\n",
       "      <td>NaN</td>\n",
       "    </tr>\n",
       "    <tr>\n",
       "      <th>1</th>\n",
       "      <td>112045</td>\n",
       "      <td>12482283</td>\n",
       "      <td>2021-06-15</td>\n",
       "      <td>NaN</td>\n",
       "      <td>NaN</td>\n",
       "      <td>Phone</td>\n",
       "      <td>Sydney</td>\n",
       "      <td>APAC</td>\n",
       "      <td>Account Manager 8</td>\n",
       "      <td>NaN</td>\n",
       "      <td>NaN</td>\n",
       "      <td>NaN</td>\n",
       "      <td>NaN</td>\n",
       "      <td>NaN</td>\n",
       "      <td>NaN</td>\n",
       "      <td>NaN</td>\n",
       "      <td>NaN</td>\n",
       "    </tr>\n",
       "    <tr>\n",
       "      <th>2</th>\n",
       "      <td>112408</td>\n",
       "      <td>11765645</td>\n",
       "      <td>2021-04-22</td>\n",
       "      <td>NaN</td>\n",
       "      <td>NaN</td>\n",
       "      <td>Phone</td>\n",
       "      <td>Berlin</td>\n",
       "      <td>EMEA</td>\n",
       "      <td>Account Manager 51</td>\n",
       "      <td>NaN</td>\n",
       "      <td>NaN</td>\n",
       "      <td>NaN</td>\n",
       "      <td>NaN</td>\n",
       "      <td>NaN</td>\n",
       "      <td>NaN</td>\n",
       "      <td>NaN</td>\n",
       "      <td>NaN</td>\n",
       "    </tr>\n",
       "    <tr>\n",
       "      <th>3</th>\n",
       "      <td>117227</td>\n",
       "      <td>12549651</td>\n",
       "      <td>2021-06-17</td>\n",
       "      <td>NaN</td>\n",
       "      <td>NaN</td>\n",
       "      <td>Phone</td>\n",
       "      <td>Buenos Aires</td>\n",
       "      <td>AMERICAS</td>\n",
       "      <td>Account Manager 49</td>\n",
       "      <td>NaN</td>\n",
       "      <td>NaN</td>\n",
       "      <td>NaN</td>\n",
       "      <td>NaN</td>\n",
       "      <td>NaN</td>\n",
       "      <td>NaN</td>\n",
       "      <td>NaN</td>\n",
       "      <td>NaN</td>\n",
       "    </tr>\n",
       "    <tr>\n",
       "      <th>4</th>\n",
       "      <td>358583</td>\n",
       "      <td>11469137</td>\n",
       "      <td>2021-04-02</td>\n",
       "      <td>NaN</td>\n",
       "      <td>NaN</td>\n",
       "      <td>Messaging</td>\n",
       "      <td>Paris</td>\n",
       "      <td>EMEA</td>\n",
       "      <td>Account Manager 4</td>\n",
       "      <td>NaN</td>\n",
       "      <td>NaN</td>\n",
       "      <td>NaN</td>\n",
       "      <td>NaN</td>\n",
       "      <td>NaN</td>\n",
       "      <td>NaN</td>\n",
       "      <td>NaN</td>\n",
       "      <td>NaN</td>\n",
       "    </tr>\n",
       "  </tbody>\n",
       "</table>\n",
       "</div>"
      ],
      "text/plain": [
       "   property_id  contact_id contact_date product product_status  \\\n",
       "0        36722    12709503   2021-07-02     NaN            NaN   \n",
       "1       112045    12482283   2021-06-15     NaN            NaN   \n",
       "2       112408    11765645   2021-04-22     NaN            NaN   \n",
       "3       117227    12549651   2021-06-17     NaN            NaN   \n",
       "4       358583    11469137   2021-04-02     NaN            NaN   \n",
       "\n",
       "  contact_channel        office    region     account_manager  Unnamed: 9  \\\n",
       "0       Messaging         Paris      EMEA  Account Manager 63         NaN   \n",
       "1           Phone        Sydney      APAC   Account Manager 8         NaN   \n",
       "2           Phone        Berlin      EMEA  Account Manager 51         NaN   \n",
       "3           Phone  Buenos Aires  AMERICAS  Account Manager 49         NaN   \n",
       "4       Messaging         Paris      EMEA   Account Manager 4         NaN   \n",
       "\n",
       "   Unnamed: 10  Unnamed: 11  Unnamed: 12  Unnamed: 13  Unnamed: 14  \\\n",
       "0          NaN          NaN          NaN          NaN          NaN   \n",
       "1          NaN          NaN          NaN          NaN          NaN   \n",
       "2          NaN          NaN          NaN          NaN          NaN   \n",
       "3          NaN          NaN          NaN          NaN          NaN   \n",
       "4          NaN          NaN          NaN          NaN          NaN   \n",
       "\n",
       "   Unnamed: 15 Unnamed: 16  \n",
       "0          NaN         NaN  \n",
       "1          NaN         NaN  \n",
       "2          NaN         NaN  \n",
       "3          NaN         NaN  \n",
       "4          NaN         NaN  "
      ]
     },
     "execution_count": 7,
     "metadata": {},
     "output_type": "execute_result"
    }
   ],
   "source": [
    "df_operational_data.head()"
   ]
  },
  {
   "cell_type": "code",
   "execution_count": 8,
   "id": "1aeec38d",
   "metadata": {},
   "outputs": [
    {
     "data": {
      "text/html": [
       "<div>\n",
       "<style scoped>\n",
       "    .dataframe tbody tr th:only-of-type {\n",
       "        vertical-align: middle;\n",
       "    }\n",
       "\n",
       "    .dataframe tbody tr th {\n",
       "        vertical-align: top;\n",
       "    }\n",
       "\n",
       "    .dataframe thead th {\n",
       "        text-align: right;\n",
       "    }\n",
       "</style>\n",
       "<table border=\"1\" class=\"dataframe\">\n",
       "  <thead>\n",
       "    <tr style=\"text-align: right;\">\n",
       "      <th></th>\n",
       "      <th>property_id</th>\n",
       "      <th>Account_manager</th>\n",
       "    </tr>\n",
       "  </thead>\n",
       "  <tbody>\n",
       "    <tr>\n",
       "      <th>0</th>\n",
       "      <td>1897654</td>\n",
       "      <td>Account Manager 5</td>\n",
       "    </tr>\n",
       "    <tr>\n",
       "      <th>1</th>\n",
       "      <td>485542</td>\n",
       "      <td>Account Manager 5</td>\n",
       "    </tr>\n",
       "    <tr>\n",
       "      <th>2</th>\n",
       "      <td>3501466</td>\n",
       "      <td>Account Manager 5</td>\n",
       "    </tr>\n",
       "    <tr>\n",
       "      <th>3</th>\n",
       "      <td>469204</td>\n",
       "      <td>Account Manager 5</td>\n",
       "    </tr>\n",
       "    <tr>\n",
       "      <th>4</th>\n",
       "      <td>3120317</td>\n",
       "      <td>Account Manager 5</td>\n",
       "    </tr>\n",
       "  </tbody>\n",
       "</table>\n",
       "</div>"
      ],
      "text/plain": [
       "   property_id    Account_manager\n",
       "0      1897654  Account Manager 5\n",
       "1       485542  Account Manager 5\n",
       "2      3501466  Account Manager 5\n",
       "3       469204  Account Manager 5\n",
       "4      3120317  Account Manager 5"
      ]
     },
     "execution_count": 8,
     "metadata": {},
     "output_type": "execute_result"
    }
   ],
   "source": [
    "df_portfolio.head()"
   ]
  },
  {
   "cell_type": "markdown",
   "id": "91c58224",
   "metadata": {},
   "source": [
    "**Let's remove Null columns from df_operational_data**"
   ]
  },
  {
   "cell_type": "code",
   "execution_count": 9,
   "id": "7264a76b",
   "metadata": {},
   "outputs": [],
   "source": [
    "df_operational_data.dropna(axis=1, how='all', inplace=True)\n",
    "df_operational_data.drop(['Unnamed: 16'], axis=1, inplace=True)"
   ]
  },
  {
   "cell_type": "markdown",
   "id": "b59f72a6",
   "metadata": {},
   "source": [
    "## General information About the Data"
   ]
  },
  {
   "cell_type": "code",
   "execution_count": 10,
   "id": "462e1da7",
   "metadata": {},
   "outputs": [],
   "source": [
    "dfs = {\n",
    "    operational_data: df_operational_data,\n",
    "    portfolio: df_portfolio\n",
    "}"
   ]
  },
  {
   "cell_type": "code",
   "execution_count": 11,
   "id": "88de9b1f",
   "metadata": {},
   "outputs": [
    {
     "name": "stdout",
     "output_type": "stream",
     "text": [
      "Data for RA Assessment - Operational Data.csv (69164, 9)\n",
      "<class 'pandas.core.frame.DataFrame'>\n",
      "RangeIndex: 69164 entries, 0 to 69163\n",
      "Data columns (total 9 columns):\n",
      " #   Column           Non-Null Count  Dtype \n",
      "---  ------           --------------  ----- \n",
      " 0   property_id      69164 non-null  int64 \n",
      " 1   contact_id       69164 non-null  int64 \n",
      " 2   contact_date     69164 non-null  object\n",
      " 3   product          18164 non-null  object\n",
      " 4   product_status   18164 non-null  object\n",
      " 5   contact_channel  69164 non-null  object\n",
      " 6   office           69164 non-null  object\n",
      " 7   region           69163 non-null  object\n",
      " 8   account_manager  69164 non-null  object\n",
      "dtypes: int64(2), object(7)\n",
      "memory usage: 4.7+ MB\n",
      "None\n",
      "\n",
      "\n",
      "property_id        17719\n",
      "contact_id         65011\n",
      "contact_date         128\n",
      "product                4\n",
      "product_status         5\n",
      "contact_channel        2\n",
      "office                10\n",
      "region                 3\n",
      "account_manager       87\n",
      "dtype: int64\n",
      "\n",
      "\n",
      "Data for RA Assessment - Portfolio.csv (222, 2)\n",
      "<class 'pandas.core.frame.DataFrame'>\n",
      "RangeIndex: 222 entries, 0 to 221\n",
      "Data columns (total 2 columns):\n",
      " #   Column           Non-Null Count  Dtype \n",
      "---  ------           --------------  ----- \n",
      " 0   property_id      222 non-null    int64 \n",
      " 1   Account_manager  222 non-null    object\n",
      "dtypes: int64(1), object(1)\n",
      "memory usage: 3.6+ KB\n",
      "None\n",
      "\n",
      "\n",
      "property_id        222\n",
      "Account_manager      1\n",
      "dtype: int64\n",
      "\n",
      "\n"
     ]
    }
   ],
   "source": [
    "for name, df in dfs.items():\n",
    "    print(name, df.shape)\n",
    "    print(df.info())\n",
    "    print()\n",
    "    print()\n",
    "    print(df.nunique())\n",
    "    print()\n",
    "    print()"
   ]
  },
  {
   "cell_type": "markdown",
   "id": "b6d95da0",
   "metadata": {},
   "source": [
    "**Categorical Data**"
   ]
  },
  {
   "cell_type": "code",
   "execution_count": 12,
   "id": "dd8a3786",
   "metadata": {
    "scrolled": false
   },
   "outputs": [
    {
     "name": "stdout",
     "output_type": "stream",
     "text": [
      "contact_date\n",
      "\n",
      "2021-07-05    1503\n",
      "2021-06-02    1424\n",
      "2021-07-01    1362\n",
      "2021-07-06    1326\n",
      "2021-07-27    1278\n",
      "              ... \n",
      "2021-05-28       3\n",
      "2021-08-07       3\n",
      "2021-06-19       3\n",
      "2021-08-11       3\n",
      "2021-07-10       2\n",
      "Name: contact_date, Length: 128, dtype: int64\n",
      "--------------------------------------------------\n",
      "\n",
      "product\n",
      "\n",
      "Product 3    7097\n",
      "Product 1    6119\n",
      "Product 4    3130\n",
      "Product 2    1818\n",
      "Name: product, dtype: int64\n",
      "--------------------------------------------------\n",
      "\n",
      "product_status\n",
      "\n",
      "Product Offered to Property    6472\n",
      "Property is not Interested     6221\n",
      "Property is Interested         2606\n",
      "Product Implemented            2014\n",
      "Awaiting Property Decision      851\n",
      "Name: product_status, dtype: int64\n",
      "--------------------------------------------------\n",
      "\n",
      "contact_channel\n",
      "\n",
      "Phone        35428\n",
      "Messaging    33736\n",
      "Name: contact_channel, dtype: int64\n",
      "--------------------------------------------------\n",
      "\n",
      "office\n",
      "\n",
      "Tokyo             16287\n",
      "Amsterdam         10231\n",
      "Bangkok            9157\n",
      "Berlin             8825\n",
      "Paris              7680\n",
      "Rio de Janeiro     5801\n",
      "Buenos Aires       4240\n",
      "Sydney             3973\n",
      "Cancun             2969\n",
      "Tõkyo                 1\n",
      "Name: office, dtype: int64\n",
      "--------------------------------------------------\n",
      "\n",
      "region\n",
      "\n",
      "APAC        29418\n",
      "EMEA        26736\n",
      "AMERICAS    13009\n",
      "Name: region, dtype: int64\n",
      "--------------------------------------------------\n",
      "\n",
      "account_manager\n",
      "\n",
      "Account Manager 84    1689\n",
      "Account Manager 60    1678\n",
      "Account Manager 6     1653\n",
      "Account Manager 82    1632\n",
      "Account Manager 52    1586\n",
      "                      ... \n",
      "Account Manager 83     257\n",
      "Account Manager 79     257\n",
      "Account Manager 31     197\n",
      "Account Manager 30     119\n",
      "Account Manager 15      35\n",
      "Name: account_manager, Length: 87, dtype: int64\n",
      "--------------------------------------------------\n",
      "\n"
     ]
    }
   ],
   "source": [
    "for colname in df_operational_data.select_dtypes(include='object').columns:\n",
    "    print(str(colname) + '\\n\\n' + str(df_operational_data[colname].value_counts()) + '\\n' + '-' * 50 + '\\n')"
   ]
  },
  {
   "cell_type": "markdown",
   "id": "f8270d1a",
   "metadata": {},
   "source": [
    "**Data Gaps**"
   ]
  },
  {
   "cell_type": "code",
   "execution_count": 13,
   "id": "fc1415ea",
   "metadata": {},
   "outputs": [
    {
     "data": {
      "text/plain": [
       "property_id            0\n",
       "contact_id             0\n",
       "contact_date           0\n",
       "product            51000\n",
       "product_status     51000\n",
       "contact_channel        0\n",
       "office                 0\n",
       "region                 1\n",
       "account_manager        0\n",
       "dtype: int64"
      ]
     },
     "execution_count": 13,
     "metadata": {},
     "output_type": "execute_result"
    }
   ],
   "source": [
    "df_operational_data.isna().sum()"
   ]
  },
  {
   "cell_type": "code",
   "execution_count": 14,
   "id": "55a55e7c",
   "metadata": {},
   "outputs": [
    {
     "data": {
      "text/plain": [
       "property_id        0\n",
       "Account_manager    0\n",
       "dtype: int64"
      ]
     },
     "execution_count": 14,
     "metadata": {},
     "output_type": "execute_result"
    }
   ],
   "source": [
    "df_portfolio.isna().sum()"
   ]
  },
  {
   "cell_type": "markdown",
   "id": "b451ca00",
   "metadata": {},
   "source": [
    "## Question 1:\n",
    "\n",
    "“Dear Colleague,\n",
    "As an account manager I am responsible for contacting my portfolio (partners assigned to me) every quarter and offering products that can help these partners increase their performance. I am an Account Manager (‘Account Manager 5’ in the dataset) in APAC and as a mid quarter check in, I would like to see how I have performed so far in this quarter and what are the focus areas for the rest of the quarter.”\n",
    "1. How would you rate the performance* of this Account Manager so far and what would you recommend for the remaining quarter?\n",
    "2. How did you get to this recommendation? What metrics and/or factors did you look at and why?\n",
    "3. How would you best present this information to the Account Manager?\n",
    "\n",
    "*For rating performance look at the metrics*:\n",
    "\n",
    "- **Number of contacts with partners (Contacts)**: how many times Account Managers are contacting partners.\n",
    "- **Number of products offered (Products Offered)**: how many times products are offered in partner contacts."
   ]
  },
  {
   "cell_type": "markdown",
   "id": "ad65e68e",
   "metadata": {},
   "source": [
    "### Let's check the main metrics"
   ]
  },
  {
   "cell_type": "code",
   "execution_count": 15,
   "id": "dcd6ed03",
   "metadata": {},
   "outputs": [
    {
     "data": {
      "text/html": [
       "<div>\n",
       "<style scoped>\n",
       "    .dataframe tbody tr th:only-of-type {\n",
       "        vertical-align: middle;\n",
       "    }\n",
       "\n",
       "    .dataframe tbody tr th {\n",
       "        vertical-align: top;\n",
       "    }\n",
       "\n",
       "    .dataframe thead th {\n",
       "        text-align: right;\n",
       "    }\n",
       "</style>\n",
       "<table border=\"1\" class=\"dataframe\">\n",
       "  <thead>\n",
       "    <tr style=\"text-align: right;\">\n",
       "      <th></th>\n",
       "      <th>account_manager</th>\n",
       "      <th>region</th>\n",
       "      <th>unique_partners</th>\n",
       "      <th>count_contacts_with_partners</th>\n",
       "      <th>count_unique_contacts_with_partners</th>\n",
       "      <th>contacted</th>\n",
       "      <th>product_offered</th>\n",
       "      <th>quantity_of_offered_products</th>\n",
       "    </tr>\n",
       "  </thead>\n",
       "  <tbody>\n",
       "    <tr>\n",
       "      <th>0</th>\n",
       "      <td>Account Manager 1</td>\n",
       "      <td>None</td>\n",
       "      <td>217</td>\n",
       "      <td>984</td>\n",
       "      <td>971</td>\n",
       "      <td>78</td>\n",
       "      <td>NaN</td>\n",
       "      <td>NaN</td>\n",
       "    </tr>\n",
       "    <tr>\n",
       "      <th>1</th>\n",
       "      <td>Account Manager 10</td>\n",
       "      <td>APAC</td>\n",
       "      <td>279</td>\n",
       "      <td>1010</td>\n",
       "      <td>991</td>\n",
       "      <td>147</td>\n",
       "      <td>53.00</td>\n",
       "      <td>46.00</td>\n",
       "    </tr>\n",
       "    <tr>\n",
       "      <th>2</th>\n",
       "      <td>Account Manager 11</td>\n",
       "      <td>APAC</td>\n",
       "      <td>144</td>\n",
       "      <td>605</td>\n",
       "      <td>546</td>\n",
       "      <td>189</td>\n",
       "      <td>45.00</td>\n",
       "      <td>40.00</td>\n",
       "    </tr>\n",
       "    <tr>\n",
       "      <th>3</th>\n",
       "      <td>Account Manager 12</td>\n",
       "      <td>AMERICAS</td>\n",
       "      <td>195</td>\n",
       "      <td>652</td>\n",
       "      <td>566</td>\n",
       "      <td>287</td>\n",
       "      <td>127.00</td>\n",
       "      <td>97.00</td>\n",
       "    </tr>\n",
       "    <tr>\n",
       "      <th>4</th>\n",
       "      <td>Account Manager 13</td>\n",
       "      <td>APAC</td>\n",
       "      <td>144</td>\n",
       "      <td>701</td>\n",
       "      <td>671</td>\n",
       "      <td>162</td>\n",
       "      <td>49.00</td>\n",
       "      <td>45.00</td>\n",
       "    </tr>\n",
       "  </tbody>\n",
       "</table>\n",
       "</div>"
      ],
      "text/plain": [
       "      account_manager    region  unique_partners  \\\n",
       "0   Account Manager 1      None              217   \n",
       "1  Account Manager 10      APAC              279   \n",
       "2  Account Manager 11      APAC              144   \n",
       "3  Account Manager 12  AMERICAS              195   \n",
       "4  Account Manager 13      APAC              144   \n",
       "\n",
       "   count_contacts_with_partners  count_unique_contacts_with_partners  \\\n",
       "0                           984                                  971   \n",
       "1                          1010                                  991   \n",
       "2                           605                                  546   \n",
       "3                           652                                  566   \n",
       "4                           701                                  671   \n",
       "\n",
       "   contacted  product_offered  quantity_of_offered_products  \n",
       "0         78              NaN                           NaN  \n",
       "1        147            53.00                         46.00  \n",
       "2        189            45.00                         40.00  \n",
       "3        287           127.00                         97.00  \n",
       "4        162            49.00                         45.00  "
      ]
     },
     "execution_count": 15,
     "metadata": {},
     "output_type": "execute_result"
    }
   ],
   "source": [
    "query = \"\"\" \n",
    "\n",
    "WITH Contacts AS (\n",
    "SELECT \n",
    "    account_manager,\n",
    "    unique_partners,\n",
    "    count_contacts_with_partners,\n",
    "    count_unique_contacts_with_partners,\n",
    "    contacted,\n",
    "    product_offered\n",
    "FROM (\n",
    "SELECT \n",
    "    account_manager,\n",
    "    COUNT(DISTINCT contact_id) as count_unique_contacts_with_partners,\n",
    "    COUNT(contact_id) as count_contacts_with_partners,\n",
    "    COUNT(DISTINCT property_id) as unique_partners,\n",
    "    COUNT(product_status) as contacted,\n",
    "    SUM(CASE WHEN product_status = 'Product Offered to Property' THEN 1 END) product_offered\n",
    "FROM df_operational_data\n",
    "GROUP BY account_manager)\n",
    "),\n",
    "Products_Offered AS (\n",
    "SELECT \n",
    "    account_manager,\n",
    "    region,\n",
    "    count(product) as quantity_of_offered_products\n",
    "FROM\n",
    "    (\n",
    "    SELECT \n",
    "        account_manager,\n",
    "        region,\n",
    "        property_id,\n",
    "        product,\n",
    "        COUNT(contact_id) as contacts_count\n",
    "    FROM df_operational_data\n",
    "    WHERE product_status = 'Product Offered to Property' \n",
    "    GROUP BY account_manager, property_id, product\n",
    "    ) total_quantity_of_products\n",
    "GROUP BY account_manager\n",
    ")\n",
    "SELECT \n",
    "    c.account_manager, \n",
    "    po.region,\n",
    "    c.unique_partners, \n",
    "    c.count_contacts_with_partners, \n",
    "    c.count_unique_contacts_with_partners,\n",
    "    c.contacted,\n",
    "    c.product_offered,\n",
    "    po.quantity_of_offered_products\n",
    "    \n",
    "FROM Contacts c\n",
    "LEFT JOIN Products_Offered po ON c.account_manager = po.account_manager\n",
    "\n",
    "\"\"\"\n",
    "df = sqldf(query) \n",
    "df.head()"
   ]
  },
  {
   "cell_type": "markdown",
   "id": "dc6e5c08",
   "metadata": {},
   "source": [
    "**Definition of the new table - User's funnel way**\n",
    "- account_manager\t\n",
    "\n",
    "- unique_partners - Unique partners for each Account Manager\n",
    "\n",
    "- count_contacts_with_partners - Attemps of contact to partner and offering few product via one attempt\n",
    "\n",
    "- count_unique_contacts_with_partners - Distinct attemps of contact to partner\n",
    "\n",
    "- contacted - Successfully contacted and delivered the offer\n",
    "\n",
    "- product_offered - how many times products are offered in partner contacts (status=Products Offered)\n",
    "\n",
    "- quantity_of_offered_products - How many products Account Manager offered to each partner via all contacts"
   ]
  },
  {
   "cell_type": "markdown",
   "id": "0b7b8af9",
   "metadata": {},
   "source": [
    "**Unique contacts and The quantity of the contacts could differ, because sometimes Account Manager offer different products to the same client at the same date**"
   ]
  },
  {
   "cell_type": "markdown",
   "id": "db3e14f3",
   "metadata": {},
   "source": [
    "**This is Outcome of the Account Manager 5**"
   ]
  },
  {
   "cell_type": "code",
   "execution_count": 16,
   "id": "f8a604aa",
   "metadata": {},
   "outputs": [],
   "source": [
    "df['%_successful_offered'] = df['product_offered'] / df['contacted']"
   ]
  },
  {
   "cell_type": "code",
   "execution_count": 17,
   "id": "415958f0",
   "metadata": {},
   "outputs": [
    {
     "data": {
      "text/html": [
       "<div>\n",
       "<style scoped>\n",
       "    .dataframe tbody tr th:only-of-type {\n",
       "        vertical-align: middle;\n",
       "    }\n",
       "\n",
       "    .dataframe tbody tr th {\n",
       "        vertical-align: top;\n",
       "    }\n",
       "\n",
       "    .dataframe thead th {\n",
       "        text-align: right;\n",
       "    }\n",
       "</style>\n",
       "<table border=\"1\" class=\"dataframe\">\n",
       "  <thead>\n",
       "    <tr style=\"text-align: right;\">\n",
       "      <th></th>\n",
       "      <th>account_manager</th>\n",
       "      <th>region</th>\n",
       "      <th>unique_partners</th>\n",
       "      <th>count_contacts_with_partners</th>\n",
       "      <th>count_unique_contacts_with_partners</th>\n",
       "      <th>contacted</th>\n",
       "      <th>product_offered</th>\n",
       "      <th>quantity_of_offered_products</th>\n",
       "      <th>%_successful_offered</th>\n",
       "    </tr>\n",
       "  </thead>\n",
       "  <tbody>\n",
       "    <tr>\n",
       "      <th>0</th>\n",
       "      <td>Account Manager 5</td>\n",
       "      <td>APAC</td>\n",
       "      <td>159</td>\n",
       "      <td>688</td>\n",
       "      <td>650</td>\n",
       "      <td>168</td>\n",
       "      <td>46.00</td>\n",
       "      <td>40.00</td>\n",
       "      <td>0.27</td>\n",
       "    </tr>\n",
       "  </tbody>\n",
       "</table>\n",
       "</div>"
      ],
      "text/plain": [
       "     account_manager region  unique_partners  count_contacts_with_partners  \\\n",
       "0  Account Manager 5   APAC              159                           688   \n",
       "\n",
       "   count_unique_contacts_with_partners  contacted  product_offered  \\\n",
       "0                                  650        168            46.00   \n",
       "\n",
       "   quantity_of_offered_products  %_successful_offered  \n",
       "0                         40.00                  0.27  "
      ]
     },
     "execution_count": 17,
     "metadata": {},
     "output_type": "execute_result"
    }
   ],
   "source": [
    "df[df['account_manager'] == 'Account Manager 5'].reset_index(drop = True)"
   ]
  },
  {
   "cell_type": "code",
   "execution_count": 18,
   "id": "c716b3a4",
   "metadata": {},
   "outputs": [
    {
     "data": {
      "text/html": [
       "<div>\n",
       "<style scoped>\n",
       "    .dataframe tbody tr th:only-of-type {\n",
       "        vertical-align: middle;\n",
       "    }\n",
       "\n",
       "    .dataframe tbody tr th {\n",
       "        vertical-align: top;\n",
       "    }\n",
       "\n",
       "    .dataframe thead th {\n",
       "        text-align: right;\n",
       "    }\n",
       "</style>\n",
       "<table border=\"1\" class=\"dataframe\">\n",
       "  <thead>\n",
       "    <tr style=\"text-align: right;\">\n",
       "      <th></th>\n",
       "      <th>account_manager</th>\n",
       "      <th>contacted</th>\n",
       "      <th>product_offered</th>\n",
       "      <th>%_successful_offered</th>\n",
       "      <th>region</th>\n",
       "    </tr>\n",
       "  </thead>\n",
       "  <tbody>\n",
       "    <tr>\n",
       "      <th>0</th>\n",
       "      <td>Account Manager 1</td>\n",
       "      <td>78</td>\n",
       "      <td>NaN</td>\n",
       "      <td>NaN</td>\n",
       "      <td>None</td>\n",
       "    </tr>\n",
       "    <tr>\n",
       "      <th>1</th>\n",
       "      <td>Account Manager 10</td>\n",
       "      <td>147</td>\n",
       "      <td>53.00</td>\n",
       "      <td>0.36</td>\n",
       "      <td>APAC</td>\n",
       "    </tr>\n",
       "    <tr>\n",
       "      <th>2</th>\n",
       "      <td>Account Manager 11</td>\n",
       "      <td>189</td>\n",
       "      <td>45.00</td>\n",
       "      <td>0.24</td>\n",
       "      <td>APAC</td>\n",
       "    </tr>\n",
       "    <tr>\n",
       "      <th>3</th>\n",
       "      <td>Account Manager 12</td>\n",
       "      <td>287</td>\n",
       "      <td>127.00</td>\n",
       "      <td>0.44</td>\n",
       "      <td>AMERICAS</td>\n",
       "    </tr>\n",
       "    <tr>\n",
       "      <th>4</th>\n",
       "      <td>Account Manager 13</td>\n",
       "      <td>162</td>\n",
       "      <td>49.00</td>\n",
       "      <td>0.30</td>\n",
       "      <td>APAC</td>\n",
       "    </tr>\n",
       "  </tbody>\n",
       "</table>\n",
       "</div>"
      ],
      "text/plain": [
       "      account_manager  contacted  product_offered  %_successful_offered  \\\n",
       "0   Account Manager 1         78              NaN                   NaN   \n",
       "1  Account Manager 10        147            53.00                  0.36   \n",
       "2  Account Manager 11        189            45.00                  0.24   \n",
       "3  Account Manager 12        287           127.00                  0.44   \n",
       "4  Account Manager 13        162            49.00                  0.30   \n",
       "\n",
       "     region  \n",
       "0      None  \n",
       "1      APAC  \n",
       "2      APAC  \n",
       "3  AMERICAS  \n",
       "4      APAC  "
      ]
     },
     "execution_count": 18,
     "metadata": {},
     "output_type": "execute_result"
    }
   ],
   "source": [
    "# Let's check only performing metrics\n",
    "df_res = df[['account_manager', 'contacted', 'product_offered', '%_successful_offered', 'region']]\n",
    "\n",
    "df_res.head()"
   ]
  },
  {
   "cell_type": "code",
   "execution_count": 19,
   "id": "61182c1c",
   "metadata": {
    "scrolled": false
   },
   "outputs": [
    {
     "data": {
      "text/plain": [
       "(52, 87)"
      ]
     },
     "execution_count": 19,
     "metadata": {},
     "output_type": "execute_result"
    }
   ],
   "source": [
    "# in percentages - 52 Place out of 87\n",
    "\n",
    "tdf = df_res.sort_values(by='%_successful_offered', ignore_index=True, ascending=False)\n",
    "tdf[tdf['account_manager'] == 'Account Manager 5'].index[0], tdf.shape[0]"
   ]
  },
  {
   "cell_type": "code",
   "execution_count": 20,
   "id": "0464e21e",
   "metadata": {},
   "outputs": [
    {
     "data": {
      "text/plain": [
       "(46, 87)"
      ]
     },
     "execution_count": 20,
     "metadata": {},
     "output_type": "execute_result"
    }
   ],
   "source": [
    "# absolute values by Contacted - 46 Place out of 87\n",
    "\n",
    "tdf0 = df_res.sort_values(by='contacted', ignore_index=True, ascending=False)\n",
    "tdf0[tdf0['account_manager'] == 'Account Manager 5'].index[0], tdf0.shape[0]"
   ]
  },
  {
   "cell_type": "code",
   "execution_count": 21,
   "id": "dec9efbe",
   "metadata": {},
   "outputs": [
    {
     "data": {
      "text/plain": [
       "(51, 87)"
      ]
     },
     "execution_count": 21,
     "metadata": {},
     "output_type": "execute_result"
    }
   ],
   "source": [
    "# absolute values by Product offered - 51 Place out of 87\n",
    "\n",
    "tdf1 = df_res.sort_values(by='product_offered', ignore_index=True, ascending=False)\n",
    "tdf1[tdf1['account_manager'] == 'Account Manager 5'].index[0], tdf1.shape[0]"
   ]
  },
  {
   "cell_type": "code",
   "execution_count": 22,
   "id": "7cea66f1",
   "metadata": {},
   "outputs": [],
   "source": [
    "# We could see, that Account Manager 5 performs average / under average"
   ]
  },
  {
   "cell_type": "markdown",
   "id": "7f1026ca",
   "metadata": {},
   "source": [
    "**Let's check some anomalies in contacting partners from portfolio of Account Manager 5**"
   ]
  },
  {
   "cell_type": "code",
   "execution_count": 23,
   "id": "a901051b",
   "metadata": {},
   "outputs": [
    {
     "data": {
      "text/plain": [
       "222"
      ]
     },
     "execution_count": 23,
     "metadata": {},
     "output_type": "execute_result"
    }
   ],
   "source": [
    "# This is total unique partners in portfolio for\n",
    "df_portfolio['property_id'].nunique()"
   ]
  },
  {
   "cell_type": "code",
   "execution_count": 24,
   "id": "7c732779",
   "metadata": {},
   "outputs": [
    {
     "data": {
      "text/html": [
       "<div>\n",
       "<style scoped>\n",
       "    .dataframe tbody tr th:only-of-type {\n",
       "        vertical-align: middle;\n",
       "    }\n",
       "\n",
       "    .dataframe tbody tr th {\n",
       "        vertical-align: top;\n",
       "    }\n",
       "\n",
       "    .dataframe thead th {\n",
       "        text-align: right;\n",
       "    }\n",
       "</style>\n",
       "<table border=\"1\" class=\"dataframe\">\n",
       "  <thead>\n",
       "    <tr style=\"text-align: right;\">\n",
       "      <th></th>\n",
       "      <th>property_id</th>\n",
       "      <th>account_manager</th>\n",
       "      <th>in_portfolio</th>\n",
       "    </tr>\n",
       "  </thead>\n",
       "  <tbody>\n",
       "    <tr>\n",
       "      <th>0</th>\n",
       "      <td>17984</td>\n",
       "      <td>Account Manager 4</td>\n",
       "      <td>False</td>\n",
       "    </tr>\n",
       "    <tr>\n",
       "      <th>1</th>\n",
       "      <td>18026</td>\n",
       "      <td>Account Manager 60</td>\n",
       "      <td>False</td>\n",
       "    </tr>\n",
       "    <tr>\n",
       "      <th>2</th>\n",
       "      <td>18073</td>\n",
       "      <td>Account Manager 63</td>\n",
       "      <td>False</td>\n",
       "    </tr>\n",
       "    <tr>\n",
       "      <th>3</th>\n",
       "      <td>18076</td>\n",
       "      <td>Account Manager 60</td>\n",
       "      <td>False</td>\n",
       "    </tr>\n",
       "    <tr>\n",
       "      <th>4</th>\n",
       "      <td>18076</td>\n",
       "      <td>Account Manager 63</td>\n",
       "      <td>False</td>\n",
       "    </tr>\n",
       "  </tbody>\n",
       "</table>\n",
       "</div>"
      ],
      "text/plain": [
       "   property_id     account_manager  in_portfolio\n",
       "0        17984   Account Manager 4         False\n",
       "1        18026  Account Manager 60         False\n",
       "2        18073  Account Manager 63         False\n",
       "3        18076  Account Manager 60         False\n",
       "4        18076  Account Manager 63         False"
      ]
     },
     "execution_count": 24,
     "metadata": {},
     "output_type": "execute_result"
    }
   ],
   "source": [
    "tdf = df_operational_data[['property_id', 'account_manager']]\n",
    "tdf = tdf.groupby(['property_id', 'account_manager'], as_index=False).count()\n",
    "tdf['in_portfolio'] = tdf['property_id'].apply(lambda a: a in df_portfolio['property_id'].values)\n",
    "tdf.head()"
   ]
  },
  {
   "cell_type": "code",
   "execution_count": 25,
   "id": "3ab6ca29",
   "metadata": {},
   "outputs": [
    {
     "data": {
      "text/plain": [
       "(159, 136)"
      ]
     },
     "execution_count": 25,
     "metadata": {},
     "output_type": "execute_result"
    }
   ],
   "source": [
    "manager_5_stat = tdf[tdf['account_manager'] == 'Account Manager 5']\n",
    "manager_5_stat.shape[0], manager_5_stat['in_portfolio'].sum()"
   ]
  },
  {
   "cell_type": "markdown",
   "id": "a6ad003d",
   "metadata": {},
   "source": [
    "**We could see, that Account Manager 5 called only 136 partners from portfolio, this is 61%**"
   ]
  },
  {
   "cell_type": "code",
   "execution_count": 26,
   "id": "5a9f6f83",
   "metadata": {},
   "outputs": [
    {
     "data": {
      "text/plain": [
       "0.61"
      ]
     },
     "execution_count": 26,
     "metadata": {},
     "output_type": "execute_result"
    }
   ],
   "source": [
    "round(136/222, 2)"
   ]
  },
  {
   "cell_type": "markdown",
   "id": "a0671cdc",
   "metadata": {},
   "source": [
    "**Also we could notice, that Manager contacted to someone's else partners**"
   ]
  },
  {
   "cell_type": "code",
   "execution_count": 27,
   "id": "90d305af",
   "metadata": {},
   "outputs": [
    {
     "data": {
      "text/plain": [
       "23"
      ]
     },
     "execution_count": 27,
     "metadata": {},
     "output_type": "execute_result"
    }
   ],
   "source": [
    "159-136"
   ]
  },
  {
   "cell_type": "markdown",
   "id": "029ba97a",
   "metadata": {},
   "source": [
    "## Question 2:\n",
    "\n",
    "“Dear Colleague,\n",
    "As the Managing Director of APAC, I am responsible for steering the region’s growth and performance. For the past few quarters I have relied on some reports which showcase the following metrics for this purpose: products offered and contacts.”\n",
    "1. Which other metrics (from the dataset provided) would you suggest to the MD to assess the region’s performance and why?\n",
    "2. The MD needs to present his region’s performance to the VP. How would your report look to accomplish his goal?"
   ]
  },
  {
   "cell_type": "code",
   "execution_count": 28,
   "id": "8c83109a",
   "metadata": {
    "scrolled": false
   },
   "outputs": [],
   "source": [
    "grouped_df = df.groupby(by='region', as_index=False).agg(\n",
    "    n_account_managers=pd.NamedAgg(column='account_manager', aggfunc='count'),\n",
    "    n_unique_partners=pd.NamedAgg(column='unique_partners', aggfunc='sum'),\n",
    "    n_contacts_with_partners=pd.NamedAgg(column='count_contacts_with_partners', aggfunc='sum'),\n",
    "    n_contacted=pd.NamedAgg(column='contacted', aggfunc='sum'),\n",
    "    n_product_offered=pd.NamedAgg(column='product_offered', aggfunc='sum'),\n",
    "    n_unique_offered_products=pd.NamedAgg(column='quantity_of_offered_products', aggfunc='sum')\n",
    ")    "
   ]
  },
  {
   "cell_type": "markdown",
   "id": "23cd2bce",
   "metadata": {},
   "source": [
    "**Standart metrics: products offered and contacts**"
   ]
  },
  {
   "cell_type": "code",
   "execution_count": 29,
   "id": "bca5478b",
   "metadata": {},
   "outputs": [
    {
     "data": {
      "text/html": [
       "<div>\n",
       "<style scoped>\n",
       "    .dataframe tbody tr th:only-of-type {\n",
       "        vertical-align: middle;\n",
       "    }\n",
       "\n",
       "    .dataframe tbody tr th {\n",
       "        vertical-align: top;\n",
       "    }\n",
       "\n",
       "    .dataframe thead th {\n",
       "        text-align: right;\n",
       "    }\n",
       "</style>\n",
       "<table border=\"1\" class=\"dataframe\">\n",
       "  <thead>\n",
       "    <tr style=\"text-align: right;\">\n",
       "      <th></th>\n",
       "      <th>region</th>\n",
       "      <th>n_contacted</th>\n",
       "      <th>n_product_offered</th>\n",
       "    </tr>\n",
       "  </thead>\n",
       "  <tbody>\n",
       "    <tr>\n",
       "      <th>0</th>\n",
       "      <td>AMERICAS</td>\n",
       "      <td>3810</td>\n",
       "      <td>1628.00</td>\n",
       "    </tr>\n",
       "    <tr>\n",
       "      <th>1</th>\n",
       "      <td>APAC</td>\n",
       "      <td>6652</td>\n",
       "      <td>1604.00</td>\n",
       "    </tr>\n",
       "    <tr>\n",
       "      <th>2</th>\n",
       "      <td>EMEA</td>\n",
       "      <td>7439</td>\n",
       "      <td>3240.00</td>\n",
       "    </tr>\n",
       "  </tbody>\n",
       "</table>\n",
       "</div>"
      ],
      "text/plain": [
       "     region  n_contacted  n_product_offered\n",
       "0  AMERICAS         3810            1628.00\n",
       "1      APAC         6652            1604.00\n",
       "2      EMEA         7439            3240.00"
      ]
     },
     "execution_count": 29,
     "metadata": {},
     "output_type": "execute_result"
    }
   ],
   "source": [
    "grouped_df[['region', 'n_contacted', 'n_product_offered']]"
   ]
  },
  {
   "cell_type": "markdown",
   "id": "2d2be4dc",
   "metadata": {},
   "source": [
    "### Let's implement other important metrics"
   ]
  },
  {
   "cell_type": "code",
   "execution_count": 30,
   "id": "cf9f9928",
   "metadata": {},
   "outputs": [
    {
     "data": {
      "text/html": [
       "<div>\n",
       "<style scoped>\n",
       "    .dataframe tbody tr th:only-of-type {\n",
       "        vertical-align: middle;\n",
       "    }\n",
       "\n",
       "    .dataframe tbody tr th {\n",
       "        vertical-align: top;\n",
       "    }\n",
       "\n",
       "    .dataframe thead th {\n",
       "        text-align: right;\n",
       "    }\n",
       "</style>\n",
       "<table border=\"1\" class=\"dataframe\">\n",
       "  <thead>\n",
       "    <tr style=\"text-align: right;\">\n",
       "      <th></th>\n",
       "      <th>region</th>\n",
       "      <th>n_contacted</th>\n",
       "      <th>n_product_offered</th>\n",
       "      <th>n_account_managers</th>\n",
       "      <th>offered/contacted</th>\n",
       "      <th>avg_contacted_per_manager</th>\n",
       "      <th>avg_offered_per_manager</th>\n",
       "    </tr>\n",
       "  </thead>\n",
       "  <tbody>\n",
       "    <tr>\n",
       "      <th>0</th>\n",
       "      <td>EMEA</td>\n",
       "      <td>7439</td>\n",
       "      <td>3240.00</td>\n",
       "      <td>29</td>\n",
       "      <td>0.44</td>\n",
       "      <td>256.52</td>\n",
       "      <td>111.72</td>\n",
       "    </tr>\n",
       "    <tr>\n",
       "      <th>1</th>\n",
       "      <td>AMERICAS</td>\n",
       "      <td>3810</td>\n",
       "      <td>1628.00</td>\n",
       "      <td>25</td>\n",
       "      <td>0.43</td>\n",
       "      <td>152.40</td>\n",
       "      <td>65.12</td>\n",
       "    </tr>\n",
       "    <tr>\n",
       "      <th>2</th>\n",
       "      <td>APAC</td>\n",
       "      <td>6652</td>\n",
       "      <td>1604.00</td>\n",
       "      <td>31</td>\n",
       "      <td>0.24</td>\n",
       "      <td>214.58</td>\n",
       "      <td>51.74</td>\n",
       "    </tr>\n",
       "  </tbody>\n",
       "</table>\n",
       "</div>"
      ],
      "text/plain": [
       "     region  n_contacted  n_product_offered  n_account_managers  \\\n",
       "0      EMEA         7439            3240.00                  29   \n",
       "1  AMERICAS         3810            1628.00                  25   \n",
       "2      APAC         6652            1604.00                  31   \n",
       "\n",
       "   offered/contacted  avg_contacted_per_manager  avg_offered_per_manager  \n",
       "0               0.44                     256.52                   111.72  \n",
       "1               0.43                     152.40                    65.12  \n",
       "2               0.24                     214.58                    51.74  "
      ]
     },
     "execution_count": 30,
     "metadata": {},
     "output_type": "execute_result"
    }
   ],
   "source": [
    "tdf0 = grouped_df[['region', 'n_contacted', 'n_product_offered', 'n_account_managers']]\n",
    "tdf0['offered/contacted'] = tdf0['n_product_offered'] / tdf0['n_contacted']\n",
    "tdf0['avg_contacted_per_manager'] = tdf0['n_contacted'] / tdf0['n_account_managers']\n",
    "tdf0['avg_offered_per_manager'] = tdf0['n_product_offered'] / tdf0['n_account_managers']\n",
    "\n",
    "\n",
    "tdf0.sort_values(by='offered/contacted', ignore_index=True, ascending=False)"
   ]
  },
  {
   "cell_type": "markdown",
   "id": "b8f0426a",
   "metadata": {},
   "source": [
    "We could see, that **APAC has the lowest conversion from contacted to offered**. But on the stage of contacting Managers in APAC have good results, so there is some anomaly after contacting to offering"
   ]
  },
  {
   "cell_type": "code",
   "execution_count": 31,
   "id": "b3e2aad2",
   "metadata": {},
   "outputs": [
    {
     "data": {
      "text/html": [
       "<div>\n",
       "<style scoped>\n",
       "    .dataframe tbody tr th:only-of-type {\n",
       "        vertical-align: middle;\n",
       "    }\n",
       "\n",
       "    .dataframe tbody tr th {\n",
       "        vertical-align: top;\n",
       "    }\n",
       "\n",
       "    .dataframe thead th {\n",
       "        text-align: right;\n",
       "    }\n",
       "</style>\n",
       "<table border=\"1\" class=\"dataframe\">\n",
       "  <thead>\n",
       "    <tr style=\"text-align: right;\">\n",
       "      <th></th>\n",
       "      <th>region</th>\n",
       "      <th>contact_channel</th>\n",
       "      <th>cnt</th>\n",
       "    </tr>\n",
       "  </thead>\n",
       "  <tbody>\n",
       "    <tr>\n",
       "      <th>0</th>\n",
       "      <td>EMEA</td>\n",
       "      <td>Phone</td>\n",
       "      <td>17404</td>\n",
       "    </tr>\n",
       "    <tr>\n",
       "      <th>1</th>\n",
       "      <td>APAC</td>\n",
       "      <td>Messaging</td>\n",
       "      <td>17301</td>\n",
       "    </tr>\n",
       "    <tr>\n",
       "      <th>2</th>\n",
       "      <td>APAC</td>\n",
       "      <td>Phone</td>\n",
       "      <td>12117</td>\n",
       "    </tr>\n",
       "    <tr>\n",
       "      <th>3</th>\n",
       "      <td>EMEA</td>\n",
       "      <td>Messaging</td>\n",
       "      <td>9332</td>\n",
       "    </tr>\n",
       "    <tr>\n",
       "      <th>4</th>\n",
       "      <td>AMERICAS</td>\n",
       "      <td>Messaging</td>\n",
       "      <td>7103</td>\n",
       "    </tr>\n",
       "    <tr>\n",
       "      <th>5</th>\n",
       "      <td>AMERICAS</td>\n",
       "      <td>Phone</td>\n",
       "      <td>5906</td>\n",
       "    </tr>\n",
       "  </tbody>\n",
       "</table>\n",
       "</div>"
      ],
      "text/plain": [
       "     region contact_channel    cnt\n",
       "0      EMEA           Phone  17404\n",
       "1      APAC       Messaging  17301\n",
       "2      APAC           Phone  12117\n",
       "3      EMEA       Messaging   9332\n",
       "4  AMERICAS       Messaging   7103\n",
       "5  AMERICAS           Phone   5906"
      ]
     },
     "execution_count": 31,
     "metadata": {},
     "output_type": "execute_result"
    }
   ],
   "source": [
    "df_operational_data.groupby(['region', 'contact_channel']).size().reset_index(name='cnt') \\\n",
    "    .sort_values(by='cnt', ignore_index=True, ascending=False)"
   ]
  },
  {
   "cell_type": "markdown",
   "id": "6001e65b",
   "metadata": {},
   "source": [
    "**We could see, that manageres in APAC use Messaging mostly insteed the Phone.**. In EMEA Region managers use Phone and they have the highest performance in offering after contacting"
   ]
  },
  {
   "cell_type": "code",
   "execution_count": 32,
   "id": "4f3983b1",
   "metadata": {},
   "outputs": [
    {
     "data": {
      "text/html": [
       "<div>\n",
       "<style scoped>\n",
       "    .dataframe tbody tr th:only-of-type {\n",
       "        vertical-align: middle;\n",
       "    }\n",
       "\n",
       "    .dataframe tbody tr th {\n",
       "        vertical-align: top;\n",
       "    }\n",
       "\n",
       "    .dataframe thead th {\n",
       "        text-align: right;\n",
       "    }\n",
       "</style>\n",
       "<table border=\"1\" class=\"dataframe\">\n",
       "  <thead>\n",
       "    <tr style=\"text-align: right;\">\n",
       "      <th></th>\n",
       "      <th>region</th>\n",
       "      <th>n_contacts_with_partners</th>\n",
       "      <th>n_contacted</th>\n",
       "      <th>contacted/n_contacts</th>\n",
       "    </tr>\n",
       "  </thead>\n",
       "  <tbody>\n",
       "    <tr>\n",
       "      <th>0</th>\n",
       "      <td>AMERICAS</td>\n",
       "      <td>13010</td>\n",
       "      <td>3810</td>\n",
       "      <td>0.29</td>\n",
       "    </tr>\n",
       "    <tr>\n",
       "      <th>1</th>\n",
       "      <td>APAC</td>\n",
       "      <td>28434</td>\n",
       "      <td>6652</td>\n",
       "      <td>0.23</td>\n",
       "    </tr>\n",
       "    <tr>\n",
       "      <th>2</th>\n",
       "      <td>EMEA</td>\n",
       "      <td>25047</td>\n",
       "      <td>7439</td>\n",
       "      <td>0.30</td>\n",
       "    </tr>\n",
       "  </tbody>\n",
       "</table>\n",
       "</div>"
      ],
      "text/plain": [
       "     region  n_contacts_with_partners  n_contacted  contacted/n_contacts\n",
       "0  AMERICAS                     13010         3810                  0.29\n",
       "1      APAC                     28434         6652                  0.23\n",
       "2      EMEA                     25047         7439                  0.30"
      ]
     },
     "execution_count": 32,
     "metadata": {},
     "output_type": "execute_result"
    }
   ],
   "source": [
    "grouped_df['contacted/n_contacts'] = grouped_df['n_contacted'] / grouped_df['n_contacts_with_partners']\n",
    "\n",
    "grouped_df[['region', 'n_contacts_with_partners','n_contacted','contacted/n_contacts']]"
   ]
  },
  {
   "cell_type": "markdown",
   "id": "fb412bb3",
   "metadata": {},
   "source": [
    "**Also there is a problem in a step contactacting to contacted in APAC**, I think it could be fixed after changing the way of messaging"
   ]
  },
  {
   "cell_type": "code",
   "execution_count": 33,
   "id": "6909cfb9",
   "metadata": {},
   "outputs": [
    {
     "data": {
      "text/html": [
       "<div>\n",
       "<style scoped>\n",
       "    .dataframe tbody tr th:only-of-type {\n",
       "        vertical-align: middle;\n",
       "    }\n",
       "\n",
       "    .dataframe tbody tr th {\n",
       "        vertical-align: top;\n",
       "    }\n",
       "\n",
       "    .dataframe thead th {\n",
       "        text-align: right;\n",
       "    }\n",
       "</style>\n",
       "<table border=\"1\" class=\"dataframe\">\n",
       "  <thead>\n",
       "    <tr style=\"text-align: right;\">\n",
       "      <th></th>\n",
       "      <th>region</th>\n",
       "      <th>contact_channel</th>\n",
       "      <th>count_contacts_with_partners</th>\n",
       "      <th>contacted</th>\n",
       "      <th>product_offered</th>\n",
       "    </tr>\n",
       "  </thead>\n",
       "  <tbody>\n",
       "    <tr>\n",
       "      <th>0</th>\n",
       "      <td>EMEA</td>\n",
       "      <td>Phone</td>\n",
       "      <td>17404</td>\n",
       "      <td>7572</td>\n",
       "      <td>3212</td>\n",
       "    </tr>\n",
       "    <tr>\n",
       "      <th>1</th>\n",
       "      <td>APAC</td>\n",
       "      <td>Phone</td>\n",
       "      <td>12117</td>\n",
       "      <td>5935</td>\n",
       "      <td>1116</td>\n",
       "    </tr>\n",
       "    <tr>\n",
       "      <th>2</th>\n",
       "      <td>AMERICAS</td>\n",
       "      <td>Phone</td>\n",
       "      <td>5906</td>\n",
       "      <td>3579</td>\n",
       "      <td>1423</td>\n",
       "    </tr>\n",
       "    <tr>\n",
       "      <th>3</th>\n",
       "      <td>APAC</td>\n",
       "      <td>Messaging</td>\n",
       "      <td>17301</td>\n",
       "      <td>795</td>\n",
       "      <td>488</td>\n",
       "    </tr>\n",
       "    <tr>\n",
       "      <th>4</th>\n",
       "      <td>AMERICAS</td>\n",
       "      <td>Messaging</td>\n",
       "      <td>7103</td>\n",
       "      <td>230</td>\n",
       "      <td>204</td>\n",
       "    </tr>\n",
       "    <tr>\n",
       "      <th>5</th>\n",
       "      <td>EMEA</td>\n",
       "      <td>Messaging</td>\n",
       "      <td>9332</td>\n",
       "      <td>52</td>\n",
       "      <td>28</td>\n",
       "    </tr>\n",
       "    <tr>\n",
       "      <th>6</th>\n",
       "      <td>None</td>\n",
       "      <td>Phone</td>\n",
       "      <td>1</td>\n",
       "      <td>1</td>\n",
       "      <td>1</td>\n",
       "    </tr>\n",
       "  </tbody>\n",
       "</table>\n",
       "</div>"
      ],
      "text/plain": [
       "     region contact_channel  count_contacts_with_partners  contacted  \\\n",
       "0      EMEA           Phone                         17404       7572   \n",
       "1      APAC           Phone                         12117       5935   \n",
       "2  AMERICAS           Phone                          5906       3579   \n",
       "3      APAC       Messaging                         17301        795   \n",
       "4  AMERICAS       Messaging                          7103        230   \n",
       "5      EMEA       Messaging                          9332         52   \n",
       "6      None           Phone                             1          1   \n",
       "\n",
       "   product_offered  \n",
       "0             3212  \n",
       "1             1116  \n",
       "2             1423  \n",
       "3              488  \n",
       "4              204  \n",
       "5               28  \n",
       "6                1  "
      ]
     },
     "execution_count": 33,
     "metadata": {},
     "output_type": "execute_result"
    }
   ],
   "source": [
    "query = \"\"\" \n",
    "\n",
    "WITH Contacts AS (\n",
    "\n",
    "SELECT \n",
    "    region,\n",
    "    contact_channel,\n",
    "    COUNT(contact_id) as count_contacts_with_partners,\n",
    "    COUNT(product_status) as contacted,\n",
    "    SUM(CASE WHEN product_status = 'Product Offered to Property' THEN 1 END) product_offered\n",
    "FROM df_operational_data\n",
    "GROUP BY region, contact_channel\n",
    ")\n",
    "SELECT * FROM Contacts c\n",
    "\n",
    "\"\"\"\n",
    "df1 = sqldf(query) \n",
    "df1.sort_values(by='contacted', ignore_index=True, ascending=False)"
   ]
  },
  {
   "cell_type": "code",
   "execution_count": 34,
   "id": "899d5b7f",
   "metadata": {},
   "outputs": [
    {
     "data": {
      "text/html": [
       "<div>\n",
       "<style scoped>\n",
       "    .dataframe tbody tr th:only-of-type {\n",
       "        vertical-align: middle;\n",
       "    }\n",
       "\n",
       "    .dataframe tbody tr th {\n",
       "        vertical-align: top;\n",
       "    }\n",
       "\n",
       "    .dataframe thead th {\n",
       "        text-align: right;\n",
       "    }\n",
       "</style>\n",
       "<table border=\"1\" class=\"dataframe\">\n",
       "  <thead>\n",
       "    <tr style=\"text-align: right;\">\n",
       "      <th></th>\n",
       "      <th>region</th>\n",
       "      <th>office</th>\n",
       "      <th>contact_channel</th>\n",
       "      <th>count_contacts_with_partners</th>\n",
       "      <th>contacted</th>\n",
       "      <th>product_offered</th>\n",
       "    </tr>\n",
       "  </thead>\n",
       "  <tbody>\n",
       "    <tr>\n",
       "      <th>0</th>\n",
       "      <td>EMEA</td>\n",
       "      <td>Berlin</td>\n",
       "      <td>Phone</td>\n",
       "      <td>8825</td>\n",
       "      <td>3825</td>\n",
       "      <td>1686.00</td>\n",
       "    </tr>\n",
       "    <tr>\n",
       "      <th>1</th>\n",
       "      <td>EMEA</td>\n",
       "      <td>Amsterdam</td>\n",
       "      <td>Phone</td>\n",
       "      <td>10231</td>\n",
       "      <td>2360</td>\n",
       "      <td>1349.00</td>\n",
       "    </tr>\n",
       "    <tr>\n",
       "      <th>2</th>\n",
       "      <td>APAC</td>\n",
       "      <td>Tokyo</td>\n",
       "      <td>Phone</td>\n",
       "      <td>16287</td>\n",
       "      <td>2484</td>\n",
       "      <td>769.00</td>\n",
       "    </tr>\n",
       "    <tr>\n",
       "      <th>3</th>\n",
       "      <td>AMERICAS</td>\n",
       "      <td>Buenos Aires</td>\n",
       "      <td>Phone</td>\n",
       "      <td>4239</td>\n",
       "      <td>1349</td>\n",
       "      <td>701.00</td>\n",
       "    </tr>\n",
       "    <tr>\n",
       "      <th>4</th>\n",
       "      <td>APAC</td>\n",
       "      <td>Bangkok</td>\n",
       "      <td>Messaging</td>\n",
       "      <td>9157</td>\n",
       "      <td>3122</td>\n",
       "      <td>655.00</td>\n",
       "    </tr>\n",
       "    <tr>\n",
       "      <th>5</th>\n",
       "      <td>AMERICAS</td>\n",
       "      <td>Rio de Janeiro</td>\n",
       "      <td>Messaging</td>\n",
       "      <td>5801</td>\n",
       "      <td>1614</td>\n",
       "      <td>638.00</td>\n",
       "    </tr>\n",
       "    <tr>\n",
       "      <th>6</th>\n",
       "      <td>AMERICAS</td>\n",
       "      <td>Cancun</td>\n",
       "      <td>Phone</td>\n",
       "      <td>2969</td>\n",
       "      <td>846</td>\n",
       "      <td>288.00</td>\n",
       "    </tr>\n",
       "    <tr>\n",
       "      <th>7</th>\n",
       "      <td>EMEA</td>\n",
       "      <td>Paris</td>\n",
       "      <td>Messaging</td>\n",
       "      <td>7680</td>\n",
       "      <td>1439</td>\n",
       "      <td>205.00</td>\n",
       "    </tr>\n",
       "    <tr>\n",
       "      <th>8</th>\n",
       "      <td>APAC</td>\n",
       "      <td>Sydney</td>\n",
       "      <td>Phone</td>\n",
       "      <td>3973</td>\n",
       "      <td>1123</td>\n",
       "      <td>180.00</td>\n",
       "    </tr>\n",
       "    <tr>\n",
       "      <th>9</th>\n",
       "      <td>None</td>\n",
       "      <td>Buenos Aires</td>\n",
       "      <td>Phone</td>\n",
       "      <td>1</td>\n",
       "      <td>1</td>\n",
       "      <td>1.00</td>\n",
       "    </tr>\n",
       "    <tr>\n",
       "      <th>10</th>\n",
       "      <td>APAC</td>\n",
       "      <td>Tõkyo</td>\n",
       "      <td>Phone</td>\n",
       "      <td>1</td>\n",
       "      <td>1</td>\n",
       "      <td>NaN</td>\n",
       "    </tr>\n",
       "  </tbody>\n",
       "</table>\n",
       "</div>"
      ],
      "text/plain": [
       "      region          office contact_channel  count_contacts_with_partners  \\\n",
       "0       EMEA          Berlin           Phone                          8825   \n",
       "1       EMEA       Amsterdam           Phone                         10231   \n",
       "2       APAC           Tokyo           Phone                         16287   \n",
       "3   AMERICAS    Buenos Aires           Phone                          4239   \n",
       "4       APAC         Bangkok       Messaging                          9157   \n",
       "5   AMERICAS  Rio de Janeiro       Messaging                          5801   \n",
       "6   AMERICAS          Cancun           Phone                          2969   \n",
       "7       EMEA           Paris       Messaging                          7680   \n",
       "8       APAC          Sydney           Phone                          3973   \n",
       "9       None    Buenos Aires           Phone                             1   \n",
       "10      APAC           Tõkyo           Phone                             1   \n",
       "\n",
       "    contacted  product_offered  \n",
       "0        3825          1686.00  \n",
       "1        2360          1349.00  \n",
       "2        2484           769.00  \n",
       "3        1349           701.00  \n",
       "4        3122           655.00  \n",
       "5        1614           638.00  \n",
       "6         846           288.00  \n",
       "7        1439           205.00  \n",
       "8        1123           180.00  \n",
       "9           1             1.00  \n",
       "10          1              NaN  "
      ]
     },
     "execution_count": 34,
     "metadata": {},
     "output_type": "execute_result"
    }
   ],
   "source": [
    "query = \"\"\" \n",
    "\n",
    "WITH Contacts AS (\n",
    "SELECT \n",
    "    region,\n",
    "    office,\n",
    "    contact_channel,\n",
    "    COUNT(contact_id) as count_contacts_with_partners,\n",
    "    COUNT(product_status) as contacted,\n",
    "    SUM(CASE WHEN product_status = 'Product Offered to Property' THEN 1 END) product_offered\n",
    "FROM df_operational_data\n",
    "GROUP BY region, office \n",
    ")\n",
    "SELECT * FROM Contacts c\n",
    "\n",
    "\"\"\"\n",
    "df2 = sqldf(query) \n",
    "df2.sort_values(by='product_offered', ignore_index=True, ascending=False)"
   ]
  },
  {
   "cell_type": "code",
   "execution_count": 35,
   "id": "a2177002",
   "metadata": {},
   "outputs": [],
   "source": [
    "df2['offered/contacted'] = df2['product_offered'] / df2['contacted']"
   ]
  },
  {
   "cell_type": "markdown",
   "id": "03b19bc4",
   "metadata": {},
   "source": [
    "**The best way to offer products is by PHONE**"
   ]
  },
  {
   "cell_type": "code",
   "execution_count": 36,
   "id": "2940ef3e",
   "metadata": {},
   "outputs": [
    {
     "data": {
      "text/html": [
       "<div>\n",
       "<style scoped>\n",
       "    .dataframe tbody tr th:only-of-type {\n",
       "        vertical-align: middle;\n",
       "    }\n",
       "\n",
       "    .dataframe tbody tr th {\n",
       "        vertical-align: top;\n",
       "    }\n",
       "\n",
       "    .dataframe thead th {\n",
       "        text-align: right;\n",
       "    }\n",
       "</style>\n",
       "<table border=\"1\" class=\"dataframe\">\n",
       "  <thead>\n",
       "    <tr style=\"text-align: right;\">\n",
       "      <th></th>\n",
       "      <th>region</th>\n",
       "      <th>office</th>\n",
       "      <th>contact_channel</th>\n",
       "      <th>count_contacts_with_partners</th>\n",
       "      <th>contacted</th>\n",
       "      <th>product_offered</th>\n",
       "      <th>offered/contacted</th>\n",
       "    </tr>\n",
       "  </thead>\n",
       "  <tbody>\n",
       "    <tr>\n",
       "      <th>0</th>\n",
       "      <td>None</td>\n",
       "      <td>Buenos Aires</td>\n",
       "      <td>Phone</td>\n",
       "      <td>1</td>\n",
       "      <td>1</td>\n",
       "      <td>1.00</td>\n",
       "      <td>1.00</td>\n",
       "    </tr>\n",
       "    <tr>\n",
       "      <th>1</th>\n",
       "      <td>EMEA</td>\n",
       "      <td>Amsterdam</td>\n",
       "      <td>Phone</td>\n",
       "      <td>10231</td>\n",
       "      <td>2360</td>\n",
       "      <td>1349.00</td>\n",
       "      <td>0.57</td>\n",
       "    </tr>\n",
       "    <tr>\n",
       "      <th>2</th>\n",
       "      <td>AMERICAS</td>\n",
       "      <td>Buenos Aires</td>\n",
       "      <td>Phone</td>\n",
       "      <td>4239</td>\n",
       "      <td>1349</td>\n",
       "      <td>701.00</td>\n",
       "      <td>0.52</td>\n",
       "    </tr>\n",
       "    <tr>\n",
       "      <th>3</th>\n",
       "      <td>EMEA</td>\n",
       "      <td>Berlin</td>\n",
       "      <td>Phone</td>\n",
       "      <td>8825</td>\n",
       "      <td>3825</td>\n",
       "      <td>1686.00</td>\n",
       "      <td>0.44</td>\n",
       "    </tr>\n",
       "    <tr>\n",
       "      <th>4</th>\n",
       "      <td>AMERICAS</td>\n",
       "      <td>Rio de Janeiro</td>\n",
       "      <td>Messaging</td>\n",
       "      <td>5801</td>\n",
       "      <td>1614</td>\n",
       "      <td>638.00</td>\n",
       "      <td>0.40</td>\n",
       "    </tr>\n",
       "    <tr>\n",
       "      <th>5</th>\n",
       "      <td>AMERICAS</td>\n",
       "      <td>Cancun</td>\n",
       "      <td>Phone</td>\n",
       "      <td>2969</td>\n",
       "      <td>846</td>\n",
       "      <td>288.00</td>\n",
       "      <td>0.34</td>\n",
       "    </tr>\n",
       "    <tr>\n",
       "      <th>6</th>\n",
       "      <td>APAC</td>\n",
       "      <td>Tokyo</td>\n",
       "      <td>Phone</td>\n",
       "      <td>16287</td>\n",
       "      <td>2484</td>\n",
       "      <td>769.00</td>\n",
       "      <td>0.31</td>\n",
       "    </tr>\n",
       "    <tr>\n",
       "      <th>7</th>\n",
       "      <td>APAC</td>\n",
       "      <td>Bangkok</td>\n",
       "      <td>Messaging</td>\n",
       "      <td>9157</td>\n",
       "      <td>3122</td>\n",
       "      <td>655.00</td>\n",
       "      <td>0.21</td>\n",
       "    </tr>\n",
       "    <tr>\n",
       "      <th>8</th>\n",
       "      <td>APAC</td>\n",
       "      <td>Sydney</td>\n",
       "      <td>Phone</td>\n",
       "      <td>3973</td>\n",
       "      <td>1123</td>\n",
       "      <td>180.00</td>\n",
       "      <td>0.16</td>\n",
       "    </tr>\n",
       "    <tr>\n",
       "      <th>9</th>\n",
       "      <td>EMEA</td>\n",
       "      <td>Paris</td>\n",
       "      <td>Messaging</td>\n",
       "      <td>7680</td>\n",
       "      <td>1439</td>\n",
       "      <td>205.00</td>\n",
       "      <td>0.14</td>\n",
       "    </tr>\n",
       "    <tr>\n",
       "      <th>10</th>\n",
       "      <td>APAC</td>\n",
       "      <td>Tõkyo</td>\n",
       "      <td>Phone</td>\n",
       "      <td>1</td>\n",
       "      <td>1</td>\n",
       "      <td>NaN</td>\n",
       "      <td>NaN</td>\n",
       "    </tr>\n",
       "  </tbody>\n",
       "</table>\n",
       "</div>"
      ],
      "text/plain": [
       "      region          office contact_channel  count_contacts_with_partners  \\\n",
       "0       None    Buenos Aires           Phone                             1   \n",
       "1       EMEA       Amsterdam           Phone                         10231   \n",
       "2   AMERICAS    Buenos Aires           Phone                          4239   \n",
       "3       EMEA          Berlin           Phone                          8825   \n",
       "4   AMERICAS  Rio de Janeiro       Messaging                          5801   \n",
       "5   AMERICAS          Cancun           Phone                          2969   \n",
       "6       APAC           Tokyo           Phone                         16287   \n",
       "7       APAC         Bangkok       Messaging                          9157   \n",
       "8       APAC          Sydney           Phone                          3973   \n",
       "9       EMEA           Paris       Messaging                          7680   \n",
       "10      APAC           Tõkyo           Phone                             1   \n",
       "\n",
       "    contacted  product_offered  offered/contacted  \n",
       "0           1             1.00               1.00  \n",
       "1        2360          1349.00               0.57  \n",
       "2        1349           701.00               0.52  \n",
       "3        3825          1686.00               0.44  \n",
       "4        1614           638.00               0.40  \n",
       "5         846           288.00               0.34  \n",
       "6        2484           769.00               0.31  \n",
       "7        3122           655.00               0.21  \n",
       "8        1123           180.00               0.16  \n",
       "9        1439           205.00               0.14  \n",
       "10          1              NaN                NaN  "
      ]
     },
     "execution_count": 36,
     "metadata": {},
     "output_type": "execute_result"
    }
   ],
   "source": [
    "df2.sort_values(by='offered/contacted', ignore_index=True, ascending=False)"
   ]
  },
  {
   "cell_type": "markdown",
   "id": "0fa73f24",
   "metadata": {},
   "source": [
    "**The most performed offices in APAC**"
   ]
  },
  {
   "cell_type": "code",
   "execution_count": 37,
   "id": "980072a5",
   "metadata": {},
   "outputs": [
    {
     "data": {
      "text/html": [
       "<div>\n",
       "<style scoped>\n",
       "    .dataframe tbody tr th:only-of-type {\n",
       "        vertical-align: middle;\n",
       "    }\n",
       "\n",
       "    .dataframe tbody tr th {\n",
       "        vertical-align: top;\n",
       "    }\n",
       "\n",
       "    .dataframe thead th {\n",
       "        text-align: right;\n",
       "    }\n",
       "</style>\n",
       "<table border=\"1\" class=\"dataframe\">\n",
       "  <thead>\n",
       "    <tr style=\"text-align: right;\">\n",
       "      <th></th>\n",
       "      <th>region</th>\n",
       "      <th>office</th>\n",
       "      <th>count_contacts_with_partners</th>\n",
       "      <th>contacted</th>\n",
       "      <th>product_offered</th>\n",
       "      <th>offered/contacted</th>\n",
       "    </tr>\n",
       "  </thead>\n",
       "  <tbody>\n",
       "    <tr>\n",
       "      <th>0</th>\n",
       "      <td>APAC</td>\n",
       "      <td>Tokyo</td>\n",
       "      <td>16287</td>\n",
       "      <td>2484</td>\n",
       "      <td>769.00</td>\n",
       "      <td>0.31</td>\n",
       "    </tr>\n",
       "    <tr>\n",
       "      <th>1</th>\n",
       "      <td>APAC</td>\n",
       "      <td>Bangkok</td>\n",
       "      <td>9157</td>\n",
       "      <td>3122</td>\n",
       "      <td>655.00</td>\n",
       "      <td>0.21</td>\n",
       "    </tr>\n",
       "    <tr>\n",
       "      <th>2</th>\n",
       "      <td>APAC</td>\n",
       "      <td>Sydney</td>\n",
       "      <td>3973</td>\n",
       "      <td>1123</td>\n",
       "      <td>180.00</td>\n",
       "      <td>0.16</td>\n",
       "    </tr>\n",
       "    <tr>\n",
       "      <th>3</th>\n",
       "      <td>APAC</td>\n",
       "      <td>Tõkyo</td>\n",
       "      <td>1</td>\n",
       "      <td>1</td>\n",
       "      <td>NaN</td>\n",
       "      <td>NaN</td>\n",
       "    </tr>\n",
       "  </tbody>\n",
       "</table>\n",
       "</div>"
      ],
      "text/plain": [
       "  region   office  count_contacts_with_partners  contacted  product_offered  \\\n",
       "0   APAC    Tokyo                         16287       2484           769.00   \n",
       "1   APAC  Bangkok                          9157       3122           655.00   \n",
       "2   APAC   Sydney                          3973       1123           180.00   \n",
       "3   APAC    Tõkyo                             1          1              NaN   \n",
       "\n",
       "   offered/contacted  \n",
       "0               0.31  \n",
       "1               0.21  \n",
       "2               0.16  \n",
       "3                NaN  "
      ]
     },
     "execution_count": 37,
     "metadata": {},
     "output_type": "execute_result"
    }
   ],
   "source": [
    "query = \"\"\" \n",
    "\n",
    "WITH Contacts AS (\n",
    "SELECT \n",
    "    region,\n",
    "    office,\n",
    "    COUNT(contact_id) as count_contacts_with_partners,\n",
    "    COUNT(product_status) as contacted,\n",
    "    SUM(CASE WHEN product_status = 'Product Offered to Property' THEN 1 END) product_offered\n",
    "FROM df_operational_data\n",
    "WHERE region = 'APAC'\n",
    "GROUP BY region, office \n",
    ")\n",
    "SELECT * FROM Contacts c\n",
    "\n",
    "\"\"\"\n",
    "df3 = sqldf(query) \n",
    "df3['offered/contacted'] = df3['product_offered'] / df3['contacted']\n",
    "df3.sort_values(by='product_offered', ignore_index=True, ascending=False)"
   ]
  },
  {
   "cell_type": "markdown",
   "id": "7d6d25a9",
   "metadata": {},
   "source": [
    "**Let's look at the activity by months**"
   ]
  },
  {
   "cell_type": "code",
   "execution_count": 38,
   "id": "0751431d",
   "metadata": {},
   "outputs": [],
   "source": [
    "def month_extractor(date_string):\n",
    "    return date.fromisoformat(date_string).month"
   ]
  },
  {
   "cell_type": "code",
   "execution_count": 39,
   "id": "4fedc184",
   "metadata": {},
   "outputs": [],
   "source": [
    "def month_name_extractor(date_string):\n",
    "    return calendar.month_name[date.fromisoformat(date_string).month]"
   ]
  },
  {
   "cell_type": "code",
   "execution_count": 40,
   "id": "de1c19a6",
   "metadata": {},
   "outputs": [
    {
     "data": {
      "text/html": [
       "<div>\n",
       "<style scoped>\n",
       "    .dataframe tbody tr th:only-of-type {\n",
       "        vertical-align: middle;\n",
       "    }\n",
       "\n",
       "    .dataframe tbody tr th {\n",
       "        vertical-align: top;\n",
       "    }\n",
       "\n",
       "    .dataframe thead th {\n",
       "        text-align: right;\n",
       "    }\n",
       "</style>\n",
       "<table border=\"1\" class=\"dataframe\">\n",
       "  <thead>\n",
       "    <tr style=\"text-align: right;\">\n",
       "      <th></th>\n",
       "      <th>property_id</th>\n",
       "      <th>contact_id</th>\n",
       "      <th>contact_date</th>\n",
       "      <th>product</th>\n",
       "      <th>product_status</th>\n",
       "      <th>contact_channel</th>\n",
       "      <th>office</th>\n",
       "      <th>region</th>\n",
       "      <th>account_manager</th>\n",
       "      <th>month</th>\n",
       "      <th>month_name</th>\n",
       "    </tr>\n",
       "  </thead>\n",
       "  <tbody>\n",
       "    <tr>\n",
       "      <th>0</th>\n",
       "      <td>36722</td>\n",
       "      <td>12709503</td>\n",
       "      <td>2021-07-02</td>\n",
       "      <td>NaN</td>\n",
       "      <td>NaN</td>\n",
       "      <td>Messaging</td>\n",
       "      <td>Paris</td>\n",
       "      <td>EMEA</td>\n",
       "      <td>Account Manager 63</td>\n",
       "      <td>7</td>\n",
       "      <td>July</td>\n",
       "    </tr>\n",
       "    <tr>\n",
       "      <th>1</th>\n",
       "      <td>112045</td>\n",
       "      <td>12482283</td>\n",
       "      <td>2021-06-15</td>\n",
       "      <td>NaN</td>\n",
       "      <td>NaN</td>\n",
       "      <td>Phone</td>\n",
       "      <td>Sydney</td>\n",
       "      <td>APAC</td>\n",
       "      <td>Account Manager 8</td>\n",
       "      <td>6</td>\n",
       "      <td>June</td>\n",
       "    </tr>\n",
       "    <tr>\n",
       "      <th>2</th>\n",
       "      <td>112408</td>\n",
       "      <td>11765645</td>\n",
       "      <td>2021-04-22</td>\n",
       "      <td>NaN</td>\n",
       "      <td>NaN</td>\n",
       "      <td>Phone</td>\n",
       "      <td>Berlin</td>\n",
       "      <td>EMEA</td>\n",
       "      <td>Account Manager 51</td>\n",
       "      <td>4</td>\n",
       "      <td>April</td>\n",
       "    </tr>\n",
       "    <tr>\n",
       "      <th>3</th>\n",
       "      <td>117227</td>\n",
       "      <td>12549651</td>\n",
       "      <td>2021-06-17</td>\n",
       "      <td>NaN</td>\n",
       "      <td>NaN</td>\n",
       "      <td>Phone</td>\n",
       "      <td>Buenos Aires</td>\n",
       "      <td>AMERICAS</td>\n",
       "      <td>Account Manager 49</td>\n",
       "      <td>6</td>\n",
       "      <td>June</td>\n",
       "    </tr>\n",
       "    <tr>\n",
       "      <th>4</th>\n",
       "      <td>358583</td>\n",
       "      <td>11469137</td>\n",
       "      <td>2021-04-02</td>\n",
       "      <td>NaN</td>\n",
       "      <td>NaN</td>\n",
       "      <td>Messaging</td>\n",
       "      <td>Paris</td>\n",
       "      <td>EMEA</td>\n",
       "      <td>Account Manager 4</td>\n",
       "      <td>4</td>\n",
       "      <td>April</td>\n",
       "    </tr>\n",
       "  </tbody>\n",
       "</table>\n",
       "</div>"
      ],
      "text/plain": [
       "   property_id  contact_id contact_date product product_status  \\\n",
       "0        36722    12709503   2021-07-02     NaN            NaN   \n",
       "1       112045    12482283   2021-06-15     NaN            NaN   \n",
       "2       112408    11765645   2021-04-22     NaN            NaN   \n",
       "3       117227    12549651   2021-06-17     NaN            NaN   \n",
       "4       358583    11469137   2021-04-02     NaN            NaN   \n",
       "\n",
       "  contact_channel        office    region     account_manager  month  \\\n",
       "0       Messaging         Paris      EMEA  Account Manager 63      7   \n",
       "1           Phone        Sydney      APAC   Account Manager 8      6   \n",
       "2           Phone        Berlin      EMEA  Account Manager 51      4   \n",
       "3           Phone  Buenos Aires  AMERICAS  Account Manager 49      6   \n",
       "4       Messaging         Paris      EMEA   Account Manager 4      4   \n",
       "\n",
       "  month_name  \n",
       "0       July  \n",
       "1       June  \n",
       "2      April  \n",
       "3       June  \n",
       "4      April  "
      ]
     },
     "execution_count": 40,
     "metadata": {},
     "output_type": "execute_result"
    }
   ],
   "source": [
    "tdf = df_operational_data.copy()\n",
    "tdf['month'] = tdf['contact_date'].apply(month_extractor)\n",
    "tdf['month_name'] = tdf['contact_date'].apply(month_name_extractor)\n",
    "tdf.head()"
   ]
  },
  {
   "cell_type": "code",
   "execution_count": 41,
   "id": "e664e58b",
   "metadata": {},
   "outputs": [
    {
     "data": {
      "text/html": [
       "<div>\n",
       "<style scoped>\n",
       "    .dataframe tbody tr th:only-of-type {\n",
       "        vertical-align: middle;\n",
       "    }\n",
       "\n",
       "    .dataframe tbody tr th {\n",
       "        vertical-align: top;\n",
       "    }\n",
       "\n",
       "    .dataframe thead th {\n",
       "        text-align: right;\n",
       "    }\n",
       "</style>\n",
       "<table border=\"1\" class=\"dataframe\">\n",
       "  <thead>\n",
       "    <tr style=\"text-align: right;\">\n",
       "      <th></th>\n",
       "      <th>month</th>\n",
       "      <th>month_name</th>\n",
       "      <th>cnt</th>\n",
       "    </tr>\n",
       "  </thead>\n",
       "  <tbody>\n",
       "    <tr>\n",
       "      <th>0</th>\n",
       "      <td>4</td>\n",
       "      <td>April</td>\n",
       "      <td>18061</td>\n",
       "    </tr>\n",
       "    <tr>\n",
       "      <th>1</th>\n",
       "      <td>5</td>\n",
       "      <td>May</td>\n",
       "      <td>14076</td>\n",
       "    </tr>\n",
       "    <tr>\n",
       "      <th>2</th>\n",
       "      <td>6</td>\n",
       "      <td>June</td>\n",
       "      <td>11799</td>\n",
       "    </tr>\n",
       "    <tr>\n",
       "      <th>3</th>\n",
       "      <td>7</td>\n",
       "      <td>July</td>\n",
       "      <td>19682</td>\n",
       "    </tr>\n",
       "    <tr>\n",
       "      <th>4</th>\n",
       "      <td>8</td>\n",
       "      <td>August</td>\n",
       "      <td>5546</td>\n",
       "    </tr>\n",
       "  </tbody>\n",
       "</table>\n",
       "</div>"
      ],
      "text/plain": [
       "   month month_name    cnt\n",
       "0      4      April  18061\n",
       "1      5        May  14076\n",
       "2      6       June  11799\n",
       "3      7       July  19682\n",
       "4      8     August   5546"
      ]
     },
     "execution_count": 41,
     "metadata": {},
     "output_type": "execute_result"
    }
   ],
   "source": [
    "tdf.groupby(['month', 'month_name']).size().reset_index(name='cnt')"
   ]
  },
  {
   "cell_type": "code",
   "execution_count": 42,
   "id": "70963489",
   "metadata": {
    "scrolled": false
   },
   "outputs": [
    {
     "data": {
      "text/plain": [
       "<Axes: xlabel='contact_date'>"
      ]
     },
     "execution_count": 42,
     "metadata": {},
     "output_type": "execute_result"
    },
    {
     "data": {
      "image/png": "[encoded data removed]",
      "text/plain": [
       "<Figure size 640x480 with 1 Axes>"
      ]
     },
     "metadata": {},
     "output_type": "display_data"
    }
   ],
   "source": [
    "tdf[tdf['region']=='APAC'].groupby(['contact_date']).size().plot()"
   ]
  },
  {
   "cell_type": "code",
   "execution_count": 43,
   "id": "c9682dd6",
   "metadata": {},
   "outputs": [
    {
     "data": {
      "text/plain": [
       "'2021-08-11'"
      ]
     },
     "execution_count": 43,
     "metadata": {},
     "output_type": "execute_result"
    }
   ],
   "source": [
    "tdf['contact_date'].max()"
   ]
  },
  {
   "cell_type": "markdown",
   "id": "75a5be56",
   "metadata": {},
   "source": [
    "**There are two values of lowest quantity of contacts - in August, because the last day of dataset is 2021-08-11 and some anomaly in June**\n",
    "\n",
    "**Number of contacts per day has no trend and it is not stable, so there is no need to investigate it more**"
   ]
  },
  {
   "cell_type": "markdown",
   "id": "c4d4822c",
   "metadata": {},
   "source": [
    "## Graphs"
   ]
  },
  {
   "cell_type": "code",
   "execution_count": 44,
   "id": "dbb558d7",
   "metadata": {},
   "outputs": [
    {
     "data": {
      "text/html": [
       "<div>\n",
       "<style scoped>\n",
       "    .dataframe tbody tr th:only-of-type {\n",
       "        vertical-align: middle;\n",
       "    }\n",
       "\n",
       "    .dataframe tbody tr th {\n",
       "        vertical-align: top;\n",
       "    }\n",
       "\n",
       "    .dataframe thead th {\n",
       "        text-align: right;\n",
       "    }\n",
       "</style>\n",
       "<table border=\"1\" class=\"dataframe\">\n",
       "  <thead>\n",
       "    <tr style=\"text-align: right;\">\n",
       "      <th></th>\n",
       "      <th>region</th>\n",
       "      <th>contact_channel</th>\n",
       "      <th>count_contacts_with_partners</th>\n",
       "      <th>contacted</th>\n",
       "      <th>product_offered</th>\n",
       "    </tr>\n",
       "  </thead>\n",
       "  <tbody>\n",
       "    <tr>\n",
       "      <th>0</th>\n",
       "      <td>None</td>\n",
       "      <td>Phone</td>\n",
       "      <td>1</td>\n",
       "      <td>1</td>\n",
       "      <td>1</td>\n",
       "    </tr>\n",
       "    <tr>\n",
       "      <th>1</th>\n",
       "      <td>AMERICAS</td>\n",
       "      <td>Messaging</td>\n",
       "      <td>7103</td>\n",
       "      <td>230</td>\n",
       "      <td>204</td>\n",
       "    </tr>\n",
       "    <tr>\n",
       "      <th>2</th>\n",
       "      <td>AMERICAS</td>\n",
       "      <td>Phone</td>\n",
       "      <td>5906</td>\n",
       "      <td>3579</td>\n",
       "      <td>1423</td>\n",
       "    </tr>\n",
       "    <tr>\n",
       "      <th>3</th>\n",
       "      <td>APAC</td>\n",
       "      <td>Messaging</td>\n",
       "      <td>17301</td>\n",
       "      <td>795</td>\n",
       "      <td>488</td>\n",
       "    </tr>\n",
       "    <tr>\n",
       "      <th>4</th>\n",
       "      <td>APAC</td>\n",
       "      <td>Phone</td>\n",
       "      <td>12117</td>\n",
       "      <td>5935</td>\n",
       "      <td>1116</td>\n",
       "    </tr>\n",
       "    <tr>\n",
       "      <th>5</th>\n",
       "      <td>EMEA</td>\n",
       "      <td>Messaging</td>\n",
       "      <td>9332</td>\n",
       "      <td>52</td>\n",
       "      <td>28</td>\n",
       "    </tr>\n",
       "    <tr>\n",
       "      <th>6</th>\n",
       "      <td>EMEA</td>\n",
       "      <td>Phone</td>\n",
       "      <td>17404</td>\n",
       "      <td>7572</td>\n",
       "      <td>3212</td>\n",
       "    </tr>\n",
       "  </tbody>\n",
       "</table>\n",
       "</div>"
      ],
      "text/plain": [
       "     region contact_channel  count_contacts_with_partners  contacted  \\\n",
       "0      None           Phone                             1          1   \n",
       "1  AMERICAS       Messaging                          7103        230   \n",
       "2  AMERICAS           Phone                          5906       3579   \n",
       "3      APAC       Messaging                         17301        795   \n",
       "4      APAC           Phone                         12117       5935   \n",
       "5      EMEA       Messaging                          9332         52   \n",
       "6      EMEA           Phone                         17404       7572   \n",
       "\n",
       "   product_offered  \n",
       "0                1  \n",
       "1              204  \n",
       "2             1423  \n",
       "3              488  \n",
       "4             1116  \n",
       "5               28  \n",
       "6             3212  "
      ]
     },
     "execution_count": 44,
     "metadata": {},
     "output_type": "execute_result"
    }
   ],
   "source": [
    "df1"
   ]
  },
  {
   "cell_type": "code",
   "execution_count": 45,
   "id": "f2a00f5e",
   "metadata": {},
   "outputs": [
    {
     "data": {
      "text/plain": [
       "array([<Axes: ylabel='(count_contacts_with_partners, AMERICAS)'>,\n",
       "       <Axes: ylabel='(count_contacts_with_partners, APAC)'>,\n",
       "       <Axes: ylabel='(count_contacts_with_partners, EMEA)'>],\n",
       "      dtype=object)"
      ]
     },
     "execution_count": 45,
     "metadata": {},
     "output_type": "execute_result"
    },
    {
     "data": {
      "image/png": "[encoded data removed]",
      "text/plain": [
       "<Figure size 1200x600 with 3 Axes>"
      ]
     },
     "metadata": {},
     "output_type": "display_data"
    }
   ],
   "source": [
    "df1.iloc[1:][['region', 'contact_channel', 'count_contacts_with_partners']] \\\n",
    "    .set_index('contact_channel') \\\n",
    "    .pivot(columns=['region']) \\\n",
    "    .plot.pie(subplots=True, figsize=(12,6), legend=False)"
   ]
  },
  {
   "cell_type": "code",
   "execution_count": 46,
   "id": "f7b9017e",
   "metadata": {},
   "outputs": [
    {
     "data": {
      "text/plain": [
       "<Axes: xlabel='region'>"
      ]
     },
     "execution_count": 46,
     "metadata": {},
     "output_type": "execute_result"
    },
    {
     "data": {
      "image/png": "[encoded data removed]",
      "text/plain": [
       "<Figure size 640x480 with 1 Axes>"
      ]
     },
     "metadata": {},
     "output_type": "display_data"
    }
   ],
   "source": [
    "tdf0.plot.bar(x='region', y=['n_account_managers'])"
   ]
  },
  {
   "cell_type": "code",
   "execution_count": 47,
   "id": "5fa09437",
   "metadata": {},
   "outputs": [
    {
     "data": {
      "text/plain": [
       "<Axes: xlabel='region'>"
      ]
     },
     "execution_count": 47,
     "metadata": {},
     "output_type": "execute_result"
    },
    {
     "data": {
      "image/png": "[encoded data removed]",
      "text/plain": [
       "<Figure size 640x480 with 1 Axes>"
      ]
     },
     "metadata": {},
     "output_type": "display_data"
    }
   ],
   "source": [
    "tdf0.plot.bar(x='region', y=['n_contacted', 'n_product_offered'])"
   ]
  },
  {
   "cell_type": "code",
   "execution_count": 48,
   "id": "509af8a0",
   "metadata": {
    "scrolled": false
   },
   "outputs": [
    {
     "data": {
      "text/plain": [
       "<Axes: xlabel='region'>"
      ]
     },
     "execution_count": 48,
     "metadata": {},
     "output_type": "execute_result"
    },
    {
     "data": {
      "image/png": "[encoded data removed]",
      "text/plain": [
       "<Figure size 640x480 with 1 Axes>"
      ]
     },
     "metadata": {},
     "output_type": "display_data"
    }
   ],
   "source": [
    "tdf0.plot.bar(x='region', y=['avg_contacted_per_manager', 'avg_offered_per_manager'])"
   ]
  },
  {
   "cell_type": "code",
   "execution_count": 49,
   "id": "476f71dd",
   "metadata": {},
   "outputs": [
    {
     "data": {
      "text/plain": [
       "<Axes: xlabel='region'>"
      ]
     },
     "execution_count": 49,
     "metadata": {},
     "output_type": "execute_result"
    },
    {
     "data": {
      "image/png": "[encoded data removed]",
      "text/plain": [
       "<Figure size 640x480 with 1 Axes>"
      ]
     },
     "metadata": {},
     "output_type": "display_data"
    }
   ],
   "source": [
    "tdf0.plot.bar(x='region', y=['offered/contacted'])"
   ]
  },
  {
   "cell_type": "markdown",
   "id": "6877f3c9",
   "metadata": {},
   "source": [
    "## Question 3: Free Response\n",
    "\n",
    "What additional insights can you derive from the provided dataset?\n",
    "\n",
    "Please feel free to look into and explore anything that seems interesting to you. Share your findings with the analytics team, which comprises both analysts and business stakeholders."
   ]
  },
  {
   "cell_type": "markdown",
   "id": "ac1e192a",
   "metadata": {},
   "source": [
    "**We could build some extra values for user's funnel**"
   ]
  },
  {
   "cell_type": "code",
   "execution_count": 50,
   "id": "07919fc2",
   "metadata": {},
   "outputs": [
    {
     "data": {
      "text/html": [
       "<div>\n",
       "<style scoped>\n",
       "    .dataframe tbody tr th:only-of-type {\n",
       "        vertical-align: middle;\n",
       "    }\n",
       "\n",
       "    .dataframe tbody tr th {\n",
       "        vertical-align: top;\n",
       "    }\n",
       "\n",
       "    .dataframe thead th {\n",
       "        text-align: right;\n",
       "    }\n",
       "</style>\n",
       "<table border=\"1\" class=\"dataframe\">\n",
       "  <thead>\n",
       "    <tr style=\"text-align: right;\">\n",
       "      <th></th>\n",
       "      <th>account_manager</th>\n",
       "      <th>unique_partners</th>\n",
       "      <th>count_contacts</th>\n",
       "      <th>successful_contact</th>\n",
       "      <th>partner_not_interested</th>\n",
       "      <th>partner_interested</th>\n",
       "      <th>product_implemented</th>\n",
       "      <th>awaiting_property_decision</th>\n",
       "      <th>product_offered_property</th>\n",
       "    </tr>\n",
       "  </thead>\n",
       "  <tbody>\n",
       "    <tr>\n",
       "      <th>0</th>\n",
       "      <td>Account Manager 1</td>\n",
       "      <td>217</td>\n",
       "      <td>984</td>\n",
       "      <td>78</td>\n",
       "      <td>43.00</td>\n",
       "      <td>4.00</td>\n",
       "      <td>26.00</td>\n",
       "      <td>5.00</td>\n",
       "      <td>NaN</td>\n",
       "    </tr>\n",
       "    <tr>\n",
       "      <th>1</th>\n",
       "      <td>Account Manager 10</td>\n",
       "      <td>279</td>\n",
       "      <td>1010</td>\n",
       "      <td>147</td>\n",
       "      <td>22.00</td>\n",
       "      <td>15.00</td>\n",
       "      <td>51.00</td>\n",
       "      <td>6.00</td>\n",
       "      <td>53.00</td>\n",
       "    </tr>\n",
       "    <tr>\n",
       "      <th>2</th>\n",
       "      <td>Account Manager 11</td>\n",
       "      <td>144</td>\n",
       "      <td>605</td>\n",
       "      <td>189</td>\n",
       "      <td>84.00</td>\n",
       "      <td>8.00</td>\n",
       "      <td>38.00</td>\n",
       "      <td>14.00</td>\n",
       "      <td>45.00</td>\n",
       "    </tr>\n",
       "    <tr>\n",
       "      <th>3</th>\n",
       "      <td>Account Manager 12</td>\n",
       "      <td>195</td>\n",
       "      <td>652</td>\n",
       "      <td>287</td>\n",
       "      <td>46.00</td>\n",
       "      <td>14.00</td>\n",
       "      <td>91.00</td>\n",
       "      <td>9.00</td>\n",
       "      <td>127.00</td>\n",
       "    </tr>\n",
       "    <tr>\n",
       "      <th>4</th>\n",
       "      <td>Account Manager 13</td>\n",
       "      <td>144</td>\n",
       "      <td>701</td>\n",
       "      <td>162</td>\n",
       "      <td>79.00</td>\n",
       "      <td>13.00</td>\n",
       "      <td>17.00</td>\n",
       "      <td>4.00</td>\n",
       "      <td>49.00</td>\n",
       "    </tr>\n",
       "    <tr>\n",
       "      <th>...</th>\n",
       "      <td>...</td>\n",
       "      <td>...</td>\n",
       "      <td>...</td>\n",
       "      <td>...</td>\n",
       "      <td>...</td>\n",
       "      <td>...</td>\n",
       "      <td>...</td>\n",
       "      <td>...</td>\n",
       "      <td>...</td>\n",
       "    </tr>\n",
       "    <tr>\n",
       "      <th>82</th>\n",
       "      <td>Account Manager 84</td>\n",
       "      <td>592</td>\n",
       "      <td>1689</td>\n",
       "      <td>185</td>\n",
       "      <td>29.00</td>\n",
       "      <td>116.00</td>\n",
       "      <td>32.00</td>\n",
       "      <td>8.00</td>\n",
       "      <td>NaN</td>\n",
       "    </tr>\n",
       "    <tr>\n",
       "      <th>83</th>\n",
       "      <td>Account Manager 85</td>\n",
       "      <td>192</td>\n",
       "      <td>304</td>\n",
       "      <td>111</td>\n",
       "      <td>19.00</td>\n",
       "      <td>12.00</td>\n",
       "      <td>26.00</td>\n",
       "      <td>NaN</td>\n",
       "      <td>54.00</td>\n",
       "    </tr>\n",
       "    <tr>\n",
       "      <th>84</th>\n",
       "      <td>Account Manager 86</td>\n",
       "      <td>190</td>\n",
       "      <td>873</td>\n",
       "      <td>374</td>\n",
       "      <td>69.00</td>\n",
       "      <td>57.00</td>\n",
       "      <td>33.00</td>\n",
       "      <td>5.00</td>\n",
       "      <td>210.00</td>\n",
       "    </tr>\n",
       "    <tr>\n",
       "      <th>85</th>\n",
       "      <td>Account Manager 87</td>\n",
       "      <td>288</td>\n",
       "      <td>655</td>\n",
       "      <td>259</td>\n",
       "      <td>28.00</td>\n",
       "      <td>75.00</td>\n",
       "      <td>58.00</td>\n",
       "      <td>1.00</td>\n",
       "      <td>97.00</td>\n",
       "    </tr>\n",
       "    <tr>\n",
       "      <th>86</th>\n",
       "      <td>Account Manager 9</td>\n",
       "      <td>194</td>\n",
       "      <td>1026</td>\n",
       "      <td>36</td>\n",
       "      <td>15.00</td>\n",
       "      <td>1.00</td>\n",
       "      <td>4.00</td>\n",
       "      <td>NaN</td>\n",
       "      <td>16.00</td>\n",
       "    </tr>\n",
       "  </tbody>\n",
       "</table>\n",
       "<p>87 rows × 9 columns</p>\n",
       "</div>"
      ],
      "text/plain": [
       "       account_manager  unique_partners  count_contacts  successful_contact  \\\n",
       "0    Account Manager 1              217             984                  78   \n",
       "1   Account Manager 10              279            1010                 147   \n",
       "2   Account Manager 11              144             605                 189   \n",
       "3   Account Manager 12              195             652                 287   \n",
       "4   Account Manager 13              144             701                 162   \n",
       "..                 ...              ...             ...                 ...   \n",
       "82  Account Manager 84              592            1689                 185   \n",
       "83  Account Manager 85              192             304                 111   \n",
       "84  Account Manager 86              190             873                 374   \n",
       "85  Account Manager 87              288             655                 259   \n",
       "86   Account Manager 9              194            1026                  36   \n",
       "\n",
       "    partner_not_interested  partner_interested  product_implemented  \\\n",
       "0                    43.00                4.00                26.00   \n",
       "1                    22.00               15.00                51.00   \n",
       "2                    84.00                8.00                38.00   \n",
       "3                    46.00               14.00                91.00   \n",
       "4                    79.00               13.00                17.00   \n",
       "..                     ...                 ...                  ...   \n",
       "82                   29.00              116.00                32.00   \n",
       "83                   19.00               12.00                26.00   \n",
       "84                   69.00               57.00                33.00   \n",
       "85                   28.00               75.00                58.00   \n",
       "86                   15.00                1.00                 4.00   \n",
       "\n",
       "    awaiting_property_decision  product_offered_property  \n",
       "0                         5.00                       NaN  \n",
       "1                         6.00                     53.00  \n",
       "2                        14.00                     45.00  \n",
       "3                         9.00                    127.00  \n",
       "4                         4.00                     49.00  \n",
       "..                         ...                       ...  \n",
       "82                        8.00                       NaN  \n",
       "83                         NaN                     54.00  \n",
       "84                        5.00                    210.00  \n",
       "85                        1.00                     97.00  \n",
       "86                         NaN                     16.00  \n",
       "\n",
       "[87 rows x 9 columns]"
      ]
     },
     "execution_count": 50,
     "metadata": {},
     "output_type": "execute_result"
    }
   ],
   "source": [
    "query = \"\"\" \n",
    "SELECT \n",
    "    account_manager,\n",
    "    unique_partners,\n",
    "    count_contacts,\n",
    "    successful_contact,\n",
    "    \n",
    "    partner_not_interested,\n",
    "    partner_interested,\n",
    "    product_implemented,\n",
    "    awaiting_property_decision,\n",
    "    \n",
    "    product_offered_property\n",
    "FROM (\n",
    "SELECT \n",
    "    account_manager,\n",
    "    COUNT(contact_id) as count_contacts,\n",
    "    COUNT(DISTINCT property_id) as unique_partners,\n",
    "    COUNT(product_status) as successful_contact,\n",
    "    SUM(CASE WHEN product_status = 'Property is not Interested' THEN 1 END) partner_not_interested,\n",
    "    SUM(CASE WHEN product_status = 'Property is Interested' THEN 1 END) partner_interested,\n",
    "    SUM(CASE WHEN product_status = 'Product Implemented' THEN 1 END) product_implemented,\n",
    "    SUM(CASE WHEN product_status = 'Product Offered to Property' THEN 1 END) product_offered_property,\n",
    "    SUM(CASE WHEN product_status = 'Awaiting Property Decision' THEN 1 END) awaiting_property_decision\n",
    "FROM df_operational_data\n",
    "GROUP BY account_manager\n",
    ")t\n",
    "\"\"\"\n",
    "sqldf(query)"
   ]
  },
  {
   "cell_type": "markdown",
   "id": "28d9805f",
   "metadata": {},
   "source": [
    "**And I noticed, that sometimes Manager 5 tried to offer Products to the Partners, that already choosen it before.**\n",
    "It could be ok, if the Product is seasonal and has restricted time of use, but if no - it is the waste of Manager's time"
   ]
  },
  {
   "cell_type": "code",
   "execution_count": 51,
   "id": "1f916dc5",
   "metadata": {},
   "outputs": [
    {
     "data": {
      "text/html": [
       "<div>\n",
       "<style scoped>\n",
       "    .dataframe tbody tr th:only-of-type {\n",
       "        vertical-align: middle;\n",
       "    }\n",
       "\n",
       "    .dataframe tbody tr th {\n",
       "        vertical-align: top;\n",
       "    }\n",
       "\n",
       "    .dataframe thead th {\n",
       "        text-align: right;\n",
       "    }\n",
       "</style>\n",
       "<table border=\"1\" class=\"dataframe\">\n",
       "  <thead>\n",
       "    <tr style=\"text-align: right;\">\n",
       "      <th></th>\n",
       "      <th>property_id</th>\n",
       "      <th>cnt</th>\n",
       "    </tr>\n",
       "  </thead>\n",
       "  <tbody>\n",
       "    <tr>\n",
       "      <th>0</th>\n",
       "      <td>2751757</td>\n",
       "      <td>11</td>\n",
       "    </tr>\n",
       "    <tr>\n",
       "      <th>1</th>\n",
       "      <td>6033260</td>\n",
       "      <td>11</td>\n",
       "    </tr>\n",
       "    <tr>\n",
       "      <th>2</th>\n",
       "      <td>1990175</td>\n",
       "      <td>10</td>\n",
       "    </tr>\n",
       "    <tr>\n",
       "      <th>3</th>\n",
       "      <td>4464256</td>\n",
       "      <td>10</td>\n",
       "    </tr>\n",
       "    <tr>\n",
       "      <th>4</th>\n",
       "      <td>2824966</td>\n",
       "      <td>10</td>\n",
       "    </tr>\n",
       "  </tbody>\n",
       "</table>\n",
       "</div>"
      ],
      "text/plain": [
       "   property_id  cnt\n",
       "0      2751757   11\n",
       "1      6033260   11\n",
       "2      1990175   10\n",
       "3      4464256   10\n",
       "4      2824966   10"
      ]
     },
     "execution_count": 51,
     "metadata": {},
     "output_type": "execute_result"
    }
   ],
   "source": [
    "df_check = df_operational_data[df_operational_data['account_manager'] == 'Account Manager 5'] \\\n",
    "    .reset_index(drop = True)\n",
    "\n",
    "df_check.groupby('property_id').size().reset_index(name='cnt') \\\n",
    "    .sort_values(by='cnt', ignore_index=True, ascending=False)[:5]"
   ]
  },
  {
   "cell_type": "code",
   "execution_count": 52,
   "id": "af835672",
   "metadata": {},
   "outputs": [
    {
     "data": {
      "text/html": [
       "<div>\n",
       "<style scoped>\n",
       "    .dataframe tbody tr th:only-of-type {\n",
       "        vertical-align: middle;\n",
       "    }\n",
       "\n",
       "    .dataframe tbody tr th {\n",
       "        vertical-align: top;\n",
       "    }\n",
       "\n",
       "    .dataframe thead th {\n",
       "        text-align: right;\n",
       "    }\n",
       "</style>\n",
       "<table border=\"1\" class=\"dataframe\">\n",
       "  <thead>\n",
       "    <tr style=\"text-align: right;\">\n",
       "      <th></th>\n",
       "      <th>property_id</th>\n",
       "      <th>contact_id</th>\n",
       "      <th>contact_date</th>\n",
       "      <th>product</th>\n",
       "      <th>product_status</th>\n",
       "      <th>contact_channel</th>\n",
       "      <th>office</th>\n",
       "      <th>region</th>\n",
       "      <th>account_manager</th>\n",
       "    </tr>\n",
       "  </thead>\n",
       "  <tbody>\n",
       "    <tr>\n",
       "      <th>0</th>\n",
       "      <td>2751757</td>\n",
       "      <td>13205799</td>\n",
       "      <td>2021-08-05</td>\n",
       "      <td>Product 1</td>\n",
       "      <td>Property is not Interested</td>\n",
       "      <td>Phone</td>\n",
       "      <td>Tokyo</td>\n",
       "      <td>APAC</td>\n",
       "      <td>Account Manager 5</td>\n",
       "    </tr>\n",
       "    <tr>\n",
       "      <th>1</th>\n",
       "      <td>2751757</td>\n",
       "      <td>12147798</td>\n",
       "      <td>2021-05-19</td>\n",
       "      <td>Product 1</td>\n",
       "      <td>Property is not Interested</td>\n",
       "      <td>Phone</td>\n",
       "      <td>Tokyo</td>\n",
       "      <td>APAC</td>\n",
       "      <td>Account Manager 5</td>\n",
       "    </tr>\n",
       "    <tr>\n",
       "      <th>2</th>\n",
       "      <td>2751757</td>\n",
       "      <td>11795205</td>\n",
       "      <td>2021-04-25</td>\n",
       "      <td>Product 1</td>\n",
       "      <td>Product Offered to Property</td>\n",
       "      <td>Phone</td>\n",
       "      <td>Tokyo</td>\n",
       "      <td>APAC</td>\n",
       "      <td>Account Manager 5</td>\n",
       "    </tr>\n",
       "  </tbody>\n",
       "</table>\n",
       "</div>"
      ],
      "text/plain": [
       "   property_id  contact_id contact_date    product  \\\n",
       "0      2751757    13205799   2021-08-05  Product 1   \n",
       "1      2751757    12147798   2021-05-19  Product 1   \n",
       "2      2751757    11795205   2021-04-25  Product 1   \n",
       "\n",
       "                product_status contact_channel office region  \\\n",
       "0   Property is not Interested           Phone  Tokyo   APAC   \n",
       "1   Property is not Interested           Phone  Tokyo   APAC   \n",
       "2  Product Offered to Property           Phone  Tokyo   APAC   \n",
       "\n",
       "     account_manager  \n",
       "0  Account Manager 5  \n",
       "1  Account Manager 5  \n",
       "2  Account Manager 5  "
      ]
     },
     "execution_count": 52,
     "metadata": {},
     "output_type": "execute_result"
    }
   ],
   "source": [
    "df_check[(df_check['property_id'] == 2751757) & (df_check['product'] == 'Product 1')] \\\n",
    "    .sort_values(by='contact_date', ignore_index=True, ascending=False)"
   ]
  },
  {
   "cell_type": "code",
   "execution_count": 53,
   "id": "3e8c7a4e",
   "metadata": {},
   "outputs": [
    {
     "data": {
      "text/html": [
       "<div>\n",
       "<style scoped>\n",
       "    .dataframe tbody tr th:only-of-type {\n",
       "        vertical-align: middle;\n",
       "    }\n",
       "\n",
       "    .dataframe tbody tr th {\n",
       "        vertical-align: top;\n",
       "    }\n",
       "\n",
       "    .dataframe thead th {\n",
       "        text-align: right;\n",
       "    }\n",
       "</style>\n",
       "<table border=\"1\" class=\"dataframe\">\n",
       "  <thead>\n",
       "    <tr style=\"text-align: right;\">\n",
       "      <th></th>\n",
       "      <th>property_id</th>\n",
       "      <th>contact_id</th>\n",
       "      <th>contact_date</th>\n",
       "      <th>product</th>\n",
       "      <th>product_status</th>\n",
       "      <th>contact_channel</th>\n",
       "      <th>office</th>\n",
       "      <th>region</th>\n",
       "      <th>account_manager</th>\n",
       "    </tr>\n",
       "  </thead>\n",
       "  <tbody>\n",
       "    <tr>\n",
       "      <th>0</th>\n",
       "      <td>2751757</td>\n",
       "      <td>13205799</td>\n",
       "      <td>2021-08-05</td>\n",
       "      <td>Product 4</td>\n",
       "      <td>Property is not Interested</td>\n",
       "      <td>Phone</td>\n",
       "      <td>Tokyo</td>\n",
       "      <td>APAC</td>\n",
       "      <td>Account Manager 5</td>\n",
       "    </tr>\n",
       "    <tr>\n",
       "      <th>1</th>\n",
       "      <td>2751757</td>\n",
       "      <td>13165423</td>\n",
       "      <td>2021-08-03</td>\n",
       "      <td>Product 4</td>\n",
       "      <td>Property is not Interested</td>\n",
       "      <td>Messaging</td>\n",
       "      <td>Tokyo</td>\n",
       "      <td>APAC</td>\n",
       "      <td>Account Manager 5</td>\n",
       "    </tr>\n",
       "    <tr>\n",
       "      <th>2</th>\n",
       "      <td>2751757</td>\n",
       "      <td>12147798</td>\n",
       "      <td>2021-05-19</td>\n",
       "      <td>Product 4</td>\n",
       "      <td>Property is not Interested</td>\n",
       "      <td>Phone</td>\n",
       "      <td>Tokyo</td>\n",
       "      <td>APAC</td>\n",
       "      <td>Account Manager 5</td>\n",
       "    </tr>\n",
       "    <tr>\n",
       "      <th>3</th>\n",
       "      <td>2751757</td>\n",
       "      <td>11795205</td>\n",
       "      <td>2021-04-25</td>\n",
       "      <td>Product 4</td>\n",
       "      <td>Product Offered to Property</td>\n",
       "      <td>Phone</td>\n",
       "      <td>Tokyo</td>\n",
       "      <td>APAC</td>\n",
       "      <td>Account Manager 5</td>\n",
       "    </tr>\n",
       "  </tbody>\n",
       "</table>\n",
       "</div>"
      ],
      "text/plain": [
       "   property_id  contact_id contact_date    product  \\\n",
       "0      2751757    13205799   2021-08-05  Product 4   \n",
       "1      2751757    13165423   2021-08-03  Product 4   \n",
       "2      2751757    12147798   2021-05-19  Product 4   \n",
       "3      2751757    11795205   2021-04-25  Product 4   \n",
       "\n",
       "                product_status contact_channel office region  \\\n",
       "0   Property is not Interested           Phone  Tokyo   APAC   \n",
       "1   Property is not Interested       Messaging  Tokyo   APAC   \n",
       "2   Property is not Interested           Phone  Tokyo   APAC   \n",
       "3  Product Offered to Property           Phone  Tokyo   APAC   \n",
       "\n",
       "     account_manager  \n",
       "0  Account Manager 5  \n",
       "1  Account Manager 5  \n",
       "2  Account Manager 5  \n",
       "3  Account Manager 5  "
      ]
     },
     "execution_count": 53,
     "metadata": {},
     "output_type": "execute_result"
    }
   ],
   "source": [
    "df_check[(df_check['property_id'] == 2751757) & (df_check['product'] == 'Product 4')] \\\n",
    "     .sort_values(by='contact_date', ignore_index=True, ascending=False)"
   ]
  },
  {
   "cell_type": "code",
   "execution_count": null,
   "id": "9fa92f7d",
   "metadata": {},
   "outputs": [],
   "source": []
  }
 ],
 "metadata": {
  "kernelspec": {
   "display_name": "Python 3 (ipykernel)",
   "language": "python",
   "name": "python3"
  },
  "language_info": {
   "codemirror_mode": {
    "name": "ipython",
    "version": 3
   },
   "file_extension": ".py",
   "mimetype": "text/x-python",
   "name": "python",
   "nbconvert_exporter": "python",
   "pygments_lexer": "ipython3",
   "version": "3.11.5"
  },
  "varInspector": {
   "cols": {
    "lenName": 16,
    "lenType": 16,
    "lenVar": 40
   },
   "kernels_config": {
    "python": {
     "delete_cmd_postfix": "",
     "delete_cmd_prefix": "del ",
     "library": "var_list.py",
     "varRefreshCmd": "print(var_dic_list())"
    },
    "r": {
     "delete_cmd_postfix": ") ",
     "delete_cmd_prefix": "rm(",
     "library": "var_list.r",
     "varRefreshCmd": "cat(var_dic_list()) "
    }
   },
   "types_to_exclude": [
    "module",
    "function",
    "builtin_function_or_method",
    "instance",
    "_Feature"
   ],
   "window_display": false
  }
 },
 "nbformat": 4,
 "nbformat_minor": 5
}

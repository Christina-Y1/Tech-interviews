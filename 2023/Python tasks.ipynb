{
 "cells": [
  {
   "cell_type": "markdown",
   "id": "7350d706",
   "metadata": {},
   "source": [
    "**Part 1 - Google Merchant Store**"
   ]
  },
  {
   "cell_type": "markdown",
   "id": "00a1f063",
   "metadata": {},
   "source": [
    "1. Get access to dataset https://developers.google.com/analytics/bigquery/web-ecommerce-demo-dataset\n",
    "2. Please provide SQL queries that solve for the following:\n",
    "    1. How many sessions does each user create?\n",
    "    2. How much time does it take on average to purchase an item? How this time is distributed across users/items?\n",
    "    3. What’s the overall conversion rate for transactions by device.category and device.mobile_brand_name?\n",
    "    4. What is the most popular item for organic traffic for desktop platform?\n",
    "3. Please create a dashboard that allows users to view the most popular items by traffic source and platform\n",
    "4. Please provide any insight from data, that seems most interesting to you"
   ]
  },
  {
   "cell_type": "markdown",
   "id": "ac610d69",
   "metadata": {},
   "source": [
    "**Part 2 - Python tasks**"
   ]
  },
  {
   "cell_type": "markdown",
   "id": "f55d9c21",
   "metadata": {},
   "source": [
    "1. Please write an example of python code, that checks, if the string is palindrome\n",
    "\n",
    "- ”**abcba”** is palindrome.\n",
    "\n",
    "- **”abca”** is not a palindrome."
   ]
  },
  {
   "cell_type": "code",
   "execution_count": 4,
   "id": "adea0eac",
   "metadata": {},
   "outputs": [
    {
     "name": "stdout",
     "output_type": "stream",
     "text": [
      "abcba\n",
      "YES\n",
      "None\n"
     ]
    }
   ],
   "source": [
    "# объявление функции\n",
    "def palindrome(s):\n",
    "    \n",
    "    if s == s[::-1]:\n",
    "        print('YES')\n",
    "    else:\n",
    "        print('NO')\n",
    "        \n",
    "# считываем данные\n",
    "a = input()\n",
    "\n",
    "# вызываем функцию\n",
    "print(palindrome(a))"
   ]
  },
  {
   "cell_type": "code",
   "execution_count": 3,
   "id": "43bed057",
   "metadata": {},
   "outputs": [
    {
     "name": "stdout",
     "output_type": "stream",
     "text": [
      "abcba\n",
      "YES\n"
     ]
    }
   ],
   "source": [
    "# объявление функции\n",
    "def palindrome(s):\n",
    "    \n",
    "    i = 0\n",
    "    j = len(s) - 1\n",
    "    is_palindrom = True\n",
    "\n",
    "    while i < j:\n",
    "        if s[i] != s[j]:\n",
    "            is_palindrom = False\n",
    "        i += 1\n",
    "        j -= 1\n",
    "    if is_palindrom:\n",
    "        print('YES')\n",
    "    else:\n",
    "        print('NO')\n",
    "        \n",
    "# считываем данные\n",
    "s = input()\n",
    "\n",
    "# вызываем функцию\n",
    "palindrome(a)"
   ]
  },
  {
   "cell_type": "markdown",
   "id": "78e98c0e",
   "metadata": {},
   "source": [
    "2. Please write an example of python code, that calculates the longest sequence of equal symbols. \n",
    "\n",
    "- ”**abbbcbba”** - the longest sequence is **b** in the length of 3. \n",
    "- **”abbbccccaaa”** - the longest sequence is **c** in the length of 4."
   ]
  },
  {
   "cell_type": "code",
   "execution_count": 1,
   "id": "00b58635",
   "metadata": {},
   "outputs": [
    {
     "name": "stdout",
     "output_type": "stream",
     "text": [
      "c\n"
     ]
    }
   ],
   "source": [
    "s = 'abbbccccaaa' \n",
    "\n",
    "def longest(s):\n",
    "    max_counter = 0\n",
    "    max_char = None\n",
    "    cnt = 1\n",
    "\n",
    "    for i in range(len(s) - 1):\n",
    "        if s[i] == s[i + 1]:\n",
    "            cnt += 1\n",
    "            if cnt > max_counter:\n",
    "                max_counter = cnt\n",
    "                max_char = s[i]\n",
    "        else:\n",
    "            cnt = 1\n",
    "\n",
    "    return max_char\n",
    "\n",
    "print(longest(s))"
   ]
  }
 ],
 "metadata": {
  "kernelspec": {
   "display_name": "Python 3 (ipykernel)",
   "language": "python",
   "name": "python3"
  },
  "language_info": {
   "codemirror_mode": {
    "name": "ipython",
    "version": 3
   },
   "file_extension": ".py",
   "mimetype": "text/x-python",
   "name": "python",
   "nbconvert_exporter": "python",
   "pygments_lexer": "ipython3",
   "version": "3.10.9"
  }
 },
 "nbformat": 4,
 "nbformat_minor": 5
}
